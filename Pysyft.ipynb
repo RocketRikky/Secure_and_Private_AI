{
  "nbformat": 4,
  "nbformat_minor": 0,
  "metadata": {
    "colab": {
      "name": "Pysyft",
      "version": "0.3.2",
      "provenance": [],
      "collapsed_sections": [],
      "include_colab_link": true
    },
    "kernelspec": {
      "name": "python3",
      "display_name": "Python 3"
    }
  },
  "cells": [
    {
      "cell_type": "markdown",
      "metadata": {
        "id": "view-in-github",
        "colab_type": "text"
      },
      "source": [
        "<a href=\"https://colab.research.google.com/github/RocketRikky/Secure_and_Private_AI/blob/master/Pysyft.ipynb\" target=\"_parent\"><img src=\"https://colab.research.google.com/assets/colab-badge.svg\" alt=\"Open In Colab\"/></a>"
      ]
    },
    {
      "cell_type": "code",
      "metadata": {
        "id": "O8BAeB7JtzP4",
        "colab_type": "code",
        "colab": {}
      },
      "source": [
        "import torch as th"
      ],
      "execution_count": 0,
      "outputs": []
    },
    {
      "cell_type": "code",
      "metadata": {
        "id": "955OxOqot3a1",
        "colab_type": "code",
        "outputId": "8349553b-1ea4-4774-9dc5-88f754a54235",
        "colab": {
          "base_uri": "https://localhost:8080/",
          "height": 34
        }
      },
      "source": [
        "x = th.tensor([1,2,3,4,5])\n",
        "x"
      ],
      "execution_count": 141,
      "outputs": [
        {
          "output_type": "execute_result",
          "data": {
            "text/plain": [
              "tensor([1, 2, 3, 4, 5])"
            ]
          },
          "metadata": {
            "tags": []
          },
          "execution_count": 141
        }
      ]
    },
    {
      "cell_type": "code",
      "metadata": {
        "id": "i4j0fY4Zt8aa",
        "colab_type": "code",
        "colab": {}
      },
      "source": [
        "y = x + x"
      ],
      "execution_count": 0,
      "outputs": []
    },
    {
      "cell_type": "code",
      "metadata": {
        "id": "MMFyRpxHt-Gu",
        "colab_type": "code",
        "outputId": "ff3524a5-956a-46a0-bf27-8ab79aac0161",
        "colab": {
          "base_uri": "https://localhost:8080/",
          "height": 34
        }
      },
      "source": [
        "y"
      ],
      "execution_count": 143,
      "outputs": [
        {
          "output_type": "execute_result",
          "data": {
            "text/plain": [
              "tensor([ 2,  4,  6,  8, 10])"
            ]
          },
          "metadata": {
            "tags": []
          },
          "execution_count": 143
        }
      ]
    },
    {
      "cell_type": "code",
      "metadata": {
        "id": "Fvvy6OPmt-aP",
        "colab_type": "code",
        "colab": {}
      },
      "source": [
        ""
      ],
      "execution_count": 0,
      "outputs": []
    },
    {
      "cell_type": "code",
      "metadata": {
        "id": "J2vlh3KquAUv",
        "colab_type": "code",
        "outputId": "2f626a28-6125-4cd9-f92b-879e10413c02",
        "colab": {
          "base_uri": "https://localhost:8080/",
          "height": 785
        }
      },
      "source": [
        "!pip install syft"
      ],
      "execution_count": 144,
      "outputs": [
        {
          "output_type": "stream",
          "text": [
            "Requirement already satisfied: syft in /usr/local/lib/python3.6/dist-packages (0.1.25a1)\n",
            "Requirement already satisfied: websocket-client>=0.56.0 in /usr/local/lib/python3.6/dist-packages (from syft) (0.56.0)\n",
            "Requirement already satisfied: torch==1.1 in /usr/local/lib/python3.6/dist-packages (from syft) (1.1.0)\n",
            "Requirement already satisfied: torchvision==0.3.0 in /usr/local/lib/python3.6/dist-packages (from syft) (0.3.0)\n",
            "Requirement already satisfied: tblib>=1.4.0 in /usr/local/lib/python3.6/dist-packages (from syft) (1.4.0)\n",
            "Requirement already satisfied: tf-encrypted!=0.5.7,>=0.5.4 in /usr/local/lib/python3.6/dist-packages (from syft) (0.5.8)\n",
            "Requirement already satisfied: numpy>=1.14.0 in /usr/local/lib/python3.6/dist-packages (from syft) (1.16.4)\n",
            "Requirement already satisfied: msgpack>=0.6.1 in /usr/local/lib/python3.6/dist-packages (from syft) (0.6.1)\n",
            "Requirement already satisfied: websockets>=7.0 in /usr/local/lib/python3.6/dist-packages (from syft) (8.0.2)\n",
            "Requirement already satisfied: zstd>=1.4.0.0 in /usr/local/lib/python3.6/dist-packages (from syft) (1.4.3.2)\n",
            "Requirement already satisfied: Flask>=1.0.2 in /usr/local/lib/python3.6/dist-packages (from syft) (1.1.1)\n",
            "Requirement already satisfied: scikit-learn>=0.21.0 in /usr/local/lib/python3.6/dist-packages (from syft) (0.21.3)\n",
            "Requirement already satisfied: flask-socketio>=3.3.2 in /usr/local/lib/python3.6/dist-packages (from syft) (4.2.1)\n",
            "Requirement already satisfied: lz4>=2.1.6 in /usr/local/lib/python3.6/dist-packages (from syft) (2.1.10)\n",
            "Requirement already satisfied: six in /usr/local/lib/python3.6/dist-packages (from websocket-client>=0.56.0->syft) (1.12.0)\n",
            "Requirement already satisfied: pillow>=4.1.1 in /usr/local/lib/python3.6/dist-packages (from torchvision==0.3.0->syft) (4.3.0)\n",
            "Requirement already satisfied: pyyaml>=5.1 in /usr/local/lib/python3.6/dist-packages (from tf-encrypted!=0.5.7,>=0.5.4->syft) (5.1.2)\n",
            "Requirement already satisfied: tensorflow<2,>=1.12.0 in /usr/local/lib/python3.6/dist-packages (from tf-encrypted!=0.5.7,>=0.5.4->syft) (1.14.0)\n",
            "Requirement already satisfied: click>=5.1 in /usr/local/lib/python3.6/dist-packages (from Flask>=1.0.2->syft) (7.0)\n",
            "Requirement already satisfied: Jinja2>=2.10.1 in /usr/local/lib/python3.6/dist-packages (from Flask>=1.0.2->syft) (2.10.1)\n",
            "Requirement already satisfied: itsdangerous>=0.24 in /usr/local/lib/python3.6/dist-packages (from Flask>=1.0.2->syft) (1.1.0)\n",
            "Requirement already satisfied: Werkzeug>=0.15 in /usr/local/lib/python3.6/dist-packages (from Flask>=1.0.2->syft) (0.15.5)\n",
            "Requirement already satisfied: joblib>=0.11 in /usr/local/lib/python3.6/dist-packages (from scikit-learn>=0.21.0->syft) (0.13.2)\n",
            "Requirement already satisfied: scipy>=0.17.0 in /usr/local/lib/python3.6/dist-packages (from scikit-learn>=0.21.0->syft) (1.3.1)\n",
            "Requirement already satisfied: python-socketio>=4.3.0 in /usr/local/lib/python3.6/dist-packages (from flask-socketio>=3.3.2->syft) (4.3.1)\n",
            "Requirement already satisfied: olefile in /usr/local/lib/python3.6/dist-packages (from pillow>=4.1.1->torchvision==0.3.0->syft) (0.46)\n",
            "Requirement already satisfied: wheel>=0.26 in /usr/local/lib/python3.6/dist-packages (from tensorflow<2,>=1.12.0->tf-encrypted!=0.5.7,>=0.5.4->syft) (0.33.6)\n",
            "Requirement already satisfied: tensorflow-estimator<1.15.0rc0,>=1.14.0rc0 in /usr/local/lib/python3.6/dist-packages (from tensorflow<2,>=1.12.0->tf-encrypted!=0.5.7,>=0.5.4->syft) (1.14.0)\n",
            "Requirement already satisfied: gast>=0.2.0 in /usr/local/lib/python3.6/dist-packages (from tensorflow<2,>=1.12.0->tf-encrypted!=0.5.7,>=0.5.4->syft) (0.2.2)\n",
            "Requirement already satisfied: keras-preprocessing>=1.0.5 in /usr/local/lib/python3.6/dist-packages (from tensorflow<2,>=1.12.0->tf-encrypted!=0.5.7,>=0.5.4->syft) (1.1.0)\n",
            "Requirement already satisfied: tensorboard<1.15.0,>=1.14.0 in /usr/local/lib/python3.6/dist-packages (from tensorflow<2,>=1.12.0->tf-encrypted!=0.5.7,>=0.5.4->syft) (1.14.0)\n",
            "Requirement already satisfied: astor>=0.6.0 in /usr/local/lib/python3.6/dist-packages (from tensorflow<2,>=1.12.0->tf-encrypted!=0.5.7,>=0.5.4->syft) (0.8.0)\n",
            "Requirement already satisfied: grpcio>=1.8.6 in /usr/local/lib/python3.6/dist-packages (from tensorflow<2,>=1.12.0->tf-encrypted!=0.5.7,>=0.5.4->syft) (1.15.0)\n",
            "Requirement already satisfied: google-pasta>=0.1.6 in /usr/local/lib/python3.6/dist-packages (from tensorflow<2,>=1.12.0->tf-encrypted!=0.5.7,>=0.5.4->syft) (0.1.7)\n",
            "Requirement already satisfied: keras-applications>=1.0.6 in /usr/local/lib/python3.6/dist-packages (from tensorflow<2,>=1.12.0->tf-encrypted!=0.5.7,>=0.5.4->syft) (1.0.8)\n",
            "Requirement already satisfied: wrapt>=1.11.1 in /usr/local/lib/python3.6/dist-packages (from tensorflow<2,>=1.12.0->tf-encrypted!=0.5.7,>=0.5.4->syft) (1.11.2)\n",
            "Requirement already satisfied: termcolor>=1.1.0 in /usr/local/lib/python3.6/dist-packages (from tensorflow<2,>=1.12.0->tf-encrypted!=0.5.7,>=0.5.4->syft) (1.1.0)\n",
            "Requirement already satisfied: absl-py>=0.7.0 in /usr/local/lib/python3.6/dist-packages (from tensorflow<2,>=1.12.0->tf-encrypted!=0.5.7,>=0.5.4->syft) (0.7.1)\n",
            "Requirement already satisfied: protobuf>=3.6.1 in /usr/local/lib/python3.6/dist-packages (from tensorflow<2,>=1.12.0->tf-encrypted!=0.5.7,>=0.5.4->syft) (3.7.1)\n",
            "Requirement already satisfied: MarkupSafe>=0.23 in /usr/local/lib/python3.6/dist-packages (from Jinja2>=2.10.1->Flask>=1.0.2->syft) (1.1.1)\n",
            "Requirement already satisfied: python-engineio>=3.9.0 in /usr/local/lib/python3.6/dist-packages (from python-socketio>=4.3.0->flask-socketio>=3.3.2->syft) (3.9.3)\n",
            "Requirement already satisfied: markdown>=2.6.8 in /usr/local/lib/python3.6/dist-packages (from tensorboard<1.15.0,>=1.14.0->tensorflow<2,>=1.12.0->tf-encrypted!=0.5.7,>=0.5.4->syft) (3.1.1)\n",
            "Requirement already satisfied: setuptools>=41.0.0 in /usr/local/lib/python3.6/dist-packages (from tensorboard<1.15.0,>=1.14.0->tensorflow<2,>=1.12.0->tf-encrypted!=0.5.7,>=0.5.4->syft) (41.2.0)\n",
            "Requirement already satisfied: h5py in /usr/local/lib/python3.6/dist-packages (from keras-applications>=1.0.6->tensorflow<2,>=1.12.0->tf-encrypted!=0.5.7,>=0.5.4->syft) (2.8.0)\n"
          ],
          "name": "stdout"
        }
      ]
    },
    {
      "cell_type": "code",
      "metadata": {
        "id": "i-LBnPJcuDa3",
        "colab_type": "code",
        "colab": {}
      },
      "source": [
        "import syft as sy"
      ],
      "execution_count": 0,
      "outputs": []
    },
    {
      "cell_type": "code",
      "metadata": {
        "id": "sRHcO9hwuMba",
        "colab_type": "code",
        "outputId": "42beeefd-8b0e-4a75-de92-03790612ca77",
        "colab": {
          "base_uri": "https://localhost:8080/",
          "height": 34
        }
      },
      "source": [
        "hook = sy.TorchHook(th)"
      ],
      "execution_count": 146,
      "outputs": [
        {
          "output_type": "stream",
          "text": [
            "W0902 07:04:00.824199 139747537282944 hook.py:102] Torch was already hooked... skipping hooking process\n"
          ],
          "name": "stderr"
        }
      ]
    },
    {
      "cell_type": "code",
      "metadata": {
        "id": "Fd56evtauQD5",
        "colab_type": "code",
        "outputId": "ee6d27fd-2731-4fa7-b347-18cb687aad9d",
        "colab": {
          "base_uri": "https://localhost:8080/",
          "height": 34
        }
      },
      "source": [
        "th.tensor([1,2,3,4,5])"
      ],
      "execution_count": 147,
      "outputs": [
        {
          "output_type": "execute_result",
          "data": {
            "text/plain": [
              "tensor([1, 2, 3, 4, 5])"
            ]
          },
          "metadata": {
            "tags": []
          },
          "execution_count": 147
        }
      ]
    },
    {
      "cell_type": "code",
      "metadata": {
        "id": "SpFuLF0kuS88",
        "colab_type": "code",
        "colab": {}
      },
      "source": [
        ""
      ],
      "execution_count": 0,
      "outputs": []
    },
    {
      "cell_type": "code",
      "metadata": {
        "id": "BXxRjoUJueFQ",
        "colab_type": "code",
        "colab": {}
      },
      "source": [
        ""
      ],
      "execution_count": 0,
      "outputs": []
    },
    {
      "cell_type": "markdown",
      "metadata": {
        "id": "HTW2rWStufpN",
        "colab_type": "text"
      },
      "source": [
        "Basic Remote Execution in Pysyft"
      ]
    },
    {
      "cell_type": "code",
      "metadata": {
        "id": "6wb3hafPueBD",
        "colab_type": "code",
        "colab": {}
      },
      "source": [
        "bob = sy.VirtualWorker(hook, id=\"bob\")"
      ],
      "execution_count": 0,
      "outputs": []
    },
    {
      "cell_type": "code",
      "metadata": {
        "id": "AmbPmiodune9",
        "colab_type": "code",
        "outputId": "d6826340-b056-4345-f710-92f3962c3319",
        "colab": {
          "base_uri": "https://localhost:8080/",
          "height": 85
        }
      },
      "source": [
        "bob._objects"
      ],
      "execution_count": 149,
      "outputs": [
        {
          "output_type": "execute_result",
          "data": {
            "text/plain": [
              "{17775482007: tensor([[-0.0454],\n",
              "         [ 0.0295]], grad_fn=<AddmmBackward>), 20368643338: tensor([[0., 0.],\n",
              "         [0., 1.]], requires_grad=True), 36035447383: tensor([1, 2, 3, 4, 5]), 50613073430: tensor([[0.],\n",
              "         [0.]], requires_grad=True)}"
            ]
          },
          "metadata": {
            "tags": []
          },
          "execution_count": 149
        }
      ]
    },
    {
      "cell_type": "code",
      "metadata": {
        "id": "MdSP35KhusJr",
        "colab_type": "code",
        "colab": {}
      },
      "source": [
        "x = th.tensor([1,2,3,4,5])"
      ],
      "execution_count": 0,
      "outputs": []
    },
    {
      "cell_type": "code",
      "metadata": {
        "id": "uFMHrewjuukq",
        "colab_type": "code",
        "colab": {}
      },
      "source": [
        "x = x.send(bob)"
      ],
      "execution_count": 0,
      "outputs": []
    },
    {
      "cell_type": "code",
      "metadata": {
        "id": "ybUbsD6buwk4",
        "colab_type": "code",
        "outputId": "40394e82-b605-4147-cb5c-eb79328c2c06",
        "colab": {
          "base_uri": "https://localhost:8080/",
          "height": 85
        }
      },
      "source": [
        "bob._objects"
      ],
      "execution_count": 152,
      "outputs": [
        {
          "output_type": "execute_result",
          "data": {
            "text/plain": [
              "{17775482007: tensor([[-0.0454],\n",
              "         [ 0.0295]], grad_fn=<AddmmBackward>), 20368643338: tensor([[0., 0.],\n",
              "         [0., 1.]], requires_grad=True), 36035447383: tensor([1, 2, 3, 4, 5]), 50613073430: tensor([[0.],\n",
              "         [0.]], requires_grad=True), 72430898549: tensor([1, 2, 3, 4, 5])}"
            ]
          },
          "metadata": {
            "tags": []
          },
          "execution_count": 152
        }
      ]
    },
    {
      "cell_type": "code",
      "metadata": {
        "id": "VI5tsjLkuyPH",
        "colab_type": "code",
        "outputId": "b3834727-08c3-4917-9366-ef762c13dbad",
        "colab": {
          "base_uri": "https://localhost:8080/",
          "height": 34
        }
      },
      "source": [
        "x.location == bob"
      ],
      "execution_count": 153,
      "outputs": [
        {
          "output_type": "execute_result",
          "data": {
            "text/plain": [
              "True"
            ]
          },
          "metadata": {
            "tags": []
          },
          "execution_count": 153
        }
      ]
    },
    {
      "cell_type": "code",
      "metadata": {
        "id": "DXirJPGMuzMo",
        "colab_type": "code",
        "outputId": "1c4ad781-8e9f-4258-cde4-687beefbfe8f",
        "colab": {
          "base_uri": "https://localhost:8080/",
          "height": 34
        }
      },
      "source": [
        "x.id_at_location"
      ],
      "execution_count": 154,
      "outputs": [
        {
          "output_type": "execute_result",
          "data": {
            "text/plain": [
              "72430898549"
            ]
          },
          "metadata": {
            "tags": []
          },
          "execution_count": 154
        }
      ]
    },
    {
      "cell_type": "code",
      "metadata": {
        "id": "NuwIX5cju_lC",
        "colab_type": "code",
        "outputId": "d698e44a-3f51-4047-b067-ebb9d1f6a901",
        "colab": {
          "base_uri": "https://localhost:8080/",
          "height": 34
        }
      },
      "source": [
        "x.id"
      ],
      "execution_count": 155,
      "outputs": [
        {
          "output_type": "execute_result",
          "data": {
            "text/plain": [
              "82219813548"
            ]
          },
          "metadata": {
            "tags": []
          },
          "execution_count": 155
        }
      ]
    },
    {
      "cell_type": "code",
      "metadata": {
        "id": "H9TcWzNxvAmS",
        "colab_type": "code",
        "outputId": "dc2a544f-57d4-43df-b2d5-1a73ddd96ae2",
        "colab": {
          "base_uri": "https://localhost:8080/",
          "height": 34
        }
      },
      "source": [
        "x.owner"
      ],
      "execution_count": 156,
      "outputs": [
        {
          "output_type": "execute_result",
          "data": {
            "text/plain": [
              "<VirtualWorker id:me #objects:0>"
            ]
          },
          "metadata": {
            "tags": []
          },
          "execution_count": 156
        }
      ]
    },
    {
      "cell_type": "code",
      "metadata": {
        "id": "G4IZQdBkvGHt",
        "colab_type": "code",
        "outputId": "829f489d-7e4a-4b83-bf37-fe41bc44cbda",
        "colab": {
          "base_uri": "https://localhost:8080/",
          "height": 34
        }
      },
      "source": [
        "hook.local_worker"
      ],
      "execution_count": 157,
      "outputs": [
        {
          "output_type": "execute_result",
          "data": {
            "text/plain": [
              "<VirtualWorker id:me #objects:0>"
            ]
          },
          "metadata": {
            "tags": []
          },
          "execution_count": 157
        }
      ]
    },
    {
      "cell_type": "code",
      "metadata": {
        "id": "fHPfHssSvKjj",
        "colab_type": "code",
        "outputId": "a6002bbe-49fe-4ef5-8fd3-8187d4298480",
        "colab": {
          "base_uri": "https://localhost:8080/",
          "height": 34
        }
      },
      "source": [
        "x"
      ],
      "execution_count": 158,
      "outputs": [
        {
          "output_type": "execute_result",
          "data": {
            "text/plain": [
              "(Wrapper)>[PointerTensor | me:82219813548 -> bob:72430898549]"
            ]
          },
          "metadata": {
            "tags": []
          },
          "execution_count": 158
        }
      ]
    },
    {
      "cell_type": "code",
      "metadata": {
        "id": "emKM650gvO-T",
        "colab_type": "code",
        "outputId": "f028fee9-650b-480b-b498-a9f4e232cb39",
        "colab": {
          "base_uri": "https://localhost:8080/",
          "height": 34
        }
      },
      "source": [
        "x=x.get()\n",
        "x"
      ],
      "execution_count": 159,
      "outputs": [
        {
          "output_type": "execute_result",
          "data": {
            "text/plain": [
              "tensor([1, 2, 3, 4, 5])"
            ]
          },
          "metadata": {
            "tags": []
          },
          "execution_count": 159
        }
      ]
    },
    {
      "cell_type": "code",
      "metadata": {
        "id": "pVgS451jvQat",
        "colab_type": "code",
        "outputId": "8774701e-3f8f-4f2e-bf50-f9f69b24073d",
        "colab": {
          "base_uri": "https://localhost:8080/",
          "height": 85
        }
      },
      "source": [
        "bob._objects"
      ],
      "execution_count": 160,
      "outputs": [
        {
          "output_type": "execute_result",
          "data": {
            "text/plain": [
              "{17775482007: tensor([[-0.0454],\n",
              "         [ 0.0295]], grad_fn=<AddmmBackward>), 20368643338: tensor([[0., 0.],\n",
              "         [0., 1.]], requires_grad=True), 36035447383: tensor([1, 2, 3, 4, 5]), 50613073430: tensor([[0.],\n",
              "         [0.]], requires_grad=True)}"
            ]
          },
          "metadata": {
            "tags": []
          },
          "execution_count": 160
        }
      ]
    },
    {
      "cell_type": "code",
      "metadata": {
        "id": "ZbTskRGuvSC5",
        "colab_type": "code",
        "colab": {}
      },
      "source": [
        ""
      ],
      "execution_count": 0,
      "outputs": []
    },
    {
      "cell_type": "markdown",
      "metadata": {
        "id": "pu7rTmNLvgDp",
        "colab_type": "text"
      },
      "source": [
        "Playing with Remote Tensors"
      ]
    },
    {
      "cell_type": "code",
      "metadata": {
        "id": "1F-oEPJXviXX",
        "colab_type": "code",
        "colab": {}
      },
      "source": [
        "bob = sy.VirtualWorker(hook, id=\"bob\")\n",
        "alice = sy.VirtualWorker(hook, id=\"alice\")"
      ],
      "execution_count": 0,
      "outputs": []
    },
    {
      "cell_type": "code",
      "metadata": {
        "id": "sadsbuzGvuNW",
        "colab_type": "code",
        "outputId": "a663fdf6-c3e6-470c-8458-e7ab67cbac97",
        "colab": {
          "base_uri": "https://localhost:8080/",
          "height": 34
        }
      },
      "source": [
        "x = th.tensor([1,2,3,4,5])\n",
        "x"
      ],
      "execution_count": 162,
      "outputs": [
        {
          "output_type": "execute_result",
          "data": {
            "text/plain": [
              "tensor([1, 2, 3, 4, 5])"
            ]
          },
          "metadata": {
            "tags": []
          },
          "execution_count": 162
        }
      ]
    },
    {
      "cell_type": "code",
      "metadata": {
        "id": "l4FswIqovzbM",
        "colab_type": "code",
        "colab": {}
      },
      "source": [
        "x = x.send(bob, alice)"
      ],
      "execution_count": 0,
      "outputs": []
    },
    {
      "cell_type": "code",
      "metadata": {
        "id": "hormaUfgv3U9",
        "colab_type": "code",
        "outputId": "81a916af-625a-4e01-8822-902acc153f11",
        "colab": {
          "base_uri": "https://localhost:8080/",
          "height": 85
        }
      },
      "source": [
        "bob._objects"
      ],
      "execution_count": 164,
      "outputs": [
        {
          "output_type": "execute_result",
          "data": {
            "text/plain": [
              "{17775482007: tensor([[-0.0454],\n",
              "         [ 0.0295]], grad_fn=<AddmmBackward>), 20368643338: tensor([[0., 0.],\n",
              "         [0., 1.]], requires_grad=True), 36035447383: tensor([1, 2, 3, 4, 5]), 50613073430: tensor([[0.],\n",
              "         [0.]], requires_grad=True), 58111196323: tensor([1, 2, 3, 4, 5])}"
            ]
          },
          "metadata": {
            "tags": []
          },
          "execution_count": 164
        }
      ]
    },
    {
      "cell_type": "code",
      "metadata": {
        "id": "7T1GNX7fv6lu",
        "colab_type": "code",
        "outputId": "f22a13a7-19ec-47ad-f9c4-af4dfe3d430e",
        "colab": {
          "base_uri": "https://localhost:8080/",
          "height": 85
        }
      },
      "source": [
        "alice._objects"
      ],
      "execution_count": 165,
      "outputs": [
        {
          "output_type": "execute_result",
          "data": {
            "text/plain": [
              "{13421192456: tensor([1, 2, 3, 4, 5]), 25385839670: tensor([[1.],\n",
              "         [1.]], requires_grad=True), 45145151505: tensor([[1., 0.],\n",
              "         [1., 1.]], requires_grad=True), 50624185629: tensor([1, 2, 3, 4, 5]), 53896541000: tensor([[0.8567],\n",
              "         [1.1119]], grad_fn=<AddmmBackward>)}"
            ]
          },
          "metadata": {
            "tags": []
          },
          "execution_count": 165
        }
      ]
    },
    {
      "cell_type": "code",
      "metadata": {
        "id": "p4f0gqxVv9O5",
        "colab_type": "code",
        "outputId": "77f0bf04-567b-4c6e-ee0a-09f98739c010",
        "colab": {
          "base_uri": "https://localhost:8080/",
          "height": 34
        }
      },
      "source": [
        "x.owner"
      ],
      "execution_count": 166,
      "outputs": [
        {
          "output_type": "execute_result",
          "data": {
            "text/plain": [
              "<VirtualWorker id:me #objects:0>"
            ]
          },
          "metadata": {
            "tags": []
          },
          "execution_count": 166
        }
      ]
    },
    {
      "cell_type": "code",
      "metadata": {
        "id": "qLj9SKgZwCC8",
        "colab_type": "code",
        "outputId": "431f1521-6f45-4f0a-a2ad-b33d36b77437",
        "colab": {
          "base_uri": "https://localhost:8080/",
          "height": 68
        }
      },
      "source": [
        "x"
      ],
      "execution_count": 167,
      "outputs": [
        {
          "output_type": "execute_result",
          "data": {
            "text/plain": [
              "(Wrapper)>[MultiPointerTensor]\n",
              "\t-> [PointerTensor | me:25937396945 -> bob:58111196323]\n",
              "\t-> [PointerTensor | me:18594702426 -> alice:50624185629]"
            ]
          },
          "metadata": {
            "tags": []
          },
          "execution_count": 167
        }
      ]
    },
    {
      "cell_type": "code",
      "metadata": {
        "id": "9Daa9n3OwDak",
        "colab_type": "code",
        "outputId": "683d1965-33b9-4269-936d-37113f9ad052",
        "colab": {
          "base_uri": "https://localhost:8080/",
          "height": 34
        }
      },
      "source": [
        "x = x.get()\n",
        "x"
      ],
      "execution_count": 168,
      "outputs": [
        {
          "output_type": "execute_result",
          "data": {
            "text/plain": [
              "[tensor([1, 2, 3, 4, 5]), tensor([1, 2, 3, 4, 5])]"
            ]
          },
          "metadata": {
            "tags": []
          },
          "execution_count": 168
        }
      ]
    },
    {
      "cell_type": "code",
      "metadata": {
        "id": "hc5h-__MwHup",
        "colab_type": "code",
        "outputId": "9d14a5ac-c50e-4028-c19c-8179658250e2",
        "colab": {
          "base_uri": "https://localhost:8080/",
          "height": 85
        }
      },
      "source": [
        "bob._objects"
      ],
      "execution_count": 169,
      "outputs": [
        {
          "output_type": "execute_result",
          "data": {
            "text/plain": [
              "{17775482007: tensor([[-0.0454],\n",
              "         [ 0.0295]], grad_fn=<AddmmBackward>), 20368643338: tensor([[0., 0.],\n",
              "         [0., 1.]], requires_grad=True), 36035447383: tensor([1, 2, 3, 4, 5]), 50613073430: tensor([[0.],\n",
              "         [0.]], requires_grad=True)}"
            ]
          },
          "metadata": {
            "tags": []
          },
          "execution_count": 169
        }
      ]
    },
    {
      "cell_type": "code",
      "metadata": {
        "id": "C60drQOxwLJs",
        "colab_type": "code",
        "outputId": "47573b3b-fbe3-4a44-eaa8-bba961278209",
        "colab": {
          "base_uri": "https://localhost:8080/",
          "height": 85
        }
      },
      "source": [
        "alice._objects"
      ],
      "execution_count": 170,
      "outputs": [
        {
          "output_type": "execute_result",
          "data": {
            "text/plain": [
              "{13421192456: tensor([1, 2, 3, 4, 5]), 25385839670: tensor([[1.],\n",
              "         [1.]], requires_grad=True), 45145151505: tensor([[1., 0.],\n",
              "         [1., 1.]], requires_grad=True), 53896541000: tensor([[0.8567],\n",
              "         [1.1119]], grad_fn=<AddmmBackward>)}"
            ]
          },
          "metadata": {
            "tags": []
          },
          "execution_count": 170
        }
      ]
    },
    {
      "cell_type": "code",
      "metadata": {
        "id": "zmUy8WJHwM65",
        "colab_type": "code",
        "colab": {}
      },
      "source": [
        "x = th.tensor([1,2,3,4,5]).send(bob,alice)"
      ],
      "execution_count": 0,
      "outputs": []
    },
    {
      "cell_type": "code",
      "metadata": {
        "id": "18HXSuugwpB0",
        "colab_type": "code",
        "outputId": "0f61b31e-e9dc-41b3-9716-2b5afcbaf39a",
        "colab": {
          "base_uri": "https://localhost:8080/",
          "height": 34
        }
      },
      "source": [
        "x.get(sum_results=True)"
      ],
      "execution_count": 172,
      "outputs": [
        {
          "output_type": "execute_result",
          "data": {
            "text/plain": [
              "tensor([ 2,  4,  6,  8, 10])"
            ]
          },
          "metadata": {
            "tags": []
          },
          "execution_count": 172
        }
      ]
    },
    {
      "cell_type": "code",
      "metadata": {
        "id": "wLxVrfh7wscu",
        "colab_type": "code",
        "colab": {}
      },
      "source": [
        ""
      ],
      "execution_count": 0,
      "outputs": []
    },
    {
      "cell_type": "markdown",
      "metadata": {
        "id": "uG0S3UFKwxSE",
        "colab_type": "text"
      },
      "source": [
        "Introducing Remote Arithmetic"
      ]
    },
    {
      "cell_type": "code",
      "metadata": {
        "id": "2vQO5tF6w0DR",
        "colab_type": "code",
        "colab": {}
      },
      "source": [
        "x = th.tensor([1,2,3,4,5]).send(bob)\n",
        "y = th.tensor([1,1,1,1,1]).send(bob)"
      ],
      "execution_count": 0,
      "outputs": []
    },
    {
      "cell_type": "code",
      "metadata": {
        "id": "l1wG48U6xBLB",
        "colab_type": "code",
        "outputId": "2aa9fd2c-748c-4372-a08b-902d528e5aa0",
        "colab": {
          "base_uri": "https://localhost:8080/",
          "height": 34
        }
      },
      "source": [
        "x"
      ],
      "execution_count": 174,
      "outputs": [
        {
          "output_type": "execute_result",
          "data": {
            "text/plain": [
              "(Wrapper)>[PointerTensor | me:45547117712 -> bob:78930870444]"
            ]
          },
          "metadata": {
            "tags": []
          },
          "execution_count": 174
        }
      ]
    },
    {
      "cell_type": "code",
      "metadata": {
        "id": "dIg61YzsxBto",
        "colab_type": "code",
        "outputId": "013cf461-6215-4704-e17e-abe03f5e40d4",
        "colab": {
          "base_uri": "https://localhost:8080/",
          "height": 34
        }
      },
      "source": [
        "y"
      ],
      "execution_count": 175,
      "outputs": [
        {
          "output_type": "execute_result",
          "data": {
            "text/plain": [
              "(Wrapper)>[PointerTensor | me:90988216085 -> bob:20038533352]"
            ]
          },
          "metadata": {
            "tags": []
          },
          "execution_count": 175
        }
      ]
    },
    {
      "cell_type": "code",
      "metadata": {
        "id": "rUiGWG4CxGn9",
        "colab_type": "code",
        "colab": {}
      },
      "source": [
        "z = x + y"
      ],
      "execution_count": 0,
      "outputs": []
    },
    {
      "cell_type": "code",
      "metadata": {
        "id": "KTkHODXDxIUP",
        "colab_type": "code",
        "outputId": "3db9a7d6-4e37-493b-a269-536a0f27805f",
        "colab": {
          "base_uri": "https://localhost:8080/",
          "height": 34
        }
      },
      "source": [
        "z"
      ],
      "execution_count": 177,
      "outputs": [
        {
          "output_type": "execute_result",
          "data": {
            "text/plain": [
              "(Wrapper)>[PointerTensor | me:18250062571 -> bob:32151894157]"
            ]
          },
          "metadata": {
            "tags": []
          },
          "execution_count": 177
        }
      ]
    },
    {
      "cell_type": "code",
      "metadata": {
        "id": "WksvltBSxIrR",
        "colab_type": "code",
        "outputId": "e5a05c30-2285-4b0b-9e8d-e7217e4e0f7f",
        "colab": {
          "base_uri": "https://localhost:8080/",
          "height": 34
        }
      },
      "source": [
        "z = z.get()\n",
        "z"
      ],
      "execution_count": 178,
      "outputs": [
        {
          "output_type": "execute_result",
          "data": {
            "text/plain": [
              "tensor([2, 3, 4, 5, 6])"
            ]
          },
          "metadata": {
            "tags": []
          },
          "execution_count": 178
        }
      ]
    },
    {
      "cell_type": "code",
      "metadata": {
        "id": "Bc21jcG7xL3W",
        "colab_type": "code",
        "outputId": "76d932e7-73b7-4125-b2f7-fa19f53b0c3c",
        "colab": {
          "base_uri": "https://localhost:8080/",
          "height": 34
        }
      },
      "source": [
        "z = th.add(x,y)\n",
        "z"
      ],
      "execution_count": 179,
      "outputs": [
        {
          "output_type": "execute_result",
          "data": {
            "text/plain": [
              "(Wrapper)>[PointerTensor | me:32739321942 -> bob:76524063325]"
            ]
          },
          "metadata": {
            "tags": []
          },
          "execution_count": 179
        }
      ]
    },
    {
      "cell_type": "code",
      "metadata": {
        "id": "XJHmaUfGxSiP",
        "colab_type": "code",
        "outputId": "571e8f86-b33b-4fa1-8c72-125f51e7e86c",
        "colab": {
          "base_uri": "https://localhost:8080/",
          "height": 34
        }
      },
      "source": [
        "z = z.get()\n",
        "z"
      ],
      "execution_count": 180,
      "outputs": [
        {
          "output_type": "execute_result",
          "data": {
            "text/plain": [
              "tensor([2, 3, 4, 5, 6])"
            ]
          },
          "metadata": {
            "tags": []
          },
          "execution_count": 180
        }
      ]
    },
    {
      "cell_type": "code",
      "metadata": {
        "id": "RLLN1JuOxTxO",
        "colab_type": "code",
        "colab": {}
      },
      "source": [
        "x = th.tensor([1.,2,3,4,5], requires_grad=True).send(bob)\n",
        "y = th.tensor([1.,1,1,1,1], requires_grad=True).send(bob)"
      ],
      "execution_count": 0,
      "outputs": []
    },
    {
      "cell_type": "code",
      "metadata": {
        "id": "pOBxdWzUxni1",
        "colab_type": "code",
        "colab": {}
      },
      "source": [
        "z = (x + y).sum()"
      ],
      "execution_count": 0,
      "outputs": []
    },
    {
      "cell_type": "code",
      "metadata": {
        "id": "JgqVevJFxpUZ",
        "colab_type": "code",
        "outputId": "72c213d7-10be-479f-e1ae-a7599da44439",
        "colab": {
          "base_uri": "https://localhost:8080/",
          "height": 34
        }
      },
      "source": [
        "z.backward()"
      ],
      "execution_count": 183,
      "outputs": [
        {
          "output_type": "execute_result",
          "data": {
            "text/plain": [
              "(Wrapper)>[PointerTensor | me:49745073888 -> bob:21348972527]"
            ]
          },
          "metadata": {
            "tags": []
          },
          "execution_count": 183
        }
      ]
    },
    {
      "cell_type": "code",
      "metadata": {
        "id": "prBU6bORxuFx",
        "colab_type": "code",
        "outputId": "41530b88-ade2-4c48-e825-9f7d89c5752b",
        "colab": {
          "base_uri": "https://localhost:8080/",
          "height": 34
        }
      },
      "source": [
        "x = x.get()\n",
        "x"
      ],
      "execution_count": 184,
      "outputs": [
        {
          "output_type": "execute_result",
          "data": {
            "text/plain": [
              "tensor([1., 2., 3., 4., 5.], requires_grad=True)"
            ]
          },
          "metadata": {
            "tags": []
          },
          "execution_count": 184
        }
      ]
    },
    {
      "cell_type": "code",
      "metadata": {
        "id": "7LtNFGD9xw_-",
        "colab_type": "code",
        "outputId": "e6528ca5-2711-469c-e267-44554d7aca0c",
        "colab": {
          "base_uri": "https://localhost:8080/",
          "height": 34
        }
      },
      "source": [
        "x.grad"
      ],
      "execution_count": 185,
      "outputs": [
        {
          "output_type": "execute_result",
          "data": {
            "text/plain": [
              "tensor([1., 1., 1., 1., 1.])"
            ]
          },
          "metadata": {
            "tags": []
          },
          "execution_count": 185
        }
      ]
    },
    {
      "cell_type": "code",
      "metadata": {
        "id": "Lc0dkHsxxyQz",
        "colab_type": "code",
        "colab": {}
      },
      "source": [
        ""
      ],
      "execution_count": 0,
      "outputs": []
    },
    {
      "cell_type": "markdown",
      "metadata": {
        "id": "Fr4DsalCyA9N",
        "colab_type": "text"
      },
      "source": [
        "Learn a Simple Linear Model"
      ]
    },
    {
      "cell_type": "code",
      "metadata": {
        "id": "mkuf7RiryDjI",
        "colab_type": "code",
        "colab": {}
      },
      "source": [
        "input1 = th.tensor([[1.,1],[0,1,],[1,0],[0,0]], requires_grad=True).send(bob)\n",
        "target = th.tensor([[1.],[1],[0],[0]], requires_grad=True).send(bob)"
      ],
      "execution_count": 0,
      "outputs": []
    },
    {
      "cell_type": "code",
      "metadata": {
        "id": "E7pcPh_XyTQI",
        "colab_type": "code",
        "outputId": "427e3636-952a-4a7b-f1d8-04b2a91b5def",
        "colab": {
          "base_uri": "https://localhost:8080/",
          "height": 34
        }
      },
      "source": [
        "input1"
      ],
      "execution_count": 187,
      "outputs": [
        {
          "output_type": "execute_result",
          "data": {
            "text/plain": [
              "(Wrapper)>[PointerTensor | me:99546600011 -> bob:92565828963]"
            ]
          },
          "metadata": {
            "tags": []
          },
          "execution_count": 187
        }
      ]
    },
    {
      "cell_type": "code",
      "metadata": {
        "id": "xd3b8sg6y069",
        "colab_type": "code",
        "outputId": "fa582106-23db-4dd9-fbfc-e601748bf7ed",
        "colab": {
          "base_uri": "https://localhost:8080/",
          "height": 34
        }
      },
      "source": [
        "target"
      ],
      "execution_count": 188,
      "outputs": [
        {
          "output_type": "execute_result",
          "data": {
            "text/plain": [
              "(Wrapper)>[PointerTensor | me:66626630843 -> bob:58806848401]"
            ]
          },
          "metadata": {
            "tags": []
          },
          "execution_count": 188
        }
      ]
    },
    {
      "cell_type": "code",
      "metadata": {
        "id": "rVMXS7x3y11b",
        "colab_type": "code",
        "colab": {}
      },
      "source": [
        "weights = th.tensor([[0.],[0.]], requires_grad=True).send(bob)"
      ],
      "execution_count": 0,
      "outputs": []
    },
    {
      "cell_type": "code",
      "metadata": {
        "id": "Oco5hGg9zBPz",
        "colab_type": "code",
        "outputId": "6978cb7d-dd59-4ab6-e3ec-a0cac2bdd3c9",
        "colab": {
          "base_uri": "https://localhost:8080/",
          "height": 187
        }
      },
      "source": [
        "for i in range(10):  \n",
        "  \n",
        "  pred = input1.mm(weights)\n",
        "\n",
        "  loss = ((pred - target)**2).sum()\n",
        "  \n",
        "  loss.backward()\n",
        "  \n",
        "  weights.data.sub_(weights.grad * 0.1)\n",
        "  weights.grad *= 0\n",
        "\n",
        "  print(loss.get().data)"
      ],
      "execution_count": 190,
      "outputs": [
        {
          "output_type": "stream",
          "text": [
            "tensor(2.)\n",
            "tensor(0.5600)\n",
            "tensor(0.2432)\n",
            "tensor(0.1372)\n",
            "tensor(0.0849)\n",
            "tensor(0.0538)\n",
            "tensor(0.0344)\n",
            "tensor(0.0220)\n",
            "tensor(0.0141)\n",
            "tensor(0.0090)\n"
          ],
          "name": "stdout"
        }
      ]
    },
    {
      "cell_type": "code",
      "metadata": {
        "id": "x_CeH5h9zh4E",
        "colab_type": "code",
        "colab": {}
      },
      "source": [
        ""
      ],
      "execution_count": 0,
      "outputs": []
    },
    {
      "cell_type": "markdown",
      "metadata": {
        "id": "nkvQSF8v0On9",
        "colab_type": "text"
      },
      "source": [
        "Garbage Collection and Common Errors"
      ]
    },
    {
      "cell_type": "code",
      "metadata": {
        "id": "onh_B91T0OZA",
        "colab_type": "code",
        "colab": {}
      },
      "source": [
        "bob = bob.clear_objects()"
      ],
      "execution_count": 0,
      "outputs": []
    },
    {
      "cell_type": "code",
      "metadata": {
        "id": "2-7he2qF0aBd",
        "colab_type": "code",
        "outputId": "6d969078-b515-4d60-8b9c-c4c101c41603",
        "colab": {
          "base_uri": "https://localhost:8080/",
          "height": 34
        }
      },
      "source": [
        "bob._objects"
      ],
      "execution_count": 192,
      "outputs": [
        {
          "output_type": "execute_result",
          "data": {
            "text/plain": [
              "{}"
            ]
          },
          "metadata": {
            "tags": []
          },
          "execution_count": 192
        }
      ]
    },
    {
      "cell_type": "code",
      "metadata": {
        "id": "15Y2Xgv00gQ2",
        "colab_type": "code",
        "colab": {}
      },
      "source": [
        "x = th.tensor([1,2,3,4,5]).send(bob)"
      ],
      "execution_count": 0,
      "outputs": []
    },
    {
      "cell_type": "code",
      "metadata": {
        "id": "Ip_BBek_0mNq",
        "colab_type": "code",
        "outputId": "a4919c7b-c950-45c5-a3e4-2f5f6ed3b302",
        "colab": {
          "base_uri": "https://localhost:8080/",
          "height": 34
        }
      },
      "source": [
        "bob._objects"
      ],
      "execution_count": 194,
      "outputs": [
        {
          "output_type": "execute_result",
          "data": {
            "text/plain": [
              "{54887507717: tensor([1, 2, 3, 4, 5])}"
            ]
          },
          "metadata": {
            "tags": []
          },
          "execution_count": 194
        }
      ]
    },
    {
      "cell_type": "code",
      "metadata": {
        "id": "RCAI_ujn0nn_",
        "colab_type": "code",
        "colab": {}
      },
      "source": [
        "del x"
      ],
      "execution_count": 0,
      "outputs": []
    },
    {
      "cell_type": "code",
      "metadata": {
        "id": "tq1dvP4u0u0w",
        "colab_type": "code",
        "outputId": "c9b644e5-22fa-4f49-9c7c-dd4824d82b16",
        "colab": {
          "base_uri": "https://localhost:8080/",
          "height": 34
        }
      },
      "source": [
        "bob._objects"
      ],
      "execution_count": 196,
      "outputs": [
        {
          "output_type": "execute_result",
          "data": {
            "text/plain": [
              "{}"
            ]
          },
          "metadata": {
            "tags": []
          },
          "execution_count": 196
        }
      ]
    },
    {
      "cell_type": "code",
      "metadata": {
        "id": "aEwiUf5f0w-j",
        "colab_type": "code",
        "colab": {}
      },
      "source": [
        "x = th.tensor([1,2,3,4,5]).send(bob)"
      ],
      "execution_count": 0,
      "outputs": []
    },
    {
      "cell_type": "code",
      "metadata": {
        "id": "cftVeP6O09pT",
        "colab_type": "code",
        "outputId": "d3c6113f-d41d-409c-920f-a071c17bca1c",
        "colab": {
          "base_uri": "https://localhost:8080/",
          "height": 34
        }
      },
      "source": [
        "x.child.garbage_collect_data"
      ],
      "execution_count": 198,
      "outputs": [
        {
          "output_type": "execute_result",
          "data": {
            "text/plain": [
              "True"
            ]
          },
          "metadata": {
            "tags": []
          },
          "execution_count": 198
        }
      ]
    },
    {
      "cell_type": "code",
      "metadata": {
        "id": "4GvFvQND1Bwm",
        "colab_type": "code",
        "outputId": "a9b0df60-80d8-4a9d-9c8a-64bfb862c22f",
        "colab": {
          "base_uri": "https://localhost:8080/",
          "height": 34
        }
      },
      "source": [
        "bob._objects"
      ],
      "execution_count": 199,
      "outputs": [
        {
          "output_type": "execute_result",
          "data": {
            "text/plain": [
              "{13315547982: tensor([1, 2, 3, 4, 5])}"
            ]
          },
          "metadata": {
            "tags": []
          },
          "execution_count": 199
        }
      ]
    },
    {
      "cell_type": "code",
      "metadata": {
        "id": "2jbLgE3M1G0g",
        "colab_type": "code",
        "colab": {}
      },
      "source": [
        "x = \"asdf\""
      ],
      "execution_count": 0,
      "outputs": []
    },
    {
      "cell_type": "code",
      "metadata": {
        "id": "IgpwlRmk1KUq",
        "colab_type": "code",
        "outputId": "31aae993-5ed4-4112-e637-90b952aa981d",
        "colab": {
          "base_uri": "https://localhost:8080/",
          "height": 34
        }
      },
      "source": [
        "bob._objects"
      ],
      "execution_count": 201,
      "outputs": [
        {
          "output_type": "execute_result",
          "data": {
            "text/plain": [
              "{}"
            ]
          },
          "metadata": {
            "tags": []
          },
          "execution_count": 201
        }
      ]
    },
    {
      "cell_type": "code",
      "metadata": {
        "id": "FR7ntmLz1MHP",
        "colab_type": "code",
        "colab": {}
      },
      "source": [
        "x = th.tensor([1,2,3,4,5]).send(bob)"
      ],
      "execution_count": 0,
      "outputs": []
    },
    {
      "cell_type": "code",
      "metadata": {
        "id": "P16H80KD1NOy",
        "colab_type": "code",
        "outputId": "3fab24f6-68b0-4bda-cdb7-24a050bb6c20",
        "colab": {
          "base_uri": "https://localhost:8080/",
          "height": 34
        }
      },
      "source": [
        "x"
      ],
      "execution_count": 203,
      "outputs": [
        {
          "output_type": "execute_result",
          "data": {
            "text/plain": [
              "(Wrapper)>[PointerTensor | me:87944264095 -> bob:61871718047]"
            ]
          },
          "metadata": {
            "tags": []
          },
          "execution_count": 203
        }
      ]
    },
    {
      "cell_type": "code",
      "metadata": {
        "id": "wtI47QCY1NkE",
        "colab_type": "code",
        "outputId": "3de431cc-7b16-4662-ae28-848f4b5e0899",
        "colab": {
          "base_uri": "https://localhost:8080/",
          "height": 34
        }
      },
      "source": [
        "bob._objects"
      ],
      "execution_count": 204,
      "outputs": [
        {
          "output_type": "execute_result",
          "data": {
            "text/plain": [
              "{61871718047: tensor([1, 2, 3, 4, 5])}"
            ]
          },
          "metadata": {
            "tags": []
          },
          "execution_count": 204
        }
      ]
    },
    {
      "cell_type": "code",
      "metadata": {
        "id": "9NZNQqou1Rtz",
        "colab_type": "code",
        "colab": {}
      },
      "source": [
        "x = \"asdf\""
      ],
      "execution_count": 0,
      "outputs": []
    },
    {
      "cell_type": "code",
      "metadata": {
        "id": "fqAi5cRT1TCI",
        "colab_type": "code",
        "outputId": "e3f45bfe-31f0-4c5a-e78a-81d0c9e88bd8",
        "colab": {
          "base_uri": "https://localhost:8080/",
          "height": 34
        }
      },
      "source": [
        "bob._objects"
      ],
      "execution_count": 206,
      "outputs": [
        {
          "output_type": "execute_result",
          "data": {
            "text/plain": [
              "{61871718047: tensor([1, 2, 3, 4, 5])}"
            ]
          },
          "metadata": {
            "tags": []
          },
          "execution_count": 206
        }
      ]
    },
    {
      "cell_type": "code",
      "metadata": {
        "id": "bVU7FYNN1VDf",
        "colab_type": "code",
        "colab": {}
      },
      "source": [
        "del x"
      ],
      "execution_count": 0,
      "outputs": []
    },
    {
      "cell_type": "code",
      "metadata": {
        "id": "uFN7_3Ee1Woa",
        "colab_type": "code",
        "outputId": "8ae2a598-faca-480e-cac4-f1b6ee5fc5ef",
        "colab": {
          "base_uri": "https://localhost:8080/",
          "height": 34
        }
      },
      "source": [
        "bob._objects"
      ],
      "execution_count": 208,
      "outputs": [
        {
          "output_type": "execute_result",
          "data": {
            "text/plain": [
              "{61871718047: tensor([1, 2, 3, 4, 5])}"
            ]
          },
          "metadata": {
            "tags": []
          },
          "execution_count": 208
        }
      ]
    },
    {
      "cell_type": "code",
      "metadata": {
        "id": "YrHl4G-01ZUh",
        "colab_type": "code",
        "outputId": "a16ae40a-88a3-4795-bc54-dba6a7325440",
        "colab": {
          "base_uri": "https://localhost:8080/",
          "height": 34
        }
      },
      "source": [
        "bob = bob.clear_objects()\n",
        "bob._objects"
      ],
      "execution_count": 209,
      "outputs": [
        {
          "output_type": "execute_result",
          "data": {
            "text/plain": [
              "{}"
            ]
          },
          "metadata": {
            "tags": []
          },
          "execution_count": 209
        }
      ]
    },
    {
      "cell_type": "code",
      "metadata": {
        "id": "327fhkb31kPZ",
        "colab_type": "code",
        "colab": {}
      },
      "source": [
        "for i in range(1000):\n",
        "  x = th.tensor([1,2,3,4,5]).send(bob)"
      ],
      "execution_count": 0,
      "outputs": []
    },
    {
      "cell_type": "code",
      "metadata": {
        "id": "lpcD4-mf1rUJ",
        "colab_type": "code",
        "colab": {}
      },
      "source": [
        ""
      ],
      "execution_count": 0,
      "outputs": []
    },
    {
      "cell_type": "markdown",
      "metadata": {
        "id": "LHF19yL4PtQs",
        "colab_type": "text"
      },
      "source": [
        "Toy Federated Learning"
      ]
    },
    {
      "cell_type": "code",
      "metadata": {
        "id": "sb1Er7FqQLCy",
        "colab_type": "code",
        "colab": {}
      },
      "source": [
        "from torch import nn, optim"
      ],
      "execution_count": 0,
      "outputs": []
    },
    {
      "cell_type": "code",
      "metadata": {
        "id": "H0QNDF5WPv_v",
        "colab_type": "code",
        "colab": {}
      },
      "source": [
        "data = th.tensor([[1.,1],[0,1],[1,0],[0,0]], requires_grad=True)\n",
        "target = th.tensor([[1.],[1],[0],[0]], requires_grad=True)"
      ],
      "execution_count": 0,
      "outputs": []
    },
    {
      "cell_type": "code",
      "metadata": {
        "id": "ZHwB2ffhQIjK",
        "colab_type": "code",
        "colab": {}
      },
      "source": [
        "model = nn.Linear(2,1)"
      ],
      "execution_count": 0,
      "outputs": []
    },
    {
      "cell_type": "code",
      "metadata": {
        "id": "JsMFn8AxQQoO",
        "colab_type": "code",
        "colab": {}
      },
      "source": [
        "opt = optim.SGD(params=model.parameters(), lr=0.1)"
      ],
      "execution_count": 0,
      "outputs": []
    },
    {
      "cell_type": "code",
      "metadata": {
        "id": "x6EeYJACQW68",
        "colab_type": "code",
        "outputId": "872f6349-9b8e-451e-f5a9-af44e9413902",
        "colab": {
          "base_uri": "https://localhost:8080/",
          "height": 357
        }
      },
      "source": [
        "def train(iterations=20):\n",
        "  for iter in range(iterations):\n",
        "    opt.zero_grad()\n",
        "    pred = model(data)\n",
        "    loss = ((pred - target)**2).sum()\n",
        "    loss.backward()\n",
        "    opt.step()\n",
        "    print(loss.data)\n",
        "    \n",
        "train()"
      ],
      "execution_count": 215,
      "outputs": [
        {
          "output_type": "stream",
          "text": [
            "tensor(3.1272)\n",
            "tensor(1.1772)\n",
            "tensor(0.7390)\n",
            "tensor(0.5083)\n",
            "tensor(0.3559)\n",
            "tensor(0.2514)\n",
            "tensor(0.1790)\n",
            "tensor(0.1284)\n",
            "tensor(0.0927)\n",
            "tensor(0.0674)\n",
            "tensor(0.0493)\n",
            "tensor(0.0363)\n",
            "tensor(0.0268)\n",
            "tensor(0.0199)\n",
            "tensor(0.0149)\n",
            "tensor(0.0111)\n",
            "tensor(0.0084)\n",
            "tensor(0.0063)\n",
            "tensor(0.0048)\n",
            "tensor(0.0036)\n"
          ],
          "name": "stdout"
        }
      ]
    },
    {
      "cell_type": "code",
      "metadata": {
        "id": "T9I0zG2JQZzD",
        "colab_type": "code",
        "colab": {}
      },
      "source": [
        "data_bob = data[0:2].send(bob)\n",
        "target_bob = target[0:2].send(bob)"
      ],
      "execution_count": 0,
      "outputs": []
    },
    {
      "cell_type": "code",
      "metadata": {
        "id": "hm8RpWDWQcTA",
        "colab_type": "code",
        "colab": {}
      },
      "source": [
        "data_alice = data[0:2].send(alice)\n",
        "target_alice = target[0:2].send(alice)"
      ],
      "execution_count": 0,
      "outputs": []
    },
    {
      "cell_type": "code",
      "metadata": {
        "id": "5JPZBBiKQh55",
        "colab_type": "code",
        "colab": {}
      },
      "source": [
        "datasets = [(data_bob, target_bob), (data_alice, target_alice)]"
      ],
      "execution_count": 0,
      "outputs": []
    },
    {
      "cell_type": "code",
      "metadata": {
        "id": "6Sjw-g-AQihr",
        "colab_type": "code",
        "colab": {}
      },
      "source": [
        "model = nn.Linear(2,1)\n",
        "opt = optim.SGD(params=model.parameters(), lr=0.1)"
      ],
      "execution_count": 0,
      "outputs": []
    },
    {
      "cell_type": "code",
      "metadata": {
        "id": "GucIr_-VQpq5",
        "colab_type": "code",
        "outputId": "1e9467f3-ead4-4f72-c672-581370802b6c",
        "colab": {
          "base_uri": "https://localhost:8080/",
          "height": 34
        }
      },
      "source": [
        "_data, _target = datasets[0]\n",
        "_data"
      ],
      "execution_count": 220,
      "outputs": [
        {
          "output_type": "execute_result",
          "data": {
            "text/plain": [
              "(Wrapper)>[PointerTensor | me:60207879816 -> bob:15111458010]"
            ]
          },
          "metadata": {
            "tags": []
          },
          "execution_count": 220
        }
      ]
    },
    {
      "cell_type": "code",
      "metadata": {
        "id": "VopPEQ0lQq2Z",
        "colab_type": "code",
        "colab": {}
      },
      "source": [
        "def train(iterations=20):\n",
        "  \n",
        "  model = nn.Linear(2,1)\n",
        "  opt = optim.SGD(params=model.parameters(), lr=0.1)\n",
        "  \n",
        "  for iter in range(iterations):\n",
        "\n",
        "    for _data, _target in datasets:\n",
        "      model = model.send(_data.location)\n",
        "\n",
        "      opt.zero_grad()\n",
        "\n",
        "      pred = model(_data)\n",
        "\n",
        "      loss = ((pred - _target)**2).sum()\n",
        "\n",
        "      loss.backward()\n",
        "\n",
        "      opt.step()\n",
        "\n",
        "      model = model.get()\n",
        "  \n",
        "      print(loss.get())"
      ],
      "execution_count": 0,
      "outputs": []
    },
    {
      "cell_type": "code",
      "metadata": {
        "id": "2ZUVzPFxTuU4",
        "colab_type": "code",
        "outputId": "d0d10c55-189b-47be-ae12-b19e65f6600e",
        "colab": {
          "base_uri": "https://localhost:8080/",
          "height": 697
        }
      },
      "source": [
        "train()"
      ],
      "execution_count": 222,
      "outputs": [
        {
          "output_type": "stream",
          "text": [
            "tensor(4.5501, requires_grad=True)\n",
            "tensor(0.0388, requires_grad=True)\n",
            "tensor(0.0035, requires_grad=True)\n",
            "tensor(0.0027, requires_grad=True)\n",
            "tensor(0.0022, requires_grad=True)\n",
            "tensor(0.0019, requires_grad=True)\n",
            "tensor(0.0016, requires_grad=True)\n",
            "tensor(0.0013, requires_grad=True)\n",
            "tensor(0.0011, requires_grad=True)\n",
            "tensor(0.0009, requires_grad=True)\n",
            "tensor(0.0007, requires_grad=True)\n",
            "tensor(0.0006, requires_grad=True)\n",
            "tensor(0.0005, requires_grad=True)\n",
            "tensor(0.0004, requires_grad=True)\n",
            "tensor(0.0004, requires_grad=True)\n",
            "tensor(0.0003, requires_grad=True)\n",
            "tensor(0.0002, requires_grad=True)\n",
            "tensor(0.0002, requires_grad=True)\n",
            "tensor(0.0002, requires_grad=True)\n",
            "tensor(0.0001, requires_grad=True)\n",
            "tensor(0.0001, requires_grad=True)\n",
            "tensor(9.9063e-05, requires_grad=True)\n",
            "tensor(8.2452e-05, requires_grad=True)\n",
            "tensor(6.8626e-05, requires_grad=True)\n",
            "tensor(5.7118e-05, requires_grad=True)\n",
            "tensor(4.7539e-05, requires_grad=True)\n",
            "tensor(3.9568e-05, requires_grad=True)\n",
            "tensor(3.2933e-05, requires_grad=True)\n",
            "tensor(2.7411e-05, requires_grad=True)\n",
            "tensor(2.2814e-05, requires_grad=True)\n",
            "tensor(1.8988e-05, requires_grad=True)\n",
            "tensor(1.5804e-05, requires_grad=True)\n",
            "tensor(1.3154e-05, requires_grad=True)\n",
            "tensor(1.0948e-05, requires_grad=True)\n",
            "tensor(9.1123e-06, requires_grad=True)\n",
            "tensor(7.5842e-06, requires_grad=True)\n",
            "tensor(6.3125e-06, requires_grad=True)\n",
            "tensor(5.2535e-06, requires_grad=True)\n",
            "tensor(4.3725e-06, requires_grad=True)\n",
            "tensor(3.6393e-06, requires_grad=True)\n"
          ],
          "name": "stdout"
        }
      ]
    },
    {
      "cell_type": "code",
      "metadata": {
        "id": "1PnqFw5ySaN1",
        "colab_type": "code",
        "colab": {}
      },
      "source": [
        "#list(model.parameters())"
      ],
      "execution_count": 0,
      "outputs": []
    },
    {
      "cell_type": "code",
      "metadata": {
        "id": "3ZcEG-9LScsh",
        "colab_type": "code",
        "colab": {}
      },
      "source": [
        ""
      ],
      "execution_count": 0,
      "outputs": []
    },
    {
      "cell_type": "markdown",
      "metadata": {
        "id": "3_d0k3IDY9d3",
        "colab_type": "text"
      },
      "source": [
        "Advanced Remote Execution Tools"
      ]
    },
    {
      "cell_type": "code",
      "metadata": {
        "id": "R-wGnh63ZAYM",
        "colab_type": "code",
        "outputId": "decdc3fb-0729-4b7d-ebf0-46902f4eb03c",
        "colab": {
          "base_uri": "https://localhost:8080/",
          "height": 34
        }
      },
      "source": [
        "bob.clear_objects()"
      ],
      "execution_count": 224,
      "outputs": [
        {
          "output_type": "execute_result",
          "data": {
            "text/plain": [
              "<VirtualWorker id:bob #objects:0>"
            ]
          },
          "metadata": {
            "tags": []
          },
          "execution_count": 224
        }
      ]
    },
    {
      "cell_type": "code",
      "metadata": {
        "id": "cy5gjfZ4ymIj",
        "colab_type": "code",
        "outputId": "1412b5a4-c745-44be-e53f-4967cf9db93d",
        "colab": {
          "base_uri": "https://localhost:8080/",
          "height": 34
        }
      },
      "source": [
        "alice.clear_objects()"
      ],
      "execution_count": 225,
      "outputs": [
        {
          "output_type": "execute_result",
          "data": {
            "text/plain": [
              "<VirtualWorker id:alice #objects:0>"
            ]
          },
          "metadata": {
            "tags": []
          },
          "execution_count": 225
        }
      ]
    },
    {
      "cell_type": "code",
      "metadata": {
        "id": "QrO_jyGNyov2",
        "colab_type": "code",
        "outputId": "4383574f-ac32-4bcf-b315-0dbbd47a7bbe",
        "colab": {
          "base_uri": "https://localhost:8080/",
          "height": 34
        }
      },
      "source": [
        "x = th.tensor([1,2,3,4,5]).send(bob)\n",
        "x"
      ],
      "execution_count": 226,
      "outputs": [
        {
          "output_type": "execute_result",
          "data": {
            "text/plain": [
              "(Wrapper)>[PointerTensor | me:94876423252 -> bob:19540000931]"
            ]
          },
          "metadata": {
            "tags": []
          },
          "execution_count": 226
        }
      ]
    },
    {
      "cell_type": "code",
      "metadata": {
        "id": "nGUlt8j8yxD9",
        "colab_type": "code",
        "colab": {}
      },
      "source": [
        "x = x.send(alice)"
      ],
      "execution_count": 0,
      "outputs": []
    },
    {
      "cell_type": "code",
      "metadata": {
        "id": "Eob0hn6cyrgg",
        "colab_type": "code",
        "outputId": "626c4fdb-b13e-4e29-ecf1-418527ec1338",
        "colab": {
          "base_uri": "https://localhost:8080/",
          "height": 34
        }
      },
      "source": [
        "bob._objects"
      ],
      "execution_count": 228,
      "outputs": [
        {
          "output_type": "execute_result",
          "data": {
            "text/plain": [
              "{19540000931: tensor([1, 2, 3, 4, 5])}"
            ]
          },
          "metadata": {
            "tags": []
          },
          "execution_count": 228
        }
      ]
    },
    {
      "cell_type": "code",
      "metadata": {
        "id": "sJkDiPIKyvuw",
        "colab_type": "code",
        "outputId": "027dcea1-5efb-4b7c-d026-ec82f66dba14",
        "colab": {
          "base_uri": "https://localhost:8080/",
          "height": 34
        }
      },
      "source": [
        "alice._objects"
      ],
      "execution_count": 229,
      "outputs": [
        {
          "output_type": "execute_result",
          "data": {
            "text/plain": [
              "{94876423252: (Wrapper)>[PointerTensor | alice:94876423252 -> bob:19540000931]}"
            ]
          },
          "metadata": {
            "tags": []
          },
          "execution_count": 229
        }
      ]
    },
    {
      "cell_type": "code",
      "metadata": {
        "id": "fKZubntOy1vB",
        "colab_type": "code",
        "outputId": "ee02354d-a52f-4c23-83e8-aa87317c1c44",
        "colab": {
          "base_uri": "https://localhost:8080/",
          "height": 34
        }
      },
      "source": [
        "x"
      ],
      "execution_count": 230,
      "outputs": [
        {
          "output_type": "execute_result",
          "data": {
            "text/plain": [
              "(Wrapper)>[PointerTensor | me:96209235452 -> alice:94876423252]"
            ]
          },
          "metadata": {
            "tags": []
          },
          "execution_count": 230
        }
      ]
    },
    {
      "cell_type": "code",
      "metadata": {
        "id": "e60X_eGty5zR",
        "colab_type": "code",
        "colab": {}
      },
      "source": [
        "y = x + x"
      ],
      "execution_count": 0,
      "outputs": []
    },
    {
      "cell_type": "code",
      "metadata": {
        "id": "TcMShItszCXx",
        "colab_type": "code",
        "outputId": "65da8b0b-dda2-4597-dae9-bf01735d6f71",
        "colab": {
          "base_uri": "https://localhost:8080/",
          "height": 34
        }
      },
      "source": [
        "y"
      ],
      "execution_count": 232,
      "outputs": [
        {
          "output_type": "execute_result",
          "data": {
            "text/plain": [
              "(Wrapper)>[PointerTensor | me:44133723287 -> alice:52010814793]"
            ]
          },
          "metadata": {
            "tags": []
          },
          "execution_count": 232
        }
      ]
    },
    {
      "cell_type": "code",
      "metadata": {
        "id": "om2lZVrszC2s",
        "colab_type": "code",
        "outputId": "f30b2cad-58bb-4b42-d3ea-9e41fff5352a",
        "colab": {
          "base_uri": "https://localhost:8080/",
          "height": 51
        }
      },
      "source": [
        "bob._objects"
      ],
      "execution_count": 233,
      "outputs": [
        {
          "output_type": "execute_result",
          "data": {
            "text/plain": [
              "{19540000931: tensor([1, 2, 3, 4, 5]),\n",
              " 52664478235: tensor([ 2,  4,  6,  8, 10])}"
            ]
          },
          "metadata": {
            "tags": []
          },
          "execution_count": 233
        }
      ]
    },
    {
      "cell_type": "code",
      "metadata": {
        "id": "pjv72DbL0Tiq",
        "colab_type": "code",
        "outputId": "a6a9389f-1a8b-45f6-9ce2-1de18d7742a7",
        "colab": {
          "base_uri": "https://localhost:8080/",
          "height": 51
        }
      },
      "source": [
        "alice._objects"
      ],
      "execution_count": 234,
      "outputs": [
        {
          "output_type": "execute_result",
          "data": {
            "text/plain": [
              "{52010814793: (Wrapper)>[PointerTensor | alice:52010814793 -> bob:52664478235],\n",
              " 94876423252: (Wrapper)>[PointerTensor | alice:94876423252 -> bob:19540000931]}"
            ]
          },
          "metadata": {
            "tags": []
          },
          "execution_count": 234
        }
      ]
    },
    {
      "cell_type": "code",
      "metadata": {
        "id": "_z5u39Q9ZBNa",
        "colab_type": "code",
        "colab": {}
      },
      "source": [
        "jon = sy.VirtualWorker(hook, id=\"jon\")"
      ],
      "execution_count": 0,
      "outputs": []
    },
    {
      "cell_type": "code",
      "metadata": {
        "id": "pVTjmBy70Xgf",
        "colab_type": "code",
        "colab": {}
      },
      "source": [
        "bob.clear_objects\n",
        "\n",
        "x = th.tensor([1,2,3,4,5]).send(bob).send(alice)\n",
        "y = th.tensor([1,2,3,4,5]).send(bob).send(jon)"
      ],
      "execution_count": 0,
      "outputs": []
    },
    {
      "cell_type": "code",
      "metadata": {
        "id": "QRqhUWdaZPtX",
        "colab_type": "code",
        "outputId": "e2447bdb-2a4d-41bb-9e42-44a91ef88948",
        "colab": {
          "base_uri": "https://localhost:8080/",
          "height": 34
        }
      },
      "source": [
        "x = x.get()\n",
        "x"
      ],
      "execution_count": 237,
      "outputs": [
        {
          "output_type": "execute_result",
          "data": {
            "text/plain": [
              "(Wrapper)>[PointerTensor | me:5723010485 -> bob:39321470421]"
            ]
          },
          "metadata": {
            "tags": []
          },
          "execution_count": 237
        }
      ]
    },
    {
      "cell_type": "code",
      "metadata": {
        "id": "rV02eOxIZRc0",
        "colab_type": "code",
        "colab": {}
      },
      "source": [
        "bob.clear_objects()\n",
        "alice.clear_objects()\n",
        "\n",
        "x = th.tensor([1,2,3,4,5]).send(bob).send(alice)\n",
        "y = th.tensor([1,2,3,4,5]).send(bob).send(alice)"
      ],
      "execution_count": 0,
      "outputs": []
    },
    {
      "cell_type": "code",
      "metadata": {
        "id": "jGkybf2aZvBu",
        "colab_type": "code",
        "outputId": "91f7ed01-3026-4cca-b6b8-571f7940e56c",
        "colab": {
          "base_uri": "https://localhost:8080/",
          "height": 34
        }
      },
      "source": [
        "bob._objects"
      ],
      "execution_count": 239,
      "outputs": [
        {
          "output_type": "execute_result",
          "data": {
            "text/plain": [
              "{88363085947: tensor([1, 2, 3, 4, 5]), 90938883184: tensor([1, 2, 3, 4, 5])}"
            ]
          },
          "metadata": {
            "tags": []
          },
          "execution_count": 239
        }
      ]
    },
    {
      "cell_type": "code",
      "metadata": {
        "id": "Bh3aniHoZ02a",
        "colab_type": "code",
        "outputId": "9e546fe6-b26f-43bf-c752-446d32ecabf6",
        "colab": {
          "base_uri": "https://localhost:8080/",
          "height": 51
        }
      },
      "source": [
        "alice._objects"
      ],
      "execution_count": 240,
      "outputs": [
        {
          "output_type": "execute_result",
          "data": {
            "text/plain": [
              "{13290698462: (Wrapper)>[PointerTensor | alice:13290698462 -> bob:90938883184],\n",
              " 33255572958: (Wrapper)>[PointerTensor | alice:33255572958 -> bob:88363085947]}"
            ]
          },
          "metadata": {
            "tags": []
          },
          "execution_count": 240
        }
      ]
    },
    {
      "cell_type": "code",
      "metadata": {
        "id": "7uuw8JPWZ8Ir",
        "colab_type": "code",
        "outputId": "d2171655-748f-435f-e506-14c2369c136d",
        "colab": {
          "base_uri": "https://localhost:8080/",
          "height": 34
        }
      },
      "source": [
        "x = x.get()\n",
        "x"
      ],
      "execution_count": 241,
      "outputs": [
        {
          "output_type": "execute_result",
          "data": {
            "text/plain": [
              "(Wrapper)>[PointerTensor | me:33255572958 -> bob:88363085947]"
            ]
          },
          "metadata": {
            "tags": []
          },
          "execution_count": 241
        }
      ]
    },
    {
      "cell_type": "code",
      "metadata": {
        "id": "BCXU8Je9aBpS",
        "colab_type": "code",
        "outputId": "ebba5893-6a07-4ab9-b4f9-406ec56256ef",
        "colab": {
          "base_uri": "https://localhost:8080/",
          "height": 34
        }
      },
      "source": [
        "alice._objects"
      ],
      "execution_count": 242,
      "outputs": [
        {
          "output_type": "execute_result",
          "data": {
            "text/plain": [
              "{13290698462: (Wrapper)>[PointerTensor | alice:13290698462 -> bob:90938883184]}"
            ]
          },
          "metadata": {
            "tags": []
          },
          "execution_count": 242
        }
      ]
    },
    {
      "cell_type": "code",
      "metadata": {
        "id": "EEa9s_F-aFuG",
        "colab_type": "code",
        "outputId": "62414883-2508-4505-d0b5-59460d254064",
        "colab": {
          "base_uri": "https://localhost:8080/",
          "height": 34
        }
      },
      "source": [
        "x = x.get()\n",
        "x"
      ],
      "execution_count": 243,
      "outputs": [
        {
          "output_type": "execute_result",
          "data": {
            "text/plain": [
              "tensor([1, 2, 3, 4, 5])"
            ]
          },
          "metadata": {
            "tags": []
          },
          "execution_count": 243
        }
      ]
    },
    {
      "cell_type": "code",
      "metadata": {
        "id": "9TDU1eDraM6t",
        "colab_type": "code",
        "colab": {}
      },
      "source": [
        ""
      ],
      "execution_count": 0,
      "outputs": []
    },
    {
      "cell_type": "markdown",
      "metadata": {
        "id": "uZoaMR8OiNwY",
        "colab_type": "text"
      },
      "source": [
        "Pointer Chain Operations"
      ]
    },
    {
      "cell_type": "code",
      "metadata": {
        "id": "r3nnRvtMiQtX",
        "colab_type": "code",
        "outputId": "ada8d907-5b54-461c-945b-aaa011beec6c",
        "colab": {
          "base_uri": "https://localhost:8080/",
          "height": 34
        }
      },
      "source": [
        "bob.clear_objects()\n",
        "alice.clear_objects()"
      ],
      "execution_count": 244,
      "outputs": [
        {
          "output_type": "execute_result",
          "data": {
            "text/plain": [
              "<VirtualWorker id:alice #objects:0>"
            ]
          },
          "metadata": {
            "tags": []
          },
          "execution_count": 244
        }
      ]
    },
    {
      "cell_type": "code",
      "metadata": {
        "id": "SM1FehvXjLJK",
        "colab_type": "code",
        "colab": {}
      },
      "source": [
        "x = th.tensor([1,2,3,4,5]).send(bob)"
      ],
      "execution_count": 0,
      "outputs": []
    },
    {
      "cell_type": "code",
      "metadata": {
        "id": "6x8CIoBOjK8c",
        "colab_type": "code",
        "outputId": "8c6500fa-a67d-4cc9-a3d7-25fe9f3f264b",
        "colab": {
          "base_uri": "https://localhost:8080/",
          "height": 34
        }
      },
      "source": [
        "bob._objects"
      ],
      "execution_count": 246,
      "outputs": [
        {
          "output_type": "execute_result",
          "data": {
            "text/plain": [
              "{8663948943: tensor([1, 2, 3, 4, 5])}"
            ]
          },
          "metadata": {
            "tags": []
          },
          "execution_count": 246
        }
      ]
    },
    {
      "cell_type": "code",
      "metadata": {
        "id": "Ejs-GxnnjK0Z",
        "colab_type": "code",
        "outputId": "427f3a63-5141-4efd-9bb6-9daefbb41dd0",
        "colab": {
          "base_uri": "https://localhost:8080/",
          "height": 34
        }
      },
      "source": [
        "alice._objects"
      ],
      "execution_count": 247,
      "outputs": [
        {
          "output_type": "execute_result",
          "data": {
            "text/plain": [
              "{}"
            ]
          },
          "metadata": {
            "tags": []
          },
          "execution_count": 247
        }
      ]
    },
    {
      "cell_type": "code",
      "metadata": {
        "id": "t3BmQeFIjVmB",
        "colab_type": "code",
        "outputId": "096166a6-250d-4ba5-ace9-de295e2c3b5b",
        "colab": {
          "base_uri": "https://localhost:8080/",
          "height": 34
        }
      },
      "source": [
        "x.move(alice)"
      ],
      "execution_count": 248,
      "outputs": [
        {
          "output_type": "execute_result",
          "data": {
            "text/plain": [
              "(Wrapper)>[PointerTensor | me:88194958461 -> alice:86088579779]"
            ]
          },
          "metadata": {
            "tags": []
          },
          "execution_count": 248
        }
      ]
    },
    {
      "cell_type": "code",
      "metadata": {
        "id": "tVFVygj_jaDt",
        "colab_type": "code",
        "outputId": "59dae9b9-3153-449b-9117-1cc59fcd055c",
        "colab": {
          "base_uri": "https://localhost:8080/",
          "height": 34
        }
      },
      "source": [
        "bob._objects"
      ],
      "execution_count": 249,
      "outputs": [
        {
          "output_type": "execute_result",
          "data": {
            "text/plain": [
              "{}"
            ]
          },
          "metadata": {
            "tags": []
          },
          "execution_count": 249
        }
      ]
    },
    {
      "cell_type": "code",
      "metadata": {
        "id": "i7AGnk_tjZ9G",
        "colab_type": "code",
        "outputId": "caa76b53-5f6b-4535-d973-3c29604b225f",
        "colab": {
          "base_uri": "https://localhost:8080/",
          "height": 34
        }
      },
      "source": [
        "alice._objects"
      ],
      "execution_count": 250,
      "outputs": [
        {
          "output_type": "execute_result",
          "data": {
            "text/plain": [
              "{86088579779: tensor([1, 2, 3, 4, 5])}"
            ]
          },
          "metadata": {
            "tags": []
          },
          "execution_count": 250
        }
      ]
    },
    {
      "cell_type": "code",
      "metadata": {
        "id": "uTzlXQBQiU6M",
        "colab_type": "code",
        "colab": {}
      },
      "source": [
        "x = th.tensor([1,2,3,4,5]).send(bob).send(alice)"
      ],
      "execution_count": 0,
      "outputs": []
    },
    {
      "cell_type": "code",
      "metadata": {
        "id": "Sq8OL2L1iaQv",
        "colab_type": "code",
        "outputId": "6fe69a8f-d36e-43ae-b688-0a76ea014913",
        "colab": {
          "base_uri": "https://localhost:8080/",
          "height": 34
        }
      },
      "source": [
        "bob._objects"
      ],
      "execution_count": 252,
      "outputs": [
        {
          "output_type": "execute_result",
          "data": {
            "text/plain": [
              "{75202658226: tensor([1, 2, 3, 4, 5])}"
            ]
          },
          "metadata": {
            "tags": []
          },
          "execution_count": 252
        }
      ]
    },
    {
      "cell_type": "code",
      "metadata": {
        "id": "LXbFErMNidtK",
        "colab_type": "code",
        "outputId": "05a2d064-adb6-465a-866e-b90e43e70df0",
        "colab": {
          "base_uri": "https://localhost:8080/",
          "height": 51
        }
      },
      "source": [
        "alice._objects"
      ],
      "execution_count": 253,
      "outputs": [
        {
          "output_type": "execute_result",
          "data": {
            "text/plain": [
              "{43523288081: (Wrapper)>[PointerTensor | alice:43523288081 -> bob:75202658226],\n",
              " 86088579779: tensor([1, 2, 3, 4, 5])}"
            ]
          },
          "metadata": {
            "tags": []
          },
          "execution_count": 253
        }
      ]
    },
    {
      "cell_type": "code",
      "metadata": {
        "id": "nqjy_oteinKL",
        "colab_type": "code",
        "outputId": "2aecad0f-2f3e-494d-c1f6-708ab8710d4d",
        "colab": {
          "base_uri": "https://localhost:8080/",
          "height": 34
        }
      },
      "source": [
        "x.remote_get()"
      ],
      "execution_count": 254,
      "outputs": [
        {
          "output_type": "execute_result",
          "data": {
            "text/plain": [
              "(Wrapper)>[PointerTensor | me:32885695534 -> alice:43523288081]"
            ]
          },
          "metadata": {
            "tags": []
          },
          "execution_count": 254
        }
      ]
    },
    {
      "cell_type": "code",
      "metadata": {
        "id": "h-tt1Ve3ipYj",
        "colab_type": "code",
        "outputId": "4f726136-f79b-4990-8823-daa4909d86d6",
        "colab": {
          "base_uri": "https://localhost:8080/",
          "height": 34
        }
      },
      "source": [
        "bob._objects"
      ],
      "execution_count": 255,
      "outputs": [
        {
          "output_type": "execute_result",
          "data": {
            "text/plain": [
              "{}"
            ]
          },
          "metadata": {
            "tags": []
          },
          "execution_count": 255
        }
      ]
    },
    {
      "cell_type": "code",
      "metadata": {
        "id": "pqenx20xirqj",
        "colab_type": "code",
        "outputId": "f67ea459-8ac1-4bd9-b05a-2f48fa4de633",
        "colab": {
          "base_uri": "https://localhost:8080/",
          "height": 34
        }
      },
      "source": [
        "alice._objects"
      ],
      "execution_count": 256,
      "outputs": [
        {
          "output_type": "execute_result",
          "data": {
            "text/plain": [
              "{43523288081: tensor([1, 2, 3, 4, 5]), 86088579779: tensor([1, 2, 3, 4, 5])}"
            ]
          },
          "metadata": {
            "tags": []
          },
          "execution_count": 256
        }
      ]
    },
    {
      "cell_type": "code",
      "metadata": {
        "id": "WF8lOeqIi1C_",
        "colab_type": "code",
        "outputId": "7972fe96-4846-4c01-d76d-93cec83ec39d",
        "colab": {
          "base_uri": "https://localhost:8080/",
          "height": 34
        }
      },
      "source": [
        "x.move(bob)"
      ],
      "execution_count": 257,
      "outputs": [
        {
          "output_type": "execute_result",
          "data": {
            "text/plain": [
              "(Wrapper)>[PointerTensor | me:6156871313 -> bob:32885695534]"
            ]
          },
          "metadata": {
            "tags": []
          },
          "execution_count": 257
        }
      ]
    },
    {
      "cell_type": "code",
      "metadata": {
        "id": "Gv2oNwHyi4r5",
        "colab_type": "code",
        "outputId": "0b892f24-7c54-4812-8bba-bb0a37e1aa5b",
        "colab": {
          "base_uri": "https://localhost:8080/",
          "height": 34
        }
      },
      "source": [
        "x"
      ],
      "execution_count": 258,
      "outputs": [
        {
          "output_type": "execute_result",
          "data": {
            "text/plain": [
              "(Wrapper)>[PointerTensor | me:6156871313 -> bob:32885695534]"
            ]
          },
          "metadata": {
            "tags": []
          },
          "execution_count": 258
        }
      ]
    },
    {
      "cell_type": "code",
      "metadata": {
        "id": "bRgyUoDgi5TO",
        "colab_type": "code",
        "outputId": "b4d60b00-2de3-4a7f-cc91-d46357a09e16",
        "colab": {
          "base_uri": "https://localhost:8080/",
          "height": 34
        }
      },
      "source": [
        "bob._objects"
      ],
      "execution_count": 259,
      "outputs": [
        {
          "output_type": "execute_result",
          "data": {
            "text/plain": [
              "{32885695534: tensor([1, 2, 3, 4, 5])}"
            ]
          },
          "metadata": {
            "tags": []
          },
          "execution_count": 259
        }
      ]
    },
    {
      "cell_type": "code",
      "metadata": {
        "id": "n8QPirPAi71V",
        "colab_type": "code",
        "colab": {}
      },
      "source": [
        ""
      ],
      "execution_count": 0,
      "outputs": []
    },
    {
      "cell_type": "code",
      "metadata": {
        "id": "eOW7JPcXlJIJ",
        "colab_type": "code",
        "colab": {}
      },
      "source": [
        ""
      ],
      "execution_count": 0,
      "outputs": []
    },
    {
      "cell_type": "code",
      "metadata": {
        "id": "tVU1bZQdlJCL",
        "colab_type": "code",
        "colab": {}
      },
      "source": [
        ""
      ],
      "execution_count": 0,
      "outputs": []
    },
    {
      "cell_type": "markdown",
      "metadata": {
        "id": "9rtNHdw3lKZp",
        "colab_type": "text"
      },
      "source": [
        "SECURING FEDERATED LEARNING\n",
        "\n",
        "Project: Federated Learning with a Trusted Aggregator"
      ]
    },
    {
      "cell_type": "code",
      "metadata": {
        "id": "pebWV0IilTW5",
        "colab_type": "code",
        "outputId": "1fc62b7b-7bc2-4d1b-94f7-ef301d390dd2",
        "colab": {
          "base_uri": "https://localhost:8080/",
          "height": 34
        }
      },
      "source": [
        "import syft as sy\n",
        "import torch as th\n",
        "hook = sy.TorchHook(th)\n",
        "from torch import nn, optim"
      ],
      "execution_count": 260,
      "outputs": [
        {
          "output_type": "stream",
          "text": [
            "W0902 07:04:03.454004 139747537282944 hook.py:102] Torch was already hooked... skipping hooking process\n"
          ],
          "name": "stderr"
        }
      ]
    },
    {
      "cell_type": "code",
      "metadata": {
        "id": "Zv65CaqrlnGe",
        "colab_type": "code",
        "colab": {}
      },
      "source": [
        "#create a couple of workers\n",
        "\n",
        "bob = sy.VirtualWorker(hook, id=\"bob\")\n",
        "alice = sy.VirtualWorker(hook, id=\"alice\")\n",
        "secure_worker = sy.VirtualWorker(hook, id=\"secure_worker\")"
      ],
      "execution_count": 0,
      "outputs": []
    },
    {
      "cell_type": "code",
      "metadata": {
        "id": "20t20ZR0mCTW",
        "colab_type": "code",
        "outputId": "58c951e6-51fa-43a1-b948-9683eeb44de7",
        "colab": {
          "base_uri": "https://localhost:8080/",
          "height": 156
        }
      },
      "source": [
        "bob.add_workers([alice, secure_worker])\n",
        "alice.add_workers([bob, secure_worker])\n",
        "secure_worker.add_workers([alice, bob])"
      ],
      "execution_count": 262,
      "outputs": [
        {
          "output_type": "stream",
          "text": [
            "W0902 07:04:03.474580 139747537282944 base.py:654] Worker alice already exists. Replacing old worker which could cause                     unexpected behavior\n",
            "W0902 07:04:03.476959 139747537282944 base.py:654] Worker secure_worker already exists. Replacing old worker which could cause                     unexpected behavior\n",
            "W0902 07:04:03.478661 139747537282944 base.py:654] Worker bob already exists. Replacing old worker which could cause                     unexpected behavior\n",
            "W0902 07:04:03.482336 139747537282944 base.py:654] Worker secure_worker already exists. Replacing old worker which could cause                     unexpected behavior\n",
            "W0902 07:04:03.483834 139747537282944 base.py:654] Worker alice already exists. Replacing old worker which could cause                     unexpected behavior\n",
            "W0902 07:04:03.485683 139747537282944 base.py:654] Worker bob already exists. Replacing old worker which could cause                     unexpected behavior\n"
          ],
          "name": "stderr"
        },
        {
          "output_type": "execute_result",
          "data": {
            "text/plain": [
              "<VirtualWorker id:secure_worker #objects:4>"
            ]
          },
          "metadata": {
            "tags": []
          },
          "execution_count": 262
        }
      ]
    },
    {
      "cell_type": "code",
      "metadata": {
        "id": "UsvJOEpUo0Xz",
        "colab_type": "code",
        "colab": {}
      },
      "source": [
        "# A toy Dataset\n",
        "data = th.tensor([[0,0],[0,1],[1,0],[1,1.]], requires_grad=True)\n",
        "target = th.tensor([[0],[0],[1],[1.]], requires_grad=True)"
      ],
      "execution_count": 0,
      "outputs": []
    },
    {
      "cell_type": "code",
      "metadata": {
        "id": "DeiUnwLipQwV",
        "colab_type": "code",
        "colab": {}
      },
      "source": [
        "# Get pointers to training data on each worker by \n",
        "# sending some training data to bob and alice\n",
        "bobs_data = data[0:2].send(bob)\n",
        "bobs_target = target[0:2].send(bob)\n"
      ],
      "execution_count": 0,
      "outputs": []
    },
    {
      "cell_type": "code",
      "metadata": {
        "id": "ASnRRTEappb7",
        "colab_type": "code",
        "colab": {}
      },
      "source": [
        "alices_data = data[2:].send(alice)\n",
        "alices_target = target[2:].send(alice)"
      ],
      "execution_count": 0,
      "outputs": []
    },
    {
      "cell_type": "code",
      "metadata": {
        "id": "HsgTjz-JqITr",
        "colab_type": "code",
        "colab": {}
      },
      "source": [
        "# Initialize A Toy Model\n",
        "model = nn.Linear(2,1)"
      ],
      "execution_count": 0,
      "outputs": []
    },
    {
      "cell_type": "code",
      "metadata": {
        "id": "qFFs04-oqOo-",
        "colab_type": "code",
        "colab": {}
      },
      "source": [
        "bobs_model = model.copy().send(bob)"
      ],
      "execution_count": 0,
      "outputs": []
    },
    {
      "cell_type": "code",
      "metadata": {
        "id": "6O6ThlHFqXS7",
        "colab_type": "code",
        "colab": {}
      },
      "source": [
        "alices_model = model.copy().send(alice)"
      ],
      "execution_count": 0,
      "outputs": []
    },
    {
      "cell_type": "code",
      "metadata": {
        "id": "3wYvpkqbqkNP",
        "colab_type": "code",
        "colab": {}
      },
      "source": [
        "bobs_opt = optim.SGD(params=bobs_model.parameters(), lr=0.1)\n",
        "alices_opt = optim.SGD(params=alices_model.parameters(), lr=0.1)"
      ],
      "execution_count": 0,
      "outputs": []
    },
    {
      "cell_type": "code",
      "metadata": {
        "id": "jRHxULNYq2jS",
        "colab_type": "code",
        "outputId": "d3d3e225-5c4c-47cd-eee3-f3e416be901f",
        "colab": {
          "base_uri": "https://localhost:8080/",
          "height": 357
        }
      },
      "source": [
        "for i in range(10):\n",
        "  bobs_opt.zero_grad()\n",
        "  bobs_pred = bobs_model(bobs_data)\n",
        "  bobs_loss = ((bobs_pred - bobs_target)**2).sum()\n",
        "  bobs_loss.backward()\n",
        "\n",
        "  bobs_opt.step()\n",
        "  bobs_loss = bobs_loss.get().data\n",
        "  print(bobs_loss)\n",
        "  \n",
        "  alices_opt.zero_grad()\n",
        "  alices_pred = alices_model(alices_data)\n",
        "  alices_loss = ((alices_pred - alices_target)**2).sum()\n",
        "  alices_loss.backward()\n",
        "\n",
        "  alices_opt.step()\n",
        "  alices_loss = alices_loss.get().data\n",
        "  print(alices_loss)"
      ],
      "execution_count": 270,
      "outputs": [
        {
          "output_type": "stream",
          "text": [
            "tensor(0.4297)\n",
            "tensor(3.9132)\n",
            "tensor(0.1109)\n",
            "tensor(0.0320)\n",
            "tensor(0.0365)\n",
            "tensor(0.0018)\n",
            "tensor(0.0180)\n",
            "tensor(0.0013)\n",
            "tensor(0.0124)\n",
            "tensor(0.0011)\n",
            "tensor(0.0099)\n",
            "tensor(0.0009)\n",
            "tensor(0.0083)\n",
            "tensor(0.0008)\n",
            "tensor(0.0070)\n",
            "tensor(0.0006)\n",
            "tensor(0.0060)\n",
            "tensor(0.0005)\n",
            "tensor(0.0051)\n",
            "tensor(0.0004)\n"
          ],
          "name": "stdout"
        }
      ]
    },
    {
      "cell_type": "code",
      "metadata": {
        "id": "WG5_LEMnrm1W",
        "colab_type": "code",
        "colab": {}
      },
      "source": [
        "alices_model.move(secure_worker)\n",
        "bobs_model.move(secure_worker)"
      ],
      "execution_count": 0,
      "outputs": []
    },
    {
      "cell_type": "code",
      "metadata": {
        "id": "y8vhc0MCuhDO",
        "colab_type": "code",
        "outputId": "e4937c22-c882-451e-874f-238a077d8cf8",
        "colab": {
          "base_uri": "https://localhost:8080/",
          "height": 289
        }
      },
      "source": [
        "secure_worker._objects"
      ],
      "execution_count": 272,
      "outputs": [
        {
          "output_type": "execute_result",
          "data": {
            "text/plain": [
              "{8060375486: Parameter containing:\n",
              " tensor([[ 0.6295, -0.0267]], requires_grad=True),\n",
              " 17003801662: Parameter containing:\n",
              " tensor([0.3854], requires_grad=True),\n",
              " 17403923274: Parameter containing:\n",
              " tensor([0.7186], requires_grad=True),\n",
              " 22072383185: Parameter containing:\n",
              " tensor([0.0559], requires_grad=True),\n",
              " 64755854191: Parameter containing:\n",
              " tensor([[-0.1444,  0.0690]], requires_grad=True),\n",
              " 68171981891: Parameter containing:\n",
              " tensor([[0.1506, 0.2328]], requires_grad=True),\n",
              " 86741182830: Parameter containing:\n",
              " tensor([-0.0422], requires_grad=True),\n",
              " 98758672733: Parameter containing:\n",
              " tensor([[ 0.0323, -0.0909]], requires_grad=True)}"
            ]
          },
          "metadata": {
            "tags": []
          },
          "execution_count": 272
        }
      ]
    },
    {
      "cell_type": "code",
      "metadata": {
        "id": "5B1tPoFBwyJg",
        "colab_type": "code",
        "colab": {}
      },
      "source": [
        "model.weight.data = ((alices_model.weight.data + bobs_model.weight.data) / 2).get()"
      ],
      "execution_count": 0,
      "outputs": []
    },
    {
      "cell_type": "code",
      "metadata": {
        "id": "u_UWQV5yxPw8",
        "colab_type": "code",
        "colab": {}
      },
      "source": [
        "model.bias.data = ((alices_model.bias.data + bobs_model.bias.data) / 2).get()"
      ],
      "execution_count": 0,
      "outputs": []
    },
    {
      "cell_type": "code",
      "metadata": {
        "id": "sxHq_EseyLK2",
        "colab_type": "code",
        "colab": {
          "base_uri": "https://localhost:8080/",
          "height": 187
        },
        "outputId": "793aea6d-fe11-4c81-8b23-215e17defc1f"
      },
      "source": [
        "for round_iter in range(10):\n",
        "  bobs_model = model.copy().send(bob)\n",
        "  alices_model = model.copy().send(alice)\n",
        "\n",
        "  bobs_opt = optim.SGD(params=bobs_model.parameters(), lr=0.1)\n",
        "  alices_opt = optim.SGD(params=alices_model.parameters(), lr=0.1)\n",
        "\n",
        "  for i in range(10):\n",
        "    bobs_opt.zero_grad()\n",
        "    bobs_pred = bobs_model(bobs_data)\n",
        "    bobs_loss = ((bobs_pred - bobs_target)**2).sum()\n",
        "    bobs_loss.backward()\n",
        "\n",
        "    bobs_opt.step()\n",
        "    bobs_loss = bobs_loss.get().data\n",
        "  \n",
        "    alices_opt.zero_grad()\n",
        "    alices_pred = alices_model(alices_data)\n",
        "    alices_loss = ((alices_pred - alices_target)**2).sum()\n",
        "    alices_loss.backward()\n",
        "\n",
        "    alices_opt.step()\n",
        "    alices_loss = alices_loss.get().data\n",
        "  \n",
        "  alices_model.move(secure_worker)\n",
        "  bobs_model.move(secure_worker)\n",
        "\n",
        "  model.weight.data = ((alices_model.weight.data + bobs_model.weight.data) / 2).get()\n",
        "  model.bias.data = ((alices_model.bias.data + bobs_model.bias.data) / 2).get()\n",
        "\n",
        "  secure_worker.clear_objects()\n",
        "\n",
        "  print(\"Bob:\" + str(bobs_loss) + \"Alice:\" + str(alices_loss))"
      ],
      "execution_count": 277,
      "outputs": [
        {
          "output_type": "stream",
          "text": [
            "Bob:tensor(0.0025)Alice:tensor(0.0003)\n",
            "Bob:tensor(0.0019)Alice:tensor(0.0004)\n",
            "Bob:tensor(0.0014)Alice:tensor(0.0003)\n",
            "Bob:tensor(0.0011)Alice:tensor(0.0002)\n",
            "Bob:tensor(0.0008)Alice:tensor(0.0001)\n",
            "Bob:tensor(0.0006)Alice:tensor(0.0001)\n",
            "Bob:tensor(0.0005)Alice:tensor(8.0026e-05)\n",
            "Bob:tensor(0.0004)Alice:tensor(6.0062e-05)\n",
            "Bob:tensor(0.0003)Alice:tensor(4.5135e-05)\n",
            "Bob:tensor(0.0002)Alice:tensor(3.3938e-05)\n"
          ],
          "name": "stdout"
        }
      ]
    },
    {
      "cell_type": "code",
      "metadata": {
        "id": "vU5J4FmT0X_B",
        "colab_type": "code",
        "colab": {}
      },
      "source": [
        ""
      ],
      "execution_count": 0,
      "outputs": []
    },
    {
      "cell_type": "markdown",
      "metadata": {
        "id": "DUepihsL0pOU",
        "colab_type": "text"
      },
      "source": [
        "Build Methods for Encrypt, Decrypt and Add"
      ]
    },
    {
      "cell_type": "code",
      "metadata": {
        "id": "8lKmlikc1E9y",
        "colab_type": "code",
        "colab": {}
      },
      "source": [
        "import random"
      ],
      "execution_count": 0,
      "outputs": []
    },
    {
      "cell_type": "code",
      "metadata": {
        "id": "Dd-pbqfR11P1",
        "colab_type": "code",
        "colab": {}
      },
      "source": [
        "x = 5"
      ],
      "execution_count": 0,
      "outputs": []
    },
    {
      "cell_type": "code",
      "metadata": {
        "id": "rILOWYaC1IVH",
        "colab_type": "code",
        "colab": {}
      },
      "source": [
        "Q = 8643286428019047225236"
      ],
      "execution_count": 0,
      "outputs": []
    },
    {
      "cell_type": "code",
      "metadata": {
        "id": "vAxohE330o9B",
        "colab_type": "code",
        "colab": {}
      },
      "source": [
        "def encrypt(x, n_shares):\n",
        "  n_shares = 3\n",
        "  shares = list()\n",
        "\n",
        "  for i in range(n_shares-1):\n",
        "       shares.append(random.randint(0,Q))\n",
        "    \n",
        "  final_share = Q - (sum(shares) % Q) + x    \n",
        "  shares.append(final_share)\n",
        "  \n",
        "  \n",
        "  return tuple(shares)  "
      ],
      "execution_count": 0,
      "outputs": []
    },
    {
      "cell_type": "code",
      "metadata": {
        "id": "X9uyQ30m1Ovn",
        "colab_type": "code",
        "colab": {
          "base_uri": "https://localhost:8080/",
          "height": 34
        },
        "outputId": "cf2bee87-d484-4851-8512-2237fe75f3d8"
      },
      "source": [
        "encrypt(5, n_shares=10)"
      ],
      "execution_count": 293,
      "outputs": [
        {
          "output_type": "execute_result",
          "data": {
            "text/plain": [
              "(4368365095416890693455, 3008812267533009550888, 1266109065069146980898)"
            ]
          },
          "metadata": {
            "tags": []
          },
          "execution_count": 293
        }
      ]
    },
    {
      "cell_type": "code",
      "metadata": {
        "id": "5C90vkrd12U9",
        "colab_type": "code",
        "colab": {}
      },
      "source": [
        "def decrypt(shares):\n",
        "  return sum(shares) % Q"
      ],
      "execution_count": 0,
      "outputs": []
    },
    {
      "cell_type": "code",
      "metadata": {
        "id": "GcB5HSvq16XF",
        "colab_type": "code",
        "colab": {
          "base_uri": "https://localhost:8080/",
          "height": 34
        },
        "outputId": "5163b5cb-2d6e-4162-bdb8-e7268afe2690"
      },
      "source": [
        "decrypt(encrypt(5, 3))"
      ],
      "execution_count": 296,
      "outputs": [
        {
          "output_type": "execute_result",
          "data": {
            "text/plain": [
              "5"
            ]
          },
          "metadata": {
            "tags": []
          },
          "execution_count": 296
        }
      ]
    },
    {
      "cell_type": "code",
      "metadata": {
        "id": "jSeg6FaC19XF",
        "colab_type": "code",
        "colab": {}
      },
      "source": [
        "def add(a, b):\n",
        "  \n",
        "  c = list()\n",
        "  for i in range(len(a)):\n",
        "    \n",
        "    c.append((a[i] + b[i]) % Q)\n",
        "    \n",
        "  return tuple(c)"
      ],
      "execution_count": 0,
      "outputs": []
    },
    {
      "cell_type": "code",
      "metadata": {
        "id": "PbeT9tDG3Es2",
        "colab_type": "code",
        "colab": {
          "base_uri": "https://localhost:8080/",
          "height": 34
        },
        "outputId": "3da56534-f517-4c11-80c5-dee611b641c6"
      },
      "source": [
        "decrypt(add(encrypt(5,3), encrypt(10,3)))"
      ],
      "execution_count": 300,
      "outputs": [
        {
          "output_type": "execute_result",
          "data": {
            "text/plain": [
              "15"
            ]
          },
          "metadata": {
            "tags": []
          },
          "execution_count": 300
        }
      ]
    },
    {
      "cell_type": "code",
      "metadata": {
        "id": "Xi49Qfiu3SNV",
        "colab_type": "code",
        "colab": {}
      },
      "source": [
        ""
      ],
      "execution_count": 0,
      "outputs": []
    }
  ]
}