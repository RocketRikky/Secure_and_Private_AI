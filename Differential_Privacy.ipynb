{
  "nbformat": 4,
  "nbformat_minor": 0,
  "metadata": {
    "colab": {
      "name": "Differential_Privacy.ipynb",
      "version": "0.3.2",
      "provenance": [],
      "collapsed_sections": []
    },
    "kernelspec": {
      "name": "python3",
      "display_name": "Python 3"
    }
  },
  "cells": [
    {
      "cell_type": "code",
      "metadata": {
        "id": "Ezwi5f3jV5_U",
        "colab_type": "code",
        "colab": {}
      },
      "source": [
        "#!pip install syft"
      ],
      "execution_count": 0,
      "outputs": []
    },
    {
      "cell_type": "code",
      "metadata": {
        "id": "2t9UahboacIy",
        "colab_type": "code",
        "colab": {}
      },
      "source": [
        "import numpy as np\n",
        "import torch"
      ],
      "execution_count": 0,
      "outputs": []
    },
    {
      "cell_type": "code",
      "metadata": {
        "id": "NB_fzExpSK9p",
        "colab_type": "code",
        "outputId": "e8d10b5e-9172-45b3-d35e-d8fcac8a9264",
        "colab": {
          "base_uri": "https://localhost:8080/",
          "height": 34
        }
      },
      "source": [
        "num_entries = 5000\n",
        "\n",
        "db = torch.rand(num_entries) > 0.5\n",
        "db"
      ],
      "execution_count": 3,
      "outputs": [
        {
          "output_type": "execute_result",
          "data": {
            "text/plain": [
              "tensor([0, 1, 1,  ..., 1, 1, 0], dtype=torch.uint8)"
            ]
          },
          "metadata": {
            "tags": []
          },
          "execution_count": 3
        }
      ]
    },
    {
      "cell_type": "code",
      "metadata": {
        "id": "VDIqTwGTSadi",
        "colab_type": "code",
        "outputId": "9afd05e1-9878-4aed-cf41-a2c9bf82e431",
        "colab": {
          "base_uri": "https://localhost:8080/",
          "height": 34
        }
      },
      "source": [
        "db.shape"
      ],
      "execution_count": 4,
      "outputs": [
        {
          "output_type": "execute_result",
          "data": {
            "text/plain": [
              "torch.Size([5000])"
            ]
          },
          "metadata": {
            "tags": []
          },
          "execution_count": 4
        }
      ]
    },
    {
      "cell_type": "code",
      "metadata": {
        "id": "noiE_nXaS-aM",
        "colab_type": "code",
        "colab": {}
      },
      "source": [
        "remove_index = 2"
      ],
      "execution_count": 0,
      "outputs": []
    },
    {
      "cell_type": "code",
      "metadata": {
        "id": "roDjRXCmTB2J",
        "colab_type": "code",
        "outputId": "ce268634-4bac-4987-c1f4-83ed0a6ad15a",
        "colab": {
          "base_uri": "https://localhost:8080/",
          "height": 34
        }
      },
      "source": [
        "db[0:2]"
      ],
      "execution_count": 6,
      "outputs": [
        {
          "output_type": "execute_result",
          "data": {
            "text/plain": [
              "tensor([0, 1], dtype=torch.uint8)"
            ]
          },
          "metadata": {
            "tags": []
          },
          "execution_count": 6
        }
      ]
    },
    {
      "cell_type": "code",
      "metadata": {
        "id": "ZZ_Wnx0rTGaz",
        "colab_type": "code",
        "outputId": "2b61a36c-4be0-43cd-ae99-4f29271d4635",
        "colab": {
          "base_uri": "https://localhost:8080/",
          "height": 34
        }
      },
      "source": [
        "db[3:]"
      ],
      "execution_count": 7,
      "outputs": [
        {
          "output_type": "execute_result",
          "data": {
            "text/plain": [
              "tensor([1, 0, 0,  ..., 1, 1, 0], dtype=torch.uint8)"
            ]
          },
          "metadata": {
            "tags": []
          },
          "execution_count": 7
        }
      ]
    },
    {
      "cell_type": "code",
      "metadata": {
        "id": "l2oS-kp7TJVt",
        "colab_type": "code",
        "colab": {}
      },
      "source": [
        "def get_parallel_db(db, remove_index):\n",
        "  \n",
        "  return torch.cat((db[0:remove_index], db[remove_index+1:]))"
      ],
      "execution_count": 0,
      "outputs": []
    },
    {
      "cell_type": "code",
      "metadata": {
        "id": "OnUJRM0TTU2g",
        "colab_type": "code",
        "outputId": "58bc4d73-98f3-4686-a256-303bb813bc25",
        "colab": {
          "base_uri": "https://localhost:8080/",
          "height": 34
        }
      },
      "source": [
        "get_parallel_db(db, 0)[0:5]"
      ],
      "execution_count": 9,
      "outputs": [
        {
          "output_type": "execute_result",
          "data": {
            "text/plain": [
              "tensor([1, 1, 1, 0, 0], dtype=torch.uint8)"
            ]
          },
          "metadata": {
            "tags": []
          },
          "execution_count": 9
        }
      ]
    },
    {
      "cell_type": "code",
      "metadata": {
        "id": "UzGiNZDEUDqP",
        "colab_type": "code",
        "outputId": "20fb5a3d-d0c6-416c-d2f5-1c6dfa178ba9",
        "colab": {
          "base_uri": "https://localhost:8080/",
          "height": 34
        }
      },
      "source": [
        "get_parallel_db(db, 0).shape"
      ],
      "execution_count": 10,
      "outputs": [
        {
          "output_type": "execute_result",
          "data": {
            "text/plain": [
              "torch.Size([4999])"
            ]
          },
          "metadata": {
            "tags": []
          },
          "execution_count": 10
        }
      ]
    },
    {
      "cell_type": "code",
      "metadata": {
        "id": "M3SZWYRZUTj6",
        "colab_type": "code",
        "colab": {}
      },
      "source": [
        "def get_parallel_dbs(db):\n",
        "  parallel_dbs = list()\n",
        "  \n",
        "  for i in range(len(db)):\n",
        "    pdb = get_parallel_db(db, i)\n",
        "    parallel_dbs.append(pdb)\n",
        "  \n",
        "  return parallel_dbs"
      ],
      "execution_count": 0,
      "outputs": []
    },
    {
      "cell_type": "code",
      "metadata": {
        "id": "VQ3wiCUOUgK9",
        "colab_type": "code",
        "colab": {}
      },
      "source": [
        "pdbs = get_parallel_dbs(db)"
      ],
      "execution_count": 0,
      "outputs": []
    },
    {
      "cell_type": "code",
      "metadata": {
        "id": "IL5BfdUbUsXr",
        "colab_type": "code",
        "outputId": "9f9c22fa-f8c5-427c-f805-5a00be80c07b",
        "colab": {
          "base_uri": "https://localhost:8080/",
          "height": 1000
        }
      },
      "source": [
        "pdbs"
      ],
      "execution_count": 13,
      "outputs": [
        {
          "output_type": "execute_result",
          "data": {
            "text/plain": [
              "[tensor([1, 1, 1,  ..., 1, 1, 0], dtype=torch.uint8),\n",
              " tensor([0, 1, 1,  ..., 1, 1, 0], dtype=torch.uint8),\n",
              " tensor([0, 1, 1,  ..., 1, 1, 0], dtype=torch.uint8),\n",
              " tensor([0, 1, 1,  ..., 1, 1, 0], dtype=torch.uint8),\n",
              " tensor([0, 1, 1,  ..., 1, 1, 0], dtype=torch.uint8),\n",
              " tensor([0, 1, 1,  ..., 1, 1, 0], dtype=torch.uint8),\n",
              " tensor([0, 1, 1,  ..., 1, 1, 0], dtype=torch.uint8),\n",
              " tensor([0, 1, 1,  ..., 1, 1, 0], dtype=torch.uint8),\n",
              " tensor([0, 1, 1,  ..., 1, 1, 0], dtype=torch.uint8),\n",
              " tensor([0, 1, 1,  ..., 1, 1, 0], dtype=torch.uint8),\n",
              " tensor([0, 1, 1,  ..., 1, 1, 0], dtype=torch.uint8),\n",
              " tensor([0, 1, 1,  ..., 1, 1, 0], dtype=torch.uint8),\n",
              " tensor([0, 1, 1,  ..., 1, 1, 0], dtype=torch.uint8),\n",
              " tensor([0, 1, 1,  ..., 1, 1, 0], dtype=torch.uint8),\n",
              " tensor([0, 1, 1,  ..., 1, 1, 0], dtype=torch.uint8),\n",
              " tensor([0, 1, 1,  ..., 1, 1, 0], dtype=torch.uint8),\n",
              " tensor([0, 1, 1,  ..., 1, 1, 0], dtype=torch.uint8),\n",
              " tensor([0, 1, 1,  ..., 1, 1, 0], dtype=torch.uint8),\n",
              " tensor([0, 1, 1,  ..., 1, 1, 0], dtype=torch.uint8),\n",
              " tensor([0, 1, 1,  ..., 1, 1, 0], dtype=torch.uint8),\n",
              " tensor([0, 1, 1,  ..., 1, 1, 0], dtype=torch.uint8),\n",
              " tensor([0, 1, 1,  ..., 1, 1, 0], dtype=torch.uint8),\n",
              " tensor([0, 1, 1,  ..., 1, 1, 0], dtype=torch.uint8),\n",
              " tensor([0, 1, 1,  ..., 1, 1, 0], dtype=torch.uint8),\n",
              " tensor([0, 1, 1,  ..., 1, 1, 0], dtype=torch.uint8),\n",
              " tensor([0, 1, 1,  ..., 1, 1, 0], dtype=torch.uint8),\n",
              " tensor([0, 1, 1,  ..., 1, 1, 0], dtype=torch.uint8),\n",
              " tensor([0, 1, 1,  ..., 1, 1, 0], dtype=torch.uint8),\n",
              " tensor([0, 1, 1,  ..., 1, 1, 0], dtype=torch.uint8),\n",
              " tensor([0, 1, 1,  ..., 1, 1, 0], dtype=torch.uint8),\n",
              " tensor([0, 1, 1,  ..., 1, 1, 0], dtype=torch.uint8),\n",
              " tensor([0, 1, 1,  ..., 1, 1, 0], dtype=torch.uint8),\n",
              " tensor([0, 1, 1,  ..., 1, 1, 0], dtype=torch.uint8),\n",
              " tensor([0, 1, 1,  ..., 1, 1, 0], dtype=torch.uint8),\n",
              " tensor([0, 1, 1,  ..., 1, 1, 0], dtype=torch.uint8),\n",
              " tensor([0, 1, 1,  ..., 1, 1, 0], dtype=torch.uint8),\n",
              " tensor([0, 1, 1,  ..., 1, 1, 0], dtype=torch.uint8),\n",
              " tensor([0, 1, 1,  ..., 1, 1, 0], dtype=torch.uint8),\n",
              " tensor([0, 1, 1,  ..., 1, 1, 0], dtype=torch.uint8),\n",
              " tensor([0, 1, 1,  ..., 1, 1, 0], dtype=torch.uint8),\n",
              " tensor([0, 1, 1,  ..., 1, 1, 0], dtype=torch.uint8),\n",
              " tensor([0, 1, 1,  ..., 1, 1, 0], dtype=torch.uint8),\n",
              " tensor([0, 1, 1,  ..., 1, 1, 0], dtype=torch.uint8),\n",
              " tensor([0, 1, 1,  ..., 1, 1, 0], dtype=torch.uint8),\n",
              " tensor([0, 1, 1,  ..., 1, 1, 0], dtype=torch.uint8),\n",
              " tensor([0, 1, 1,  ..., 1, 1, 0], dtype=torch.uint8),\n",
              " tensor([0, 1, 1,  ..., 1, 1, 0], dtype=torch.uint8),\n",
              " tensor([0, 1, 1,  ..., 1, 1, 0], dtype=torch.uint8),\n",
              " tensor([0, 1, 1,  ..., 1, 1, 0], dtype=torch.uint8),\n",
              " tensor([0, 1, 1,  ..., 1, 1, 0], dtype=torch.uint8),\n",
              " tensor([0, 1, 1,  ..., 1, 1, 0], dtype=torch.uint8),\n",
              " tensor([0, 1, 1,  ..., 1, 1, 0], dtype=torch.uint8),\n",
              " tensor([0, 1, 1,  ..., 1, 1, 0], dtype=torch.uint8),\n",
              " tensor([0, 1, 1,  ..., 1, 1, 0], dtype=torch.uint8),\n",
              " tensor([0, 1, 1,  ..., 1, 1, 0], dtype=torch.uint8),\n",
              " tensor([0, 1, 1,  ..., 1, 1, 0], dtype=torch.uint8),\n",
              " tensor([0, 1, 1,  ..., 1, 1, 0], dtype=torch.uint8),\n",
              " tensor([0, 1, 1,  ..., 1, 1, 0], dtype=torch.uint8),\n",
              " tensor([0, 1, 1,  ..., 1, 1, 0], dtype=torch.uint8),\n",
              " tensor([0, 1, 1,  ..., 1, 1, 0], dtype=torch.uint8),\n",
              " tensor([0, 1, 1,  ..., 1, 1, 0], dtype=torch.uint8),\n",
              " tensor([0, 1, 1,  ..., 1, 1, 0], dtype=torch.uint8),\n",
              " tensor([0, 1, 1,  ..., 1, 1, 0], dtype=torch.uint8),\n",
              " tensor([0, 1, 1,  ..., 1, 1, 0], dtype=torch.uint8),\n",
              " tensor([0, 1, 1,  ..., 1, 1, 0], dtype=torch.uint8),\n",
              " tensor([0, 1, 1,  ..., 1, 1, 0], dtype=torch.uint8),\n",
              " tensor([0, 1, 1,  ..., 1, 1, 0], dtype=torch.uint8),\n",
              " tensor([0, 1, 1,  ..., 1, 1, 0], dtype=torch.uint8),\n",
              " tensor([0, 1, 1,  ..., 1, 1, 0], dtype=torch.uint8),\n",
              " tensor([0, 1, 1,  ..., 1, 1, 0], dtype=torch.uint8),\n",
              " tensor([0, 1, 1,  ..., 1, 1, 0], dtype=torch.uint8),\n",
              " tensor([0, 1, 1,  ..., 1, 1, 0], dtype=torch.uint8),\n",
              " tensor([0, 1, 1,  ..., 1, 1, 0], dtype=torch.uint8),\n",
              " tensor([0, 1, 1,  ..., 1, 1, 0], dtype=torch.uint8),\n",
              " tensor([0, 1, 1,  ..., 1, 1, 0], dtype=torch.uint8),\n",
              " tensor([0, 1, 1,  ..., 1, 1, 0], dtype=torch.uint8),\n",
              " tensor([0, 1, 1,  ..., 1, 1, 0], dtype=torch.uint8),\n",
              " tensor([0, 1, 1,  ..., 1, 1, 0], dtype=torch.uint8),\n",
              " tensor([0, 1, 1,  ..., 1, 1, 0], dtype=torch.uint8),\n",
              " tensor([0, 1, 1,  ..., 1, 1, 0], dtype=torch.uint8),\n",
              " tensor([0, 1, 1,  ..., 1, 1, 0], dtype=torch.uint8),\n",
              " tensor([0, 1, 1,  ..., 1, 1, 0], dtype=torch.uint8),\n",
              " tensor([0, 1, 1,  ..., 1, 1, 0], dtype=torch.uint8),\n",
              " tensor([0, 1, 1,  ..., 1, 1, 0], dtype=torch.uint8),\n",
              " tensor([0, 1, 1,  ..., 1, 1, 0], dtype=torch.uint8),\n",
              " tensor([0, 1, 1,  ..., 1, 1, 0], dtype=torch.uint8),\n",
              " tensor([0, 1, 1,  ..., 1, 1, 0], dtype=torch.uint8),\n",
              " tensor([0, 1, 1,  ..., 1, 1, 0], dtype=torch.uint8),\n",
              " tensor([0, 1, 1,  ..., 1, 1, 0], dtype=torch.uint8),\n",
              " tensor([0, 1, 1,  ..., 1, 1, 0], dtype=torch.uint8),\n",
              " tensor([0, 1, 1,  ..., 1, 1, 0], dtype=torch.uint8),\n",
              " tensor([0, 1, 1,  ..., 1, 1, 0], dtype=torch.uint8),\n",
              " tensor([0, 1, 1,  ..., 1, 1, 0], dtype=torch.uint8),\n",
              " tensor([0, 1, 1,  ..., 1, 1, 0], dtype=torch.uint8),\n",
              " tensor([0, 1, 1,  ..., 1, 1, 0], dtype=torch.uint8),\n",
              " tensor([0, 1, 1,  ..., 1, 1, 0], dtype=torch.uint8),\n",
              " tensor([0, 1, 1,  ..., 1, 1, 0], dtype=torch.uint8),\n",
              " tensor([0, 1, 1,  ..., 1, 1, 0], dtype=torch.uint8),\n",
              " tensor([0, 1, 1,  ..., 1, 1, 0], dtype=torch.uint8),\n",
              " tensor([0, 1, 1,  ..., 1, 1, 0], dtype=torch.uint8),\n",
              " tensor([0, 1, 1,  ..., 1, 1, 0], dtype=torch.uint8),\n",
              " tensor([0, 1, 1,  ..., 1, 1, 0], dtype=torch.uint8),\n",
              " tensor([0, 1, 1,  ..., 1, 1, 0], dtype=torch.uint8),\n",
              " tensor([0, 1, 1,  ..., 1, 1, 0], dtype=torch.uint8),\n",
              " tensor([0, 1, 1,  ..., 1, 1, 0], dtype=torch.uint8),\n",
              " tensor([0, 1, 1,  ..., 1, 1, 0], dtype=torch.uint8),\n",
              " tensor([0, 1, 1,  ..., 1, 1, 0], dtype=torch.uint8),\n",
              " tensor([0, 1, 1,  ..., 1, 1, 0], dtype=torch.uint8),\n",
              " tensor([0, 1, 1,  ..., 1, 1, 0], dtype=torch.uint8),\n",
              " tensor([0, 1, 1,  ..., 1, 1, 0], dtype=torch.uint8),\n",
              " tensor([0, 1, 1,  ..., 1, 1, 0], dtype=torch.uint8),\n",
              " tensor([0, 1, 1,  ..., 1, 1, 0], dtype=torch.uint8),\n",
              " tensor([0, 1, 1,  ..., 1, 1, 0], dtype=torch.uint8),\n",
              " tensor([0, 1, 1,  ..., 1, 1, 0], dtype=torch.uint8),\n",
              " tensor([0, 1, 1,  ..., 1, 1, 0], dtype=torch.uint8),\n",
              " tensor([0, 1, 1,  ..., 1, 1, 0], dtype=torch.uint8),\n",
              " tensor([0, 1, 1,  ..., 1, 1, 0], dtype=torch.uint8),\n",
              " tensor([0, 1, 1,  ..., 1, 1, 0], dtype=torch.uint8),\n",
              " tensor([0, 1, 1,  ..., 1, 1, 0], dtype=torch.uint8),\n",
              " tensor([0, 1, 1,  ..., 1, 1, 0], dtype=torch.uint8),\n",
              " tensor([0, 1, 1,  ..., 1, 1, 0], dtype=torch.uint8),\n",
              " tensor([0, 1, 1,  ..., 1, 1, 0], dtype=torch.uint8),\n",
              " tensor([0, 1, 1,  ..., 1, 1, 0], dtype=torch.uint8),\n",
              " tensor([0, 1, 1,  ..., 1, 1, 0], dtype=torch.uint8),\n",
              " tensor([0, 1, 1,  ..., 1, 1, 0], dtype=torch.uint8),\n",
              " tensor([0, 1, 1,  ..., 1, 1, 0], dtype=torch.uint8),\n",
              " tensor([0, 1, 1,  ..., 1, 1, 0], dtype=torch.uint8),\n",
              " tensor([0, 1, 1,  ..., 1, 1, 0], dtype=torch.uint8),\n",
              " tensor([0, 1, 1,  ..., 1, 1, 0], dtype=torch.uint8),\n",
              " tensor([0, 1, 1,  ..., 1, 1, 0], dtype=torch.uint8),\n",
              " tensor([0, 1, 1,  ..., 1, 1, 0], dtype=torch.uint8),\n",
              " tensor([0, 1, 1,  ..., 1, 1, 0], dtype=torch.uint8),\n",
              " tensor([0, 1, 1,  ..., 1, 1, 0], dtype=torch.uint8),\n",
              " tensor([0, 1, 1,  ..., 1, 1, 0], dtype=torch.uint8),\n",
              " tensor([0, 1, 1,  ..., 1, 1, 0], dtype=torch.uint8),\n",
              " tensor([0, 1, 1,  ..., 1, 1, 0], dtype=torch.uint8),\n",
              " tensor([0, 1, 1,  ..., 1, 1, 0], dtype=torch.uint8),\n",
              " tensor([0, 1, 1,  ..., 1, 1, 0], dtype=torch.uint8),\n",
              " tensor([0, 1, 1,  ..., 1, 1, 0], dtype=torch.uint8),\n",
              " tensor([0, 1, 1,  ..., 1, 1, 0], dtype=torch.uint8),\n",
              " tensor([0, 1, 1,  ..., 1, 1, 0], dtype=torch.uint8),\n",
              " tensor([0, 1, 1,  ..., 1, 1, 0], dtype=torch.uint8),\n",
              " tensor([0, 1, 1,  ..., 1, 1, 0], dtype=torch.uint8),\n",
              " tensor([0, 1, 1,  ..., 1, 1, 0], dtype=torch.uint8),\n",
              " tensor([0, 1, 1,  ..., 1, 1, 0], dtype=torch.uint8),\n",
              " tensor([0, 1, 1,  ..., 1, 1, 0], dtype=torch.uint8),\n",
              " tensor([0, 1, 1,  ..., 1, 1, 0], dtype=torch.uint8),\n",
              " tensor([0, 1, 1,  ..., 1, 1, 0], dtype=torch.uint8),\n",
              " tensor([0, 1, 1,  ..., 1, 1, 0], dtype=torch.uint8),\n",
              " tensor([0, 1, 1,  ..., 1, 1, 0], dtype=torch.uint8),\n",
              " tensor([0, 1, 1,  ..., 1, 1, 0], dtype=torch.uint8),\n",
              " tensor([0, 1, 1,  ..., 1, 1, 0], dtype=torch.uint8),\n",
              " tensor([0, 1, 1,  ..., 1, 1, 0], dtype=torch.uint8),\n",
              " tensor([0, 1, 1,  ..., 1, 1, 0], dtype=torch.uint8),\n",
              " tensor([0, 1, 1,  ..., 1, 1, 0], dtype=torch.uint8),\n",
              " tensor([0, 1, 1,  ..., 1, 1, 0], dtype=torch.uint8),\n",
              " tensor([0, 1, 1,  ..., 1, 1, 0], dtype=torch.uint8),\n",
              " tensor([0, 1, 1,  ..., 1, 1, 0], dtype=torch.uint8),\n",
              " tensor([0, 1, 1,  ..., 1, 1, 0], dtype=torch.uint8),\n",
              " tensor([0, 1, 1,  ..., 1, 1, 0], dtype=torch.uint8),\n",
              " tensor([0, 1, 1,  ..., 1, 1, 0], dtype=torch.uint8),\n",
              " tensor([0, 1, 1,  ..., 1, 1, 0], dtype=torch.uint8),\n",
              " tensor([0, 1, 1,  ..., 1, 1, 0], dtype=torch.uint8),\n",
              " tensor([0, 1, 1,  ..., 1, 1, 0], dtype=torch.uint8),\n",
              " tensor([0, 1, 1,  ..., 1, 1, 0], dtype=torch.uint8),\n",
              " tensor([0, 1, 1,  ..., 1, 1, 0], dtype=torch.uint8),\n",
              " tensor([0, 1, 1,  ..., 1, 1, 0], dtype=torch.uint8),\n",
              " tensor([0, 1, 1,  ..., 1, 1, 0], dtype=torch.uint8),\n",
              " tensor([0, 1, 1,  ..., 1, 1, 0], dtype=torch.uint8),\n",
              " tensor([0, 1, 1,  ..., 1, 1, 0], dtype=torch.uint8),\n",
              " tensor([0, 1, 1,  ..., 1, 1, 0], dtype=torch.uint8),\n",
              " tensor([0, 1, 1,  ..., 1, 1, 0], dtype=torch.uint8),\n",
              " tensor([0, 1, 1,  ..., 1, 1, 0], dtype=torch.uint8),\n",
              " tensor([0, 1, 1,  ..., 1, 1, 0], dtype=torch.uint8),\n",
              " tensor([0, 1, 1,  ..., 1, 1, 0], dtype=torch.uint8),\n",
              " tensor([0, 1, 1,  ..., 1, 1, 0], dtype=torch.uint8),\n",
              " tensor([0, 1, 1,  ..., 1, 1, 0], dtype=torch.uint8),\n",
              " tensor([0, 1, 1,  ..., 1, 1, 0], dtype=torch.uint8),\n",
              " tensor([0, 1, 1,  ..., 1, 1, 0], dtype=torch.uint8),\n",
              " tensor([0, 1, 1,  ..., 1, 1, 0], dtype=torch.uint8),\n",
              " tensor([0, 1, 1,  ..., 1, 1, 0], dtype=torch.uint8),\n",
              " tensor([0, 1, 1,  ..., 1, 1, 0], dtype=torch.uint8),\n",
              " tensor([0, 1, 1,  ..., 1, 1, 0], dtype=torch.uint8),\n",
              " tensor([0, 1, 1,  ..., 1, 1, 0], dtype=torch.uint8),\n",
              " tensor([0, 1, 1,  ..., 1, 1, 0], dtype=torch.uint8),\n",
              " tensor([0, 1, 1,  ..., 1, 1, 0], dtype=torch.uint8),\n",
              " tensor([0, 1, 1,  ..., 1, 1, 0], dtype=torch.uint8),\n",
              " tensor([0, 1, 1,  ..., 1, 1, 0], dtype=torch.uint8),\n",
              " tensor([0, 1, 1,  ..., 1, 1, 0], dtype=torch.uint8),\n",
              " tensor([0, 1, 1,  ..., 1, 1, 0], dtype=torch.uint8),\n",
              " tensor([0, 1, 1,  ..., 1, 1, 0], dtype=torch.uint8),\n",
              " tensor([0, 1, 1,  ..., 1, 1, 0], dtype=torch.uint8),\n",
              " tensor([0, 1, 1,  ..., 1, 1, 0], dtype=torch.uint8),\n",
              " tensor([0, 1, 1,  ..., 1, 1, 0], dtype=torch.uint8),\n",
              " tensor([0, 1, 1,  ..., 1, 1, 0], dtype=torch.uint8),\n",
              " tensor([0, 1, 1,  ..., 1, 1, 0], dtype=torch.uint8),\n",
              " tensor([0, 1, 1,  ..., 1, 1, 0], dtype=torch.uint8),\n",
              " tensor([0, 1, 1,  ..., 1, 1, 0], dtype=torch.uint8),\n",
              " tensor([0, 1, 1,  ..., 1, 1, 0], dtype=torch.uint8),\n",
              " tensor([0, 1, 1,  ..., 1, 1, 0], dtype=torch.uint8),\n",
              " tensor([0, 1, 1,  ..., 1, 1, 0], dtype=torch.uint8),\n",
              " tensor([0, 1, 1,  ..., 1, 1, 0], dtype=torch.uint8),\n",
              " tensor([0, 1, 1,  ..., 1, 1, 0], dtype=torch.uint8),\n",
              " tensor([0, 1, 1,  ..., 1, 1, 0], dtype=torch.uint8),\n",
              " tensor([0, 1, 1,  ..., 1, 1, 0], dtype=torch.uint8),\n",
              " tensor([0, 1, 1,  ..., 1, 1, 0], dtype=torch.uint8),\n",
              " tensor([0, 1, 1,  ..., 1, 1, 0], dtype=torch.uint8),\n",
              " tensor([0, 1, 1,  ..., 1, 1, 0], dtype=torch.uint8),\n",
              " tensor([0, 1, 1,  ..., 1, 1, 0], dtype=torch.uint8),\n",
              " tensor([0, 1, 1,  ..., 1, 1, 0], dtype=torch.uint8),\n",
              " tensor([0, 1, 1,  ..., 1, 1, 0], dtype=torch.uint8),\n",
              " tensor([0, 1, 1,  ..., 1, 1, 0], dtype=torch.uint8),\n",
              " tensor([0, 1, 1,  ..., 1, 1, 0], dtype=torch.uint8),\n",
              " tensor([0, 1, 1,  ..., 1, 1, 0], dtype=torch.uint8),\n",
              " tensor([0, 1, 1,  ..., 1, 1, 0], dtype=torch.uint8),\n",
              " tensor([0, 1, 1,  ..., 1, 1, 0], dtype=torch.uint8),\n",
              " tensor([0, 1, 1,  ..., 1, 1, 0], dtype=torch.uint8),\n",
              " tensor([0, 1, 1,  ..., 1, 1, 0], dtype=torch.uint8),\n",
              " tensor([0, 1, 1,  ..., 1, 1, 0], dtype=torch.uint8),\n",
              " tensor([0, 1, 1,  ..., 1, 1, 0], dtype=torch.uint8),\n",
              " tensor([0, 1, 1,  ..., 1, 1, 0], dtype=torch.uint8),\n",
              " tensor([0, 1, 1,  ..., 1, 1, 0], dtype=torch.uint8),\n",
              " tensor([0, 1, 1,  ..., 1, 1, 0], dtype=torch.uint8),\n",
              " tensor([0, 1, 1,  ..., 1, 1, 0], dtype=torch.uint8),\n",
              " tensor([0, 1, 1,  ..., 1, 1, 0], dtype=torch.uint8),\n",
              " tensor([0, 1, 1,  ..., 1, 1, 0], dtype=torch.uint8),\n",
              " tensor([0, 1, 1,  ..., 1, 1, 0], dtype=torch.uint8),\n",
              " tensor([0, 1, 1,  ..., 1, 1, 0], dtype=torch.uint8),\n",
              " tensor([0, 1, 1,  ..., 1, 1, 0], dtype=torch.uint8),\n",
              " tensor([0, 1, 1,  ..., 1, 1, 0], dtype=torch.uint8),\n",
              " tensor([0, 1, 1,  ..., 1, 1, 0], dtype=torch.uint8),\n",
              " tensor([0, 1, 1,  ..., 1, 1, 0], dtype=torch.uint8),\n",
              " tensor([0, 1, 1,  ..., 1, 1, 0], dtype=torch.uint8),\n",
              " tensor([0, 1, 1,  ..., 1, 1, 0], dtype=torch.uint8),\n",
              " tensor([0, 1, 1,  ..., 1, 1, 0], dtype=torch.uint8),\n",
              " tensor([0, 1, 1,  ..., 1, 1, 0], dtype=torch.uint8),\n",
              " tensor([0, 1, 1,  ..., 1, 1, 0], dtype=torch.uint8),\n",
              " tensor([0, 1, 1,  ..., 1, 1, 0], dtype=torch.uint8),\n",
              " tensor([0, 1, 1,  ..., 1, 1, 0], dtype=torch.uint8),\n",
              " tensor([0, 1, 1,  ..., 1, 1, 0], dtype=torch.uint8),\n",
              " tensor([0, 1, 1,  ..., 1, 1, 0], dtype=torch.uint8),\n",
              " tensor([0, 1, 1,  ..., 1, 1, 0], dtype=torch.uint8),\n",
              " tensor([0, 1, 1,  ..., 1, 1, 0], dtype=torch.uint8),\n",
              " tensor([0, 1, 1,  ..., 1, 1, 0], dtype=torch.uint8),\n",
              " tensor([0, 1, 1,  ..., 1, 1, 0], dtype=torch.uint8),\n",
              " tensor([0, 1, 1,  ..., 1, 1, 0], dtype=torch.uint8),\n",
              " tensor([0, 1, 1,  ..., 1, 1, 0], dtype=torch.uint8),\n",
              " tensor([0, 1, 1,  ..., 1, 1, 0], dtype=torch.uint8),\n",
              " tensor([0, 1, 1,  ..., 1, 1, 0], dtype=torch.uint8),\n",
              " tensor([0, 1, 1,  ..., 1, 1, 0], dtype=torch.uint8),\n",
              " tensor([0, 1, 1,  ..., 1, 1, 0], dtype=torch.uint8),\n",
              " tensor([0, 1, 1,  ..., 1, 1, 0], dtype=torch.uint8),\n",
              " tensor([0, 1, 1,  ..., 1, 1, 0], dtype=torch.uint8),\n",
              " tensor([0, 1, 1,  ..., 1, 1, 0], dtype=torch.uint8),\n",
              " tensor([0, 1, 1,  ..., 1, 1, 0], dtype=torch.uint8),\n",
              " tensor([0, 1, 1,  ..., 1, 1, 0], dtype=torch.uint8),\n",
              " tensor([0, 1, 1,  ..., 1, 1, 0], dtype=torch.uint8),\n",
              " tensor([0, 1, 1,  ..., 1, 1, 0], dtype=torch.uint8),\n",
              " tensor([0, 1, 1,  ..., 1, 1, 0], dtype=torch.uint8),\n",
              " tensor([0, 1, 1,  ..., 1, 1, 0], dtype=torch.uint8),\n",
              " tensor([0, 1, 1,  ..., 1, 1, 0], dtype=torch.uint8),\n",
              " tensor([0, 1, 1,  ..., 1, 1, 0], dtype=torch.uint8),\n",
              " tensor([0, 1, 1,  ..., 1, 1, 0], dtype=torch.uint8),\n",
              " tensor([0, 1, 1,  ..., 1, 1, 0], dtype=torch.uint8),\n",
              " tensor([0, 1, 1,  ..., 1, 1, 0], dtype=torch.uint8),\n",
              " tensor([0, 1, 1,  ..., 1, 1, 0], dtype=torch.uint8),\n",
              " tensor([0, 1, 1,  ..., 1, 1, 0], dtype=torch.uint8),\n",
              " tensor([0, 1, 1,  ..., 1, 1, 0], dtype=torch.uint8),\n",
              " tensor([0, 1, 1,  ..., 1, 1, 0], dtype=torch.uint8),\n",
              " tensor([0, 1, 1,  ..., 1, 1, 0], dtype=torch.uint8),\n",
              " tensor([0, 1, 1,  ..., 1, 1, 0], dtype=torch.uint8),\n",
              " tensor([0, 1, 1,  ..., 1, 1, 0], dtype=torch.uint8),\n",
              " tensor([0, 1, 1,  ..., 1, 1, 0], dtype=torch.uint8),\n",
              " tensor([0, 1, 1,  ..., 1, 1, 0], dtype=torch.uint8),\n",
              " tensor([0, 1, 1,  ..., 1, 1, 0], dtype=torch.uint8),\n",
              " tensor([0, 1, 1,  ..., 1, 1, 0], dtype=torch.uint8),\n",
              " tensor([0, 1, 1,  ..., 1, 1, 0], dtype=torch.uint8),\n",
              " tensor([0, 1, 1,  ..., 1, 1, 0], dtype=torch.uint8),\n",
              " tensor([0, 1, 1,  ..., 1, 1, 0], dtype=torch.uint8),\n",
              " tensor([0, 1, 1,  ..., 1, 1, 0], dtype=torch.uint8),\n",
              " tensor([0, 1, 1,  ..., 1, 1, 0], dtype=torch.uint8),\n",
              " tensor([0, 1, 1,  ..., 1, 1, 0], dtype=torch.uint8),\n",
              " tensor([0, 1, 1,  ..., 1, 1, 0], dtype=torch.uint8),\n",
              " tensor([0, 1, 1,  ..., 1, 1, 0], dtype=torch.uint8),\n",
              " tensor([0, 1, 1,  ..., 1, 1, 0], dtype=torch.uint8),\n",
              " tensor([0, 1, 1,  ..., 1, 1, 0], dtype=torch.uint8),\n",
              " tensor([0, 1, 1,  ..., 1, 1, 0], dtype=torch.uint8),\n",
              " tensor([0, 1, 1,  ..., 1, 1, 0], dtype=torch.uint8),\n",
              " tensor([0, 1, 1,  ..., 1, 1, 0], dtype=torch.uint8),\n",
              " tensor([0, 1, 1,  ..., 1, 1, 0], dtype=torch.uint8),\n",
              " tensor([0, 1, 1,  ..., 1, 1, 0], dtype=torch.uint8),\n",
              " tensor([0, 1, 1,  ..., 1, 1, 0], dtype=torch.uint8),\n",
              " tensor([0, 1, 1,  ..., 1, 1, 0], dtype=torch.uint8),\n",
              " tensor([0, 1, 1,  ..., 1, 1, 0], dtype=torch.uint8),\n",
              " tensor([0, 1, 1,  ..., 1, 1, 0], dtype=torch.uint8),\n",
              " tensor([0, 1, 1,  ..., 1, 1, 0], dtype=torch.uint8),\n",
              " tensor([0, 1, 1,  ..., 1, 1, 0], dtype=torch.uint8),\n",
              " tensor([0, 1, 1,  ..., 1, 1, 0], dtype=torch.uint8),\n",
              " tensor([0, 1, 1,  ..., 1, 1, 0], dtype=torch.uint8),\n",
              " tensor([0, 1, 1,  ..., 1, 1, 0], dtype=torch.uint8),\n",
              " tensor([0, 1, 1,  ..., 1, 1, 0], dtype=torch.uint8),\n",
              " tensor([0, 1, 1,  ..., 1, 1, 0], dtype=torch.uint8),\n",
              " tensor([0, 1, 1,  ..., 1, 1, 0], dtype=torch.uint8),\n",
              " tensor([0, 1, 1,  ..., 1, 1, 0], dtype=torch.uint8),\n",
              " tensor([0, 1, 1,  ..., 1, 1, 0], dtype=torch.uint8),\n",
              " tensor([0, 1, 1,  ..., 1, 1, 0], dtype=torch.uint8),\n",
              " tensor([0, 1, 1,  ..., 1, 1, 0], dtype=torch.uint8),\n",
              " tensor([0, 1, 1,  ..., 1, 1, 0], dtype=torch.uint8),\n",
              " tensor([0, 1, 1,  ..., 1, 1, 0], dtype=torch.uint8),\n",
              " tensor([0, 1, 1,  ..., 1, 1, 0], dtype=torch.uint8),\n",
              " tensor([0, 1, 1,  ..., 1, 1, 0], dtype=torch.uint8),\n",
              " tensor([0, 1, 1,  ..., 1, 1, 0], dtype=torch.uint8),\n",
              " tensor([0, 1, 1,  ..., 1, 1, 0], dtype=torch.uint8),\n",
              " tensor([0, 1, 1,  ..., 1, 1, 0], dtype=torch.uint8),\n",
              " tensor([0, 1, 1,  ..., 1, 1, 0], dtype=torch.uint8),\n",
              " tensor([0, 1, 1,  ..., 1, 1, 0], dtype=torch.uint8),\n",
              " tensor([0, 1, 1,  ..., 1, 1, 0], dtype=torch.uint8),\n",
              " tensor([0, 1, 1,  ..., 1, 1, 0], dtype=torch.uint8),\n",
              " tensor([0, 1, 1,  ..., 1, 1, 0], dtype=torch.uint8),\n",
              " tensor([0, 1, 1,  ..., 1, 1, 0], dtype=torch.uint8),\n",
              " tensor([0, 1, 1,  ..., 1, 1, 0], dtype=torch.uint8),\n",
              " tensor([0, 1, 1,  ..., 1, 1, 0], dtype=torch.uint8),\n",
              " tensor([0, 1, 1,  ..., 1, 1, 0], dtype=torch.uint8),\n",
              " tensor([0, 1, 1,  ..., 1, 1, 0], dtype=torch.uint8),\n",
              " tensor([0, 1, 1,  ..., 1, 1, 0], dtype=torch.uint8),\n",
              " tensor([0, 1, 1,  ..., 1, 1, 0], dtype=torch.uint8),\n",
              " tensor([0, 1, 1,  ..., 1, 1, 0], dtype=torch.uint8),\n",
              " tensor([0, 1, 1,  ..., 1, 1, 0], dtype=torch.uint8),\n",
              " tensor([0, 1, 1,  ..., 1, 1, 0], dtype=torch.uint8),\n",
              " tensor([0, 1, 1,  ..., 1, 1, 0], dtype=torch.uint8),\n",
              " tensor([0, 1, 1,  ..., 1, 1, 0], dtype=torch.uint8),\n",
              " tensor([0, 1, 1,  ..., 1, 1, 0], dtype=torch.uint8),\n",
              " tensor([0, 1, 1,  ..., 1, 1, 0], dtype=torch.uint8),\n",
              " tensor([0, 1, 1,  ..., 1, 1, 0], dtype=torch.uint8),\n",
              " tensor([0, 1, 1,  ..., 1, 1, 0], dtype=torch.uint8),\n",
              " tensor([0, 1, 1,  ..., 1, 1, 0], dtype=torch.uint8),\n",
              " tensor([0, 1, 1,  ..., 1, 1, 0], dtype=torch.uint8),\n",
              " tensor([0, 1, 1,  ..., 1, 1, 0], dtype=torch.uint8),\n",
              " tensor([0, 1, 1,  ..., 1, 1, 0], dtype=torch.uint8),\n",
              " tensor([0, 1, 1,  ..., 1, 1, 0], dtype=torch.uint8),\n",
              " tensor([0, 1, 1,  ..., 1, 1, 0], dtype=torch.uint8),\n",
              " tensor([0, 1, 1,  ..., 1, 1, 0], dtype=torch.uint8),\n",
              " tensor([0, 1, 1,  ..., 1, 1, 0], dtype=torch.uint8),\n",
              " tensor([0, 1, 1,  ..., 1, 1, 0], dtype=torch.uint8),\n",
              " tensor([0, 1, 1,  ..., 1, 1, 0], dtype=torch.uint8),\n",
              " tensor([0, 1, 1,  ..., 1, 1, 0], dtype=torch.uint8),\n",
              " tensor([0, 1, 1,  ..., 1, 1, 0], dtype=torch.uint8),\n",
              " tensor([0, 1, 1,  ..., 1, 1, 0], dtype=torch.uint8),\n",
              " tensor([0, 1, 1,  ..., 1, 1, 0], dtype=torch.uint8),\n",
              " tensor([0, 1, 1,  ..., 1, 1, 0], dtype=torch.uint8),\n",
              " tensor([0, 1, 1,  ..., 1, 1, 0], dtype=torch.uint8),\n",
              " tensor([0, 1, 1,  ..., 1, 1, 0], dtype=torch.uint8),\n",
              " tensor([0, 1, 1,  ..., 1, 1, 0], dtype=torch.uint8),\n",
              " tensor([0, 1, 1,  ..., 1, 1, 0], dtype=torch.uint8),\n",
              " tensor([0, 1, 1,  ..., 1, 1, 0], dtype=torch.uint8),\n",
              " tensor([0, 1, 1,  ..., 1, 1, 0], dtype=torch.uint8),\n",
              " tensor([0, 1, 1,  ..., 1, 1, 0], dtype=torch.uint8),\n",
              " tensor([0, 1, 1,  ..., 1, 1, 0], dtype=torch.uint8),\n",
              " tensor([0, 1, 1,  ..., 1, 1, 0], dtype=torch.uint8),\n",
              " tensor([0, 1, 1,  ..., 1, 1, 0], dtype=torch.uint8),\n",
              " tensor([0, 1, 1,  ..., 1, 1, 0], dtype=torch.uint8),\n",
              " tensor([0, 1, 1,  ..., 1, 1, 0], dtype=torch.uint8),\n",
              " tensor([0, 1, 1,  ..., 1, 1, 0], dtype=torch.uint8),\n",
              " tensor([0, 1, 1,  ..., 1, 1, 0], dtype=torch.uint8),\n",
              " tensor([0, 1, 1,  ..., 1, 1, 0], dtype=torch.uint8),\n",
              " tensor([0, 1, 1,  ..., 1, 1, 0], dtype=torch.uint8),\n",
              " tensor([0, 1, 1,  ..., 1, 1, 0], dtype=torch.uint8),\n",
              " tensor([0, 1, 1,  ..., 1, 1, 0], dtype=torch.uint8),\n",
              " tensor([0, 1, 1,  ..., 1, 1, 0], dtype=torch.uint8),\n",
              " tensor([0, 1, 1,  ..., 1, 1, 0], dtype=torch.uint8),\n",
              " tensor([0, 1, 1,  ..., 1, 1, 0], dtype=torch.uint8),\n",
              " tensor([0, 1, 1,  ..., 1, 1, 0], dtype=torch.uint8),\n",
              " tensor([0, 1, 1,  ..., 1, 1, 0], dtype=torch.uint8),\n",
              " tensor([0, 1, 1,  ..., 1, 1, 0], dtype=torch.uint8),\n",
              " tensor([0, 1, 1,  ..., 1, 1, 0], dtype=torch.uint8),\n",
              " tensor([0, 1, 1,  ..., 1, 1, 0], dtype=torch.uint8),\n",
              " tensor([0, 1, 1,  ..., 1, 1, 0], dtype=torch.uint8),\n",
              " tensor([0, 1, 1,  ..., 1, 1, 0], dtype=torch.uint8),\n",
              " tensor([0, 1, 1,  ..., 1, 1, 0], dtype=torch.uint8),\n",
              " tensor([0, 1, 1,  ..., 1, 1, 0], dtype=torch.uint8),\n",
              " tensor([0, 1, 1,  ..., 1, 1, 0], dtype=torch.uint8),\n",
              " tensor([0, 1, 1,  ..., 1, 1, 0], dtype=torch.uint8),\n",
              " tensor([0, 1, 1,  ..., 1, 1, 0], dtype=torch.uint8),\n",
              " tensor([0, 1, 1,  ..., 1, 1, 0], dtype=torch.uint8),\n",
              " tensor([0, 1, 1,  ..., 1, 1, 0], dtype=torch.uint8),\n",
              " tensor([0, 1, 1,  ..., 1, 1, 0], dtype=torch.uint8),\n",
              " tensor([0, 1, 1,  ..., 1, 1, 0], dtype=torch.uint8),\n",
              " tensor([0, 1, 1,  ..., 1, 1, 0], dtype=torch.uint8),\n",
              " tensor([0, 1, 1,  ..., 1, 1, 0], dtype=torch.uint8),\n",
              " tensor([0, 1, 1,  ..., 1, 1, 0], dtype=torch.uint8),\n",
              " tensor([0, 1, 1,  ..., 1, 1, 0], dtype=torch.uint8),\n",
              " tensor([0, 1, 1,  ..., 1, 1, 0], dtype=torch.uint8),\n",
              " tensor([0, 1, 1,  ..., 1, 1, 0], dtype=torch.uint8),\n",
              " tensor([0, 1, 1,  ..., 1, 1, 0], dtype=torch.uint8),\n",
              " tensor([0, 1, 1,  ..., 1, 1, 0], dtype=torch.uint8),\n",
              " tensor([0, 1, 1,  ..., 1, 1, 0], dtype=torch.uint8),\n",
              " tensor([0, 1, 1,  ..., 1, 1, 0], dtype=torch.uint8),\n",
              " tensor([0, 1, 1,  ..., 1, 1, 0], dtype=torch.uint8),\n",
              " tensor([0, 1, 1,  ..., 1, 1, 0], dtype=torch.uint8),\n",
              " tensor([0, 1, 1,  ..., 1, 1, 0], dtype=torch.uint8),\n",
              " tensor([0, 1, 1,  ..., 1, 1, 0], dtype=torch.uint8),\n",
              " tensor([0, 1, 1,  ..., 1, 1, 0], dtype=torch.uint8),\n",
              " tensor([0, 1, 1,  ..., 1, 1, 0], dtype=torch.uint8),\n",
              " tensor([0, 1, 1,  ..., 1, 1, 0], dtype=torch.uint8),\n",
              " tensor([0, 1, 1,  ..., 1, 1, 0], dtype=torch.uint8),\n",
              " tensor([0, 1, 1,  ..., 1, 1, 0], dtype=torch.uint8),\n",
              " tensor([0, 1, 1,  ..., 1, 1, 0], dtype=torch.uint8),\n",
              " tensor([0, 1, 1,  ..., 1, 1, 0], dtype=torch.uint8),\n",
              " tensor([0, 1, 1,  ..., 1, 1, 0], dtype=torch.uint8),\n",
              " tensor([0, 1, 1,  ..., 1, 1, 0], dtype=torch.uint8),\n",
              " tensor([0, 1, 1,  ..., 1, 1, 0], dtype=torch.uint8),\n",
              " tensor([0, 1, 1,  ..., 1, 1, 0], dtype=torch.uint8),\n",
              " tensor([0, 1, 1,  ..., 1, 1, 0], dtype=torch.uint8),\n",
              " tensor([0, 1, 1,  ..., 1, 1, 0], dtype=torch.uint8),\n",
              " tensor([0, 1, 1,  ..., 1, 1, 0], dtype=torch.uint8),\n",
              " tensor([0, 1, 1,  ..., 1, 1, 0], dtype=torch.uint8),\n",
              " tensor([0, 1, 1,  ..., 1, 1, 0], dtype=torch.uint8),\n",
              " tensor([0, 1, 1,  ..., 1, 1, 0], dtype=torch.uint8),\n",
              " tensor([0, 1, 1,  ..., 1, 1, 0], dtype=torch.uint8),\n",
              " tensor([0, 1, 1,  ..., 1, 1, 0], dtype=torch.uint8),\n",
              " tensor([0, 1, 1,  ..., 1, 1, 0], dtype=torch.uint8),\n",
              " tensor([0, 1, 1,  ..., 1, 1, 0], dtype=torch.uint8),\n",
              " tensor([0, 1, 1,  ..., 1, 1, 0], dtype=torch.uint8),\n",
              " tensor([0, 1, 1,  ..., 1, 1, 0], dtype=torch.uint8),\n",
              " tensor([0, 1, 1,  ..., 1, 1, 0], dtype=torch.uint8),\n",
              " tensor([0, 1, 1,  ..., 1, 1, 0], dtype=torch.uint8),\n",
              " tensor([0, 1, 1,  ..., 1, 1, 0], dtype=torch.uint8),\n",
              " tensor([0, 1, 1,  ..., 1, 1, 0], dtype=torch.uint8),\n",
              " tensor([0, 1, 1,  ..., 1, 1, 0], dtype=torch.uint8),\n",
              " tensor([0, 1, 1,  ..., 1, 1, 0], dtype=torch.uint8),\n",
              " tensor([0, 1, 1,  ..., 1, 1, 0], dtype=torch.uint8),\n",
              " tensor([0, 1, 1,  ..., 1, 1, 0], dtype=torch.uint8),\n",
              " tensor([0, 1, 1,  ..., 1, 1, 0], dtype=torch.uint8),\n",
              " tensor([0, 1, 1,  ..., 1, 1, 0], dtype=torch.uint8),\n",
              " tensor([0, 1, 1,  ..., 1, 1, 0], dtype=torch.uint8),\n",
              " tensor([0, 1, 1,  ..., 1, 1, 0], dtype=torch.uint8),\n",
              " tensor([0, 1, 1,  ..., 1, 1, 0], dtype=torch.uint8),\n",
              " tensor([0, 1, 1,  ..., 1, 1, 0], dtype=torch.uint8),\n",
              " tensor([0, 1, 1,  ..., 1, 1, 0], dtype=torch.uint8),\n",
              " tensor([0, 1, 1,  ..., 1, 1, 0], dtype=torch.uint8),\n",
              " tensor([0, 1, 1,  ..., 1, 1, 0], dtype=torch.uint8),\n",
              " tensor([0, 1, 1,  ..., 1, 1, 0], dtype=torch.uint8),\n",
              " tensor([0, 1, 1,  ..., 1, 1, 0], dtype=torch.uint8),\n",
              " tensor([0, 1, 1,  ..., 1, 1, 0], dtype=torch.uint8),\n",
              " tensor([0, 1, 1,  ..., 1, 1, 0], dtype=torch.uint8),\n",
              " tensor([0, 1, 1,  ..., 1, 1, 0], dtype=torch.uint8),\n",
              " tensor([0, 1, 1,  ..., 1, 1, 0], dtype=torch.uint8),\n",
              " tensor([0, 1, 1,  ..., 1, 1, 0], dtype=torch.uint8),\n",
              " tensor([0, 1, 1,  ..., 1, 1, 0], dtype=torch.uint8),\n",
              " tensor([0, 1, 1,  ..., 1, 1, 0], dtype=torch.uint8),\n",
              " tensor([0, 1, 1,  ..., 1, 1, 0], dtype=torch.uint8),\n",
              " tensor([0, 1, 1,  ..., 1, 1, 0], dtype=torch.uint8),\n",
              " tensor([0, 1, 1,  ..., 1, 1, 0], dtype=torch.uint8),\n",
              " tensor([0, 1, 1,  ..., 1, 1, 0], dtype=torch.uint8),\n",
              " tensor([0, 1, 1,  ..., 1, 1, 0], dtype=torch.uint8),\n",
              " tensor([0, 1, 1,  ..., 1, 1, 0], dtype=torch.uint8),\n",
              " tensor([0, 1, 1,  ..., 1, 1, 0], dtype=torch.uint8),\n",
              " tensor([0, 1, 1,  ..., 1, 1, 0], dtype=torch.uint8),\n",
              " tensor([0, 1, 1,  ..., 1, 1, 0], dtype=torch.uint8),\n",
              " tensor([0, 1, 1,  ..., 1, 1, 0], dtype=torch.uint8),\n",
              " tensor([0, 1, 1,  ..., 1, 1, 0], dtype=torch.uint8),\n",
              " tensor([0, 1, 1,  ..., 1, 1, 0], dtype=torch.uint8),\n",
              " tensor([0, 1, 1,  ..., 1, 1, 0], dtype=torch.uint8),\n",
              " tensor([0, 1, 1,  ..., 1, 1, 0], dtype=torch.uint8),\n",
              " tensor([0, 1, 1,  ..., 1, 1, 0], dtype=torch.uint8),\n",
              " tensor([0, 1, 1,  ..., 1, 1, 0], dtype=torch.uint8),\n",
              " tensor([0, 1, 1,  ..., 1, 1, 0], dtype=torch.uint8),\n",
              " tensor([0, 1, 1,  ..., 1, 1, 0], dtype=torch.uint8),\n",
              " tensor([0, 1, 1,  ..., 1, 1, 0], dtype=torch.uint8),\n",
              " tensor([0, 1, 1,  ..., 1, 1, 0], dtype=torch.uint8),\n",
              " tensor([0, 1, 1,  ..., 1, 1, 0], dtype=torch.uint8),\n",
              " tensor([0, 1, 1,  ..., 1, 1, 0], dtype=torch.uint8),\n",
              " tensor([0, 1, 1,  ..., 1, 1, 0], dtype=torch.uint8),\n",
              " tensor([0, 1, 1,  ..., 1, 1, 0], dtype=torch.uint8),\n",
              " tensor([0, 1, 1,  ..., 1, 1, 0], dtype=torch.uint8),\n",
              " tensor([0, 1, 1,  ..., 1, 1, 0], dtype=torch.uint8),\n",
              " tensor([0, 1, 1,  ..., 1, 1, 0], dtype=torch.uint8),\n",
              " tensor([0, 1, 1,  ..., 1, 1, 0], dtype=torch.uint8),\n",
              " tensor([0, 1, 1,  ..., 1, 1, 0], dtype=torch.uint8),\n",
              " tensor([0, 1, 1,  ..., 1, 1, 0], dtype=torch.uint8),\n",
              " tensor([0, 1, 1,  ..., 1, 1, 0], dtype=torch.uint8),\n",
              " tensor([0, 1, 1,  ..., 1, 1, 0], dtype=torch.uint8),\n",
              " tensor([0, 1, 1,  ..., 1, 1, 0], dtype=torch.uint8),\n",
              " tensor([0, 1, 1,  ..., 1, 1, 0], dtype=torch.uint8),\n",
              " tensor([0, 1, 1,  ..., 1, 1, 0], dtype=torch.uint8),\n",
              " tensor([0, 1, 1,  ..., 1, 1, 0], dtype=torch.uint8),\n",
              " tensor([0, 1, 1,  ..., 1, 1, 0], dtype=torch.uint8),\n",
              " tensor([0, 1, 1,  ..., 1, 1, 0], dtype=torch.uint8),\n",
              " tensor([0, 1, 1,  ..., 1, 1, 0], dtype=torch.uint8),\n",
              " tensor([0, 1, 1,  ..., 1, 1, 0], dtype=torch.uint8),\n",
              " tensor([0, 1, 1,  ..., 1, 1, 0], dtype=torch.uint8),\n",
              " tensor([0, 1, 1,  ..., 1, 1, 0], dtype=torch.uint8),\n",
              " tensor([0, 1, 1,  ..., 1, 1, 0], dtype=torch.uint8),\n",
              " tensor([0, 1, 1,  ..., 1, 1, 0], dtype=torch.uint8),\n",
              " tensor([0, 1, 1,  ..., 1, 1, 0], dtype=torch.uint8),\n",
              " tensor([0, 1, 1,  ..., 1, 1, 0], dtype=torch.uint8),\n",
              " tensor([0, 1, 1,  ..., 1, 1, 0], dtype=torch.uint8),\n",
              " tensor([0, 1, 1,  ..., 1, 1, 0], dtype=torch.uint8),\n",
              " tensor([0, 1, 1,  ..., 1, 1, 0], dtype=torch.uint8),\n",
              " tensor([0, 1, 1,  ..., 1, 1, 0], dtype=torch.uint8),\n",
              " tensor([0, 1, 1,  ..., 1, 1, 0], dtype=torch.uint8),\n",
              " tensor([0, 1, 1,  ..., 1, 1, 0], dtype=torch.uint8),\n",
              " tensor([0, 1, 1,  ..., 1, 1, 0], dtype=torch.uint8),\n",
              " tensor([0, 1, 1,  ..., 1, 1, 0], dtype=torch.uint8),\n",
              " tensor([0, 1, 1,  ..., 1, 1, 0], dtype=torch.uint8),\n",
              " tensor([0, 1, 1,  ..., 1, 1, 0], dtype=torch.uint8),\n",
              " tensor([0, 1, 1,  ..., 1, 1, 0], dtype=torch.uint8),\n",
              " tensor([0, 1, 1,  ..., 1, 1, 0], dtype=torch.uint8),\n",
              " tensor([0, 1, 1,  ..., 1, 1, 0], dtype=torch.uint8),\n",
              " tensor([0, 1, 1,  ..., 1, 1, 0], dtype=torch.uint8),\n",
              " tensor([0, 1, 1,  ..., 1, 1, 0], dtype=torch.uint8),\n",
              " tensor([0, 1, 1,  ..., 1, 1, 0], dtype=torch.uint8),\n",
              " tensor([0, 1, 1,  ..., 1, 1, 0], dtype=torch.uint8),\n",
              " tensor([0, 1, 1,  ..., 1, 1, 0], dtype=torch.uint8),\n",
              " tensor([0, 1, 1,  ..., 1, 1, 0], dtype=torch.uint8),\n",
              " tensor([0, 1, 1,  ..., 1, 1, 0], dtype=torch.uint8),\n",
              " tensor([0, 1, 1,  ..., 1, 1, 0], dtype=torch.uint8),\n",
              " tensor([0, 1, 1,  ..., 1, 1, 0], dtype=torch.uint8),\n",
              " tensor([0, 1, 1,  ..., 1, 1, 0], dtype=torch.uint8),\n",
              " tensor([0, 1, 1,  ..., 1, 1, 0], dtype=torch.uint8),\n",
              " tensor([0, 1, 1,  ..., 1, 1, 0], dtype=torch.uint8),\n",
              " tensor([0, 1, 1,  ..., 1, 1, 0], dtype=torch.uint8),\n",
              " tensor([0, 1, 1,  ..., 1, 1, 0], dtype=torch.uint8),\n",
              " tensor([0, 1, 1,  ..., 1, 1, 0], dtype=torch.uint8),\n",
              " tensor([0, 1, 1,  ..., 1, 1, 0], dtype=torch.uint8),\n",
              " tensor([0, 1, 1,  ..., 1, 1, 0], dtype=torch.uint8),\n",
              " tensor([0, 1, 1,  ..., 1, 1, 0], dtype=torch.uint8),\n",
              " tensor([0, 1, 1,  ..., 1, 1, 0], dtype=torch.uint8),\n",
              " tensor([0, 1, 1,  ..., 1, 1, 0], dtype=torch.uint8),\n",
              " tensor([0, 1, 1,  ..., 1, 1, 0], dtype=torch.uint8),\n",
              " tensor([0, 1, 1,  ..., 1, 1, 0], dtype=torch.uint8),\n",
              " tensor([0, 1, 1,  ..., 1, 1, 0], dtype=torch.uint8),\n",
              " tensor([0, 1, 1,  ..., 1, 1, 0], dtype=torch.uint8),\n",
              " tensor([0, 1, 1,  ..., 1, 1, 0], dtype=torch.uint8),\n",
              " tensor([0, 1, 1,  ..., 1, 1, 0], dtype=torch.uint8),\n",
              " tensor([0, 1, 1,  ..., 1, 1, 0], dtype=torch.uint8),\n",
              " tensor([0, 1, 1,  ..., 1, 1, 0], dtype=torch.uint8),\n",
              " tensor([0, 1, 1,  ..., 1, 1, 0], dtype=torch.uint8),\n",
              " tensor([0, 1, 1,  ..., 1, 1, 0], dtype=torch.uint8),\n",
              " tensor([0, 1, 1,  ..., 1, 1, 0], dtype=torch.uint8),\n",
              " tensor([0, 1, 1,  ..., 1, 1, 0], dtype=torch.uint8),\n",
              " tensor([0, 1, 1,  ..., 1, 1, 0], dtype=torch.uint8),\n",
              " tensor([0, 1, 1,  ..., 1, 1, 0], dtype=torch.uint8),\n",
              " tensor([0, 1, 1,  ..., 1, 1, 0], dtype=torch.uint8),\n",
              " tensor([0, 1, 1,  ..., 1, 1, 0], dtype=torch.uint8),\n",
              " tensor([0, 1, 1,  ..., 1, 1, 0], dtype=torch.uint8),\n",
              " tensor([0, 1, 1,  ..., 1, 1, 0], dtype=torch.uint8),\n",
              " tensor([0, 1, 1,  ..., 1, 1, 0], dtype=torch.uint8),\n",
              " tensor([0, 1, 1,  ..., 1, 1, 0], dtype=torch.uint8),\n",
              " tensor([0, 1, 1,  ..., 1, 1, 0], dtype=torch.uint8),\n",
              " tensor([0, 1, 1,  ..., 1, 1, 0], dtype=torch.uint8),\n",
              " tensor([0, 1, 1,  ..., 1, 1, 0], dtype=torch.uint8),\n",
              " tensor([0, 1, 1,  ..., 1, 1, 0], dtype=torch.uint8),\n",
              " tensor([0, 1, 1,  ..., 1, 1, 0], dtype=torch.uint8),\n",
              " tensor([0, 1, 1,  ..., 1, 1, 0], dtype=torch.uint8),\n",
              " tensor([0, 1, 1,  ..., 1, 1, 0], dtype=torch.uint8),\n",
              " tensor([0, 1, 1,  ..., 1, 1, 0], dtype=torch.uint8),\n",
              " tensor([0, 1, 1,  ..., 1, 1, 0], dtype=torch.uint8),\n",
              " tensor([0, 1, 1,  ..., 1, 1, 0], dtype=torch.uint8),\n",
              " tensor([0, 1, 1,  ..., 1, 1, 0], dtype=torch.uint8),\n",
              " tensor([0, 1, 1,  ..., 1, 1, 0], dtype=torch.uint8),\n",
              " tensor([0, 1, 1,  ..., 1, 1, 0], dtype=torch.uint8),\n",
              " tensor([0, 1, 1,  ..., 1, 1, 0], dtype=torch.uint8),\n",
              " tensor([0, 1, 1,  ..., 1, 1, 0], dtype=torch.uint8),\n",
              " tensor([0, 1, 1,  ..., 1, 1, 0], dtype=torch.uint8),\n",
              " tensor([0, 1, 1,  ..., 1, 1, 0], dtype=torch.uint8),\n",
              " tensor([0, 1, 1,  ..., 1, 1, 0], dtype=torch.uint8),\n",
              " tensor([0, 1, 1,  ..., 1, 1, 0], dtype=torch.uint8),\n",
              " tensor([0, 1, 1,  ..., 1, 1, 0], dtype=torch.uint8),\n",
              " tensor([0, 1, 1,  ..., 1, 1, 0], dtype=torch.uint8),\n",
              " tensor([0, 1, 1,  ..., 1, 1, 0], dtype=torch.uint8),\n",
              " tensor([0, 1, 1,  ..., 1, 1, 0], dtype=torch.uint8),\n",
              " tensor([0, 1, 1,  ..., 1, 1, 0], dtype=torch.uint8),\n",
              " tensor([0, 1, 1,  ..., 1, 1, 0], dtype=torch.uint8),\n",
              " tensor([0, 1, 1,  ..., 1, 1, 0], dtype=torch.uint8),\n",
              " tensor([0, 1, 1,  ..., 1, 1, 0], dtype=torch.uint8),\n",
              " tensor([0, 1, 1,  ..., 1, 1, 0], dtype=torch.uint8),\n",
              " tensor([0, 1, 1,  ..., 1, 1, 0], dtype=torch.uint8),\n",
              " tensor([0, 1, 1,  ..., 1, 1, 0], dtype=torch.uint8),\n",
              " tensor([0, 1, 1,  ..., 1, 1, 0], dtype=torch.uint8),\n",
              " tensor([0, 1, 1,  ..., 1, 1, 0], dtype=torch.uint8),\n",
              " tensor([0, 1, 1,  ..., 1, 1, 0], dtype=torch.uint8),\n",
              " tensor([0, 1, 1,  ..., 1, 1, 0], dtype=torch.uint8),\n",
              " tensor([0, 1, 1,  ..., 1, 1, 0], dtype=torch.uint8),\n",
              " tensor([0, 1, 1,  ..., 1, 1, 0], dtype=torch.uint8),\n",
              " tensor([0, 1, 1,  ..., 1, 1, 0], dtype=torch.uint8),\n",
              " tensor([0, 1, 1,  ..., 1, 1, 0], dtype=torch.uint8),\n",
              " tensor([0, 1, 1,  ..., 1, 1, 0], dtype=torch.uint8),\n",
              " tensor([0, 1, 1,  ..., 1, 1, 0], dtype=torch.uint8),\n",
              " tensor([0, 1, 1,  ..., 1, 1, 0], dtype=torch.uint8),\n",
              " tensor([0, 1, 1,  ..., 1, 1, 0], dtype=torch.uint8),\n",
              " tensor([0, 1, 1,  ..., 1, 1, 0], dtype=torch.uint8),\n",
              " tensor([0, 1, 1,  ..., 1, 1, 0], dtype=torch.uint8),\n",
              " tensor([0, 1, 1,  ..., 1, 1, 0], dtype=torch.uint8),\n",
              " tensor([0, 1, 1,  ..., 1, 1, 0], dtype=torch.uint8),\n",
              " tensor([0, 1, 1,  ..., 1, 1, 0], dtype=torch.uint8),\n",
              " tensor([0, 1, 1,  ..., 1, 1, 0], dtype=torch.uint8),\n",
              " tensor([0, 1, 1,  ..., 1, 1, 0], dtype=torch.uint8),\n",
              " tensor([0, 1, 1,  ..., 1, 1, 0], dtype=torch.uint8),\n",
              " tensor([0, 1, 1,  ..., 1, 1, 0], dtype=torch.uint8),\n",
              " tensor([0, 1, 1,  ..., 1, 1, 0], dtype=torch.uint8),\n",
              " tensor([0, 1, 1,  ..., 1, 1, 0], dtype=torch.uint8),\n",
              " tensor([0, 1, 1,  ..., 1, 1, 0], dtype=torch.uint8),\n",
              " tensor([0, 1, 1,  ..., 1, 1, 0], dtype=torch.uint8),\n",
              " tensor([0, 1, 1,  ..., 1, 1, 0], dtype=torch.uint8),\n",
              " tensor([0, 1, 1,  ..., 1, 1, 0], dtype=torch.uint8),\n",
              " tensor([0, 1, 1,  ..., 1, 1, 0], dtype=torch.uint8),\n",
              " tensor([0, 1, 1,  ..., 1, 1, 0], dtype=torch.uint8),\n",
              " tensor([0, 1, 1,  ..., 1, 1, 0], dtype=torch.uint8),\n",
              " tensor([0, 1, 1,  ..., 1, 1, 0], dtype=torch.uint8),\n",
              " tensor([0, 1, 1,  ..., 1, 1, 0], dtype=torch.uint8),\n",
              " tensor([0, 1, 1,  ..., 1, 1, 0], dtype=torch.uint8),\n",
              " tensor([0, 1, 1,  ..., 1, 1, 0], dtype=torch.uint8),\n",
              " tensor([0, 1, 1,  ..., 1, 1, 0], dtype=torch.uint8),\n",
              " tensor([0, 1, 1,  ..., 1, 1, 0], dtype=torch.uint8),\n",
              " tensor([0, 1, 1,  ..., 1, 1, 0], dtype=torch.uint8),\n",
              " tensor([0, 1, 1,  ..., 1, 1, 0], dtype=torch.uint8),\n",
              " tensor([0, 1, 1,  ..., 1, 1, 0], dtype=torch.uint8),\n",
              " tensor([0, 1, 1,  ..., 1, 1, 0], dtype=torch.uint8),\n",
              " tensor([0, 1, 1,  ..., 1, 1, 0], dtype=torch.uint8),\n",
              " tensor([0, 1, 1,  ..., 1, 1, 0], dtype=torch.uint8),\n",
              " tensor([0, 1, 1,  ..., 1, 1, 0], dtype=torch.uint8),\n",
              " tensor([0, 1, 1,  ..., 1, 1, 0], dtype=torch.uint8),\n",
              " tensor([0, 1, 1,  ..., 1, 1, 0], dtype=torch.uint8),\n",
              " tensor([0, 1, 1,  ..., 1, 1, 0], dtype=torch.uint8),\n",
              " tensor([0, 1, 1,  ..., 1, 1, 0], dtype=torch.uint8),\n",
              " tensor([0, 1, 1,  ..., 1, 1, 0], dtype=torch.uint8),\n",
              " tensor([0, 1, 1,  ..., 1, 1, 0], dtype=torch.uint8),\n",
              " tensor([0, 1, 1,  ..., 1, 1, 0], dtype=torch.uint8),\n",
              " tensor([0, 1, 1,  ..., 1, 1, 0], dtype=torch.uint8),\n",
              " tensor([0, 1, 1,  ..., 1, 1, 0], dtype=torch.uint8),\n",
              " tensor([0, 1, 1,  ..., 1, 1, 0], dtype=torch.uint8),\n",
              " tensor([0, 1, 1,  ..., 1, 1, 0], dtype=torch.uint8),\n",
              " tensor([0, 1, 1,  ..., 1, 1, 0], dtype=torch.uint8),\n",
              " tensor([0, 1, 1,  ..., 1, 1, 0], dtype=torch.uint8),\n",
              " tensor([0, 1, 1,  ..., 1, 1, 0], dtype=torch.uint8),\n",
              " tensor([0, 1, 1,  ..., 1, 1, 0], dtype=torch.uint8),\n",
              " tensor([0, 1, 1,  ..., 1, 1, 0], dtype=torch.uint8),\n",
              " tensor([0, 1, 1,  ..., 1, 1, 0], dtype=torch.uint8),\n",
              " tensor([0, 1, 1,  ..., 1, 1, 0], dtype=torch.uint8),\n",
              " tensor([0, 1, 1,  ..., 1, 1, 0], dtype=torch.uint8),\n",
              " tensor([0, 1, 1,  ..., 1, 1, 0], dtype=torch.uint8),\n",
              " tensor([0, 1, 1,  ..., 1, 1, 0], dtype=torch.uint8),\n",
              " tensor([0, 1, 1,  ..., 1, 1, 0], dtype=torch.uint8),\n",
              " tensor([0, 1, 1,  ..., 1, 1, 0], dtype=torch.uint8),\n",
              " tensor([0, 1, 1,  ..., 1, 1, 0], dtype=torch.uint8),\n",
              " tensor([0, 1, 1,  ..., 1, 1, 0], dtype=torch.uint8),\n",
              " tensor([0, 1, 1,  ..., 1, 1, 0], dtype=torch.uint8),\n",
              " tensor([0, 1, 1,  ..., 1, 1, 0], dtype=torch.uint8),\n",
              " tensor([0, 1, 1,  ..., 1, 1, 0], dtype=torch.uint8),\n",
              " tensor([0, 1, 1,  ..., 1, 1, 0], dtype=torch.uint8),\n",
              " tensor([0, 1, 1,  ..., 1, 1, 0], dtype=torch.uint8),\n",
              " tensor([0, 1, 1,  ..., 1, 1, 0], dtype=torch.uint8),\n",
              " tensor([0, 1, 1,  ..., 1, 1, 0], dtype=torch.uint8),\n",
              " tensor([0, 1, 1,  ..., 1, 1, 0], dtype=torch.uint8),\n",
              " tensor([0, 1, 1,  ..., 1, 1, 0], dtype=torch.uint8),\n",
              " tensor([0, 1, 1,  ..., 1, 1, 0], dtype=torch.uint8),\n",
              " tensor([0, 1, 1,  ..., 1, 1, 0], dtype=torch.uint8),\n",
              " tensor([0, 1, 1,  ..., 1, 1, 0], dtype=torch.uint8),\n",
              " tensor([0, 1, 1,  ..., 1, 1, 0], dtype=torch.uint8),\n",
              " tensor([0, 1, 1,  ..., 1, 1, 0], dtype=torch.uint8),\n",
              " tensor([0, 1, 1,  ..., 1, 1, 0], dtype=torch.uint8),\n",
              " tensor([0, 1, 1,  ..., 1, 1, 0], dtype=torch.uint8),\n",
              " tensor([0, 1, 1,  ..., 1, 1, 0], dtype=torch.uint8),\n",
              " tensor([0, 1, 1,  ..., 1, 1, 0], dtype=torch.uint8),\n",
              " tensor([0, 1, 1,  ..., 1, 1, 0], dtype=torch.uint8),\n",
              " tensor([0, 1, 1,  ..., 1, 1, 0], dtype=torch.uint8),\n",
              " tensor([0, 1, 1,  ..., 1, 1, 0], dtype=torch.uint8),\n",
              " tensor([0, 1, 1,  ..., 1, 1, 0], dtype=torch.uint8),\n",
              " tensor([0, 1, 1,  ..., 1, 1, 0], dtype=torch.uint8),\n",
              " tensor([0, 1, 1,  ..., 1, 1, 0], dtype=torch.uint8),\n",
              " tensor([0, 1, 1,  ..., 1, 1, 0], dtype=torch.uint8),\n",
              " tensor([0, 1, 1,  ..., 1, 1, 0], dtype=torch.uint8),\n",
              " tensor([0, 1, 1,  ..., 1, 1, 0], dtype=torch.uint8),\n",
              " tensor([0, 1, 1,  ..., 1, 1, 0], dtype=torch.uint8),\n",
              " tensor([0, 1, 1,  ..., 1, 1, 0], dtype=torch.uint8),\n",
              " tensor([0, 1, 1,  ..., 1, 1, 0], dtype=torch.uint8),\n",
              " tensor([0, 1, 1,  ..., 1, 1, 0], dtype=torch.uint8),\n",
              " tensor([0, 1, 1,  ..., 1, 1, 0], dtype=torch.uint8),\n",
              " tensor([0, 1, 1,  ..., 1, 1, 0], dtype=torch.uint8),\n",
              " tensor([0, 1, 1,  ..., 1, 1, 0], dtype=torch.uint8),\n",
              " tensor([0, 1, 1,  ..., 1, 1, 0], dtype=torch.uint8),\n",
              " tensor([0, 1, 1,  ..., 1, 1, 0], dtype=torch.uint8),\n",
              " tensor([0, 1, 1,  ..., 1, 1, 0], dtype=torch.uint8),\n",
              " tensor([0, 1, 1,  ..., 1, 1, 0], dtype=torch.uint8),\n",
              " tensor([0, 1, 1,  ..., 1, 1, 0], dtype=torch.uint8),\n",
              " tensor([0, 1, 1,  ..., 1, 1, 0], dtype=torch.uint8),\n",
              " tensor([0, 1, 1,  ..., 1, 1, 0], dtype=torch.uint8),\n",
              " tensor([0, 1, 1,  ..., 1, 1, 0], dtype=torch.uint8),\n",
              " tensor([0, 1, 1,  ..., 1, 1, 0], dtype=torch.uint8),\n",
              " tensor([0, 1, 1,  ..., 1, 1, 0], dtype=torch.uint8),\n",
              " tensor([0, 1, 1,  ..., 1, 1, 0], dtype=torch.uint8),\n",
              " tensor([0, 1, 1,  ..., 1, 1, 0], dtype=torch.uint8),\n",
              " tensor([0, 1, 1,  ..., 1, 1, 0], dtype=torch.uint8),\n",
              " tensor([0, 1, 1,  ..., 1, 1, 0], dtype=torch.uint8),\n",
              " tensor([0, 1, 1,  ..., 1, 1, 0], dtype=torch.uint8),\n",
              " tensor([0, 1, 1,  ..., 1, 1, 0], dtype=torch.uint8),\n",
              " tensor([0, 1, 1,  ..., 1, 1, 0], dtype=torch.uint8),\n",
              " tensor([0, 1, 1,  ..., 1, 1, 0], dtype=torch.uint8),\n",
              " tensor([0, 1, 1,  ..., 1, 1, 0], dtype=torch.uint8),\n",
              " tensor([0, 1, 1,  ..., 1, 1, 0], dtype=torch.uint8),\n",
              " tensor([0, 1, 1,  ..., 1, 1, 0], dtype=torch.uint8),\n",
              " tensor([0, 1, 1,  ..., 1, 1, 0], dtype=torch.uint8),\n",
              " tensor([0, 1, 1,  ..., 1, 1, 0], dtype=torch.uint8),\n",
              " tensor([0, 1, 1,  ..., 1, 1, 0], dtype=torch.uint8),\n",
              " tensor([0, 1, 1,  ..., 1, 1, 0], dtype=torch.uint8),\n",
              " tensor([0, 1, 1,  ..., 1, 1, 0], dtype=torch.uint8),\n",
              " tensor([0, 1, 1,  ..., 1, 1, 0], dtype=torch.uint8),\n",
              " tensor([0, 1, 1,  ..., 1, 1, 0], dtype=torch.uint8),\n",
              " tensor([0, 1, 1,  ..., 1, 1, 0], dtype=torch.uint8),\n",
              " tensor([0, 1, 1,  ..., 1, 1, 0], dtype=torch.uint8),\n",
              " tensor([0, 1, 1,  ..., 1, 1, 0], dtype=torch.uint8),\n",
              " tensor([0, 1, 1,  ..., 1, 1, 0], dtype=torch.uint8),\n",
              " tensor([0, 1, 1,  ..., 1, 1, 0], dtype=torch.uint8),\n",
              " tensor([0, 1, 1,  ..., 1, 1, 0], dtype=torch.uint8),\n",
              " tensor([0, 1, 1,  ..., 1, 1, 0], dtype=torch.uint8),\n",
              " tensor([0, 1, 1,  ..., 1, 1, 0], dtype=torch.uint8),\n",
              " tensor([0, 1, 1,  ..., 1, 1, 0], dtype=torch.uint8),\n",
              " tensor([0, 1, 1,  ..., 1, 1, 0], dtype=torch.uint8),\n",
              " tensor([0, 1, 1,  ..., 1, 1, 0], dtype=torch.uint8),\n",
              " tensor([0, 1, 1,  ..., 1, 1, 0], dtype=torch.uint8),\n",
              " tensor([0, 1, 1,  ..., 1, 1, 0], dtype=torch.uint8),\n",
              " tensor([0, 1, 1,  ..., 1, 1, 0], dtype=torch.uint8),\n",
              " tensor([0, 1, 1,  ..., 1, 1, 0], dtype=torch.uint8),\n",
              " tensor([0, 1, 1,  ..., 1, 1, 0], dtype=torch.uint8),\n",
              " tensor([0, 1, 1,  ..., 1, 1, 0], dtype=torch.uint8),\n",
              " tensor([0, 1, 1,  ..., 1, 1, 0], dtype=torch.uint8),\n",
              " tensor([0, 1, 1,  ..., 1, 1, 0], dtype=torch.uint8),\n",
              " tensor([0, 1, 1,  ..., 1, 1, 0], dtype=torch.uint8),\n",
              " tensor([0, 1, 1,  ..., 1, 1, 0], dtype=torch.uint8),\n",
              " tensor([0, 1, 1,  ..., 1, 1, 0], dtype=torch.uint8),\n",
              " tensor([0, 1, 1,  ..., 1, 1, 0], dtype=torch.uint8),\n",
              " tensor([0, 1, 1,  ..., 1, 1, 0], dtype=torch.uint8),\n",
              " tensor([0, 1, 1,  ..., 1, 1, 0], dtype=torch.uint8),\n",
              " tensor([0, 1, 1,  ..., 1, 1, 0], dtype=torch.uint8),\n",
              " tensor([0, 1, 1,  ..., 1, 1, 0], dtype=torch.uint8),\n",
              " tensor([0, 1, 1,  ..., 1, 1, 0], dtype=torch.uint8),\n",
              " tensor([0, 1, 1,  ..., 1, 1, 0], dtype=torch.uint8),\n",
              " tensor([0, 1, 1,  ..., 1, 1, 0], dtype=torch.uint8),\n",
              " tensor([0, 1, 1,  ..., 1, 1, 0], dtype=torch.uint8),\n",
              " tensor([0, 1, 1,  ..., 1, 1, 0], dtype=torch.uint8),\n",
              " tensor([0, 1, 1,  ..., 1, 1, 0], dtype=torch.uint8),\n",
              " tensor([0, 1, 1,  ..., 1, 1, 0], dtype=torch.uint8),\n",
              " tensor([0, 1, 1,  ..., 1, 1, 0], dtype=torch.uint8),\n",
              " tensor([0, 1, 1,  ..., 1, 1, 0], dtype=torch.uint8),\n",
              " tensor([0, 1, 1,  ..., 1, 1, 0], dtype=torch.uint8),\n",
              " tensor([0, 1, 1,  ..., 1, 1, 0], dtype=torch.uint8),\n",
              " tensor([0, 1, 1,  ..., 1, 1, 0], dtype=torch.uint8),\n",
              " tensor([0, 1, 1,  ..., 1, 1, 0], dtype=torch.uint8),\n",
              " tensor([0, 1, 1,  ..., 1, 1, 0], dtype=torch.uint8),\n",
              " tensor([0, 1, 1,  ..., 1, 1, 0], dtype=torch.uint8),\n",
              " tensor([0, 1, 1,  ..., 1, 1, 0], dtype=torch.uint8),\n",
              " tensor([0, 1, 1,  ..., 1, 1, 0], dtype=torch.uint8),\n",
              " tensor([0, 1, 1,  ..., 1, 1, 0], dtype=torch.uint8),\n",
              " tensor([0, 1, 1,  ..., 1, 1, 0], dtype=torch.uint8),\n",
              " tensor([0, 1, 1,  ..., 1, 1, 0], dtype=torch.uint8),\n",
              " tensor([0, 1, 1,  ..., 1, 1, 0], dtype=torch.uint8),\n",
              " tensor([0, 1, 1,  ..., 1, 1, 0], dtype=torch.uint8),\n",
              " tensor([0, 1, 1,  ..., 1, 1, 0], dtype=torch.uint8),\n",
              " tensor([0, 1, 1,  ..., 1, 1, 0], dtype=torch.uint8),\n",
              " tensor([0, 1, 1,  ..., 1, 1, 0], dtype=torch.uint8),\n",
              " tensor([0, 1, 1,  ..., 1, 1, 0], dtype=torch.uint8),\n",
              " tensor([0, 1, 1,  ..., 1, 1, 0], dtype=torch.uint8),\n",
              " tensor([0, 1, 1,  ..., 1, 1, 0], dtype=torch.uint8),\n",
              " tensor([0, 1, 1,  ..., 1, 1, 0], dtype=torch.uint8),\n",
              " tensor([0, 1, 1,  ..., 1, 1, 0], dtype=torch.uint8),\n",
              " tensor([0, 1, 1,  ..., 1, 1, 0], dtype=torch.uint8),\n",
              " tensor([0, 1, 1,  ..., 1, 1, 0], dtype=torch.uint8),\n",
              " tensor([0, 1, 1,  ..., 1, 1, 0], dtype=torch.uint8),\n",
              " tensor([0, 1, 1,  ..., 1, 1, 0], dtype=torch.uint8),\n",
              " tensor([0, 1, 1,  ..., 1, 1, 0], dtype=torch.uint8),\n",
              " tensor([0, 1, 1,  ..., 1, 1, 0], dtype=torch.uint8),\n",
              " tensor([0, 1, 1,  ..., 1, 1, 0], dtype=torch.uint8),\n",
              " tensor([0, 1, 1,  ..., 1, 1, 0], dtype=torch.uint8),\n",
              " tensor([0, 1, 1,  ..., 1, 1, 0], dtype=torch.uint8),\n",
              " tensor([0, 1, 1,  ..., 1, 1, 0], dtype=torch.uint8),\n",
              " tensor([0, 1, 1,  ..., 1, 1, 0], dtype=torch.uint8),\n",
              " tensor([0, 1, 1,  ..., 1, 1, 0], dtype=torch.uint8),\n",
              " tensor([0, 1, 1,  ..., 1, 1, 0], dtype=torch.uint8),\n",
              " tensor([0, 1, 1,  ..., 1, 1, 0], dtype=torch.uint8),\n",
              " tensor([0, 1, 1,  ..., 1, 1, 0], dtype=torch.uint8),\n",
              " tensor([0, 1, 1,  ..., 1, 1, 0], dtype=torch.uint8),\n",
              " tensor([0, 1, 1,  ..., 1, 1, 0], dtype=torch.uint8),\n",
              " tensor([0, 1, 1,  ..., 1, 1, 0], dtype=torch.uint8),\n",
              " tensor([0, 1, 1,  ..., 1, 1, 0], dtype=torch.uint8),\n",
              " tensor([0, 1, 1,  ..., 1, 1, 0], dtype=torch.uint8),\n",
              " tensor([0, 1, 1,  ..., 1, 1, 0], dtype=torch.uint8),\n",
              " tensor([0, 1, 1,  ..., 1, 1, 0], dtype=torch.uint8),\n",
              " tensor([0, 1, 1,  ..., 1, 1, 0], dtype=torch.uint8),\n",
              " tensor([0, 1, 1,  ..., 1, 1, 0], dtype=torch.uint8),\n",
              " tensor([0, 1, 1,  ..., 1, 1, 0], dtype=torch.uint8),\n",
              " tensor([0, 1, 1,  ..., 1, 1, 0], dtype=torch.uint8),\n",
              " tensor([0, 1, 1,  ..., 1, 1, 0], dtype=torch.uint8),\n",
              " tensor([0, 1, 1,  ..., 1, 1, 0], dtype=torch.uint8),\n",
              " tensor([0, 1, 1,  ..., 1, 1, 0], dtype=torch.uint8),\n",
              " tensor([0, 1, 1,  ..., 1, 1, 0], dtype=torch.uint8),\n",
              " tensor([0, 1, 1,  ..., 1, 1, 0], dtype=torch.uint8),\n",
              " tensor([0, 1, 1,  ..., 1, 1, 0], dtype=torch.uint8),\n",
              " tensor([0, 1, 1,  ..., 1, 1, 0], dtype=torch.uint8),\n",
              " tensor([0, 1, 1,  ..., 1, 1, 0], dtype=torch.uint8),\n",
              " tensor([0, 1, 1,  ..., 1, 1, 0], dtype=torch.uint8),\n",
              " tensor([0, 1, 1,  ..., 1, 1, 0], dtype=torch.uint8),\n",
              " tensor([0, 1, 1,  ..., 1, 1, 0], dtype=torch.uint8),\n",
              " tensor([0, 1, 1,  ..., 1, 1, 0], dtype=torch.uint8),\n",
              " tensor([0, 1, 1,  ..., 1, 1, 0], dtype=torch.uint8),\n",
              " tensor([0, 1, 1,  ..., 1, 1, 0], dtype=torch.uint8),\n",
              " tensor([0, 1, 1,  ..., 1, 1, 0], dtype=torch.uint8),\n",
              " tensor([0, 1, 1,  ..., 1, 1, 0], dtype=torch.uint8),\n",
              " tensor([0, 1, 1,  ..., 1, 1, 0], dtype=torch.uint8),\n",
              " tensor([0, 1, 1,  ..., 1, 1, 0], dtype=torch.uint8),\n",
              " tensor([0, 1, 1,  ..., 1, 1, 0], dtype=torch.uint8),\n",
              " tensor([0, 1, 1,  ..., 1, 1, 0], dtype=torch.uint8),\n",
              " tensor([0, 1, 1,  ..., 1, 1, 0], dtype=torch.uint8),\n",
              " tensor([0, 1, 1,  ..., 1, 1, 0], dtype=torch.uint8),\n",
              " tensor([0, 1, 1,  ..., 1, 1, 0], dtype=torch.uint8),\n",
              " tensor([0, 1, 1,  ..., 1, 1, 0], dtype=torch.uint8),\n",
              " tensor([0, 1, 1,  ..., 1, 1, 0], dtype=torch.uint8),\n",
              " tensor([0, 1, 1,  ..., 1, 1, 0], dtype=torch.uint8),\n",
              " tensor([0, 1, 1,  ..., 1, 1, 0], dtype=torch.uint8),\n",
              " tensor([0, 1, 1,  ..., 1, 1, 0], dtype=torch.uint8),\n",
              " tensor([0, 1, 1,  ..., 1, 1, 0], dtype=torch.uint8),\n",
              " tensor([0, 1, 1,  ..., 1, 1, 0], dtype=torch.uint8),\n",
              " tensor([0, 1, 1,  ..., 1, 1, 0], dtype=torch.uint8),\n",
              " tensor([0, 1, 1,  ..., 1, 1, 0], dtype=torch.uint8),\n",
              " tensor([0, 1, 1,  ..., 1, 1, 0], dtype=torch.uint8),\n",
              " tensor([0, 1, 1,  ..., 1, 1, 0], dtype=torch.uint8),\n",
              " tensor([0, 1, 1,  ..., 1, 1, 0], dtype=torch.uint8),\n",
              " tensor([0, 1, 1,  ..., 1, 1, 0], dtype=torch.uint8),\n",
              " tensor([0, 1, 1,  ..., 1, 1, 0], dtype=torch.uint8),\n",
              " tensor([0, 1, 1,  ..., 1, 1, 0], dtype=torch.uint8),\n",
              " tensor([0, 1, 1,  ..., 1, 1, 0], dtype=torch.uint8),\n",
              " tensor([0, 1, 1,  ..., 1, 1, 0], dtype=torch.uint8),\n",
              " tensor([0, 1, 1,  ..., 1, 1, 0], dtype=torch.uint8),\n",
              " tensor([0, 1, 1,  ..., 1, 1, 0], dtype=torch.uint8),\n",
              " tensor([0, 1, 1,  ..., 1, 1, 0], dtype=torch.uint8),\n",
              " tensor([0, 1, 1,  ..., 1, 1, 0], dtype=torch.uint8),\n",
              " tensor([0, 1, 1,  ..., 1, 1, 0], dtype=torch.uint8),\n",
              " tensor([0, 1, 1,  ..., 1, 1, 0], dtype=torch.uint8),\n",
              " tensor([0, 1, 1,  ..., 1, 1, 0], dtype=torch.uint8),\n",
              " tensor([0, 1, 1,  ..., 1, 1, 0], dtype=torch.uint8),\n",
              " tensor([0, 1, 1,  ..., 1, 1, 0], dtype=torch.uint8),\n",
              " tensor([0, 1, 1,  ..., 1, 1, 0], dtype=torch.uint8),\n",
              " tensor([0, 1, 1,  ..., 1, 1, 0], dtype=torch.uint8),\n",
              " tensor([0, 1, 1,  ..., 1, 1, 0], dtype=torch.uint8),\n",
              " tensor([0, 1, 1,  ..., 1, 1, 0], dtype=torch.uint8),\n",
              " tensor([0, 1, 1,  ..., 1, 1, 0], dtype=torch.uint8),\n",
              " tensor([0, 1, 1,  ..., 1, 1, 0], dtype=torch.uint8),\n",
              " tensor([0, 1, 1,  ..., 1, 1, 0], dtype=torch.uint8),\n",
              " tensor([0, 1, 1,  ..., 1, 1, 0], dtype=torch.uint8),\n",
              " tensor([0, 1, 1,  ..., 1, 1, 0], dtype=torch.uint8),\n",
              " tensor([0, 1, 1,  ..., 1, 1, 0], dtype=torch.uint8),\n",
              " tensor([0, 1, 1,  ..., 1, 1, 0], dtype=torch.uint8),\n",
              " tensor([0, 1, 1,  ..., 1, 1, 0], dtype=torch.uint8),\n",
              " tensor([0, 1, 1,  ..., 1, 1, 0], dtype=torch.uint8),\n",
              " tensor([0, 1, 1,  ..., 1, 1, 0], dtype=torch.uint8),\n",
              " tensor([0, 1, 1,  ..., 1, 1, 0], dtype=torch.uint8),\n",
              " tensor([0, 1, 1,  ..., 1, 1, 0], dtype=torch.uint8),\n",
              " tensor([0, 1, 1,  ..., 1, 1, 0], dtype=torch.uint8),\n",
              " tensor([0, 1, 1,  ..., 1, 1, 0], dtype=torch.uint8),\n",
              " tensor([0, 1, 1,  ..., 1, 1, 0], dtype=torch.uint8),\n",
              " tensor([0, 1, 1,  ..., 1, 1, 0], dtype=torch.uint8),\n",
              " tensor([0, 1, 1,  ..., 1, 1, 0], dtype=torch.uint8),\n",
              " tensor([0, 1, 1,  ..., 1, 1, 0], dtype=torch.uint8),\n",
              " tensor([0, 1, 1,  ..., 1, 1, 0], dtype=torch.uint8),\n",
              " tensor([0, 1, 1,  ..., 1, 1, 0], dtype=torch.uint8),\n",
              " tensor([0, 1, 1,  ..., 1, 1, 0], dtype=torch.uint8),\n",
              " tensor([0, 1, 1,  ..., 1, 1, 0], dtype=torch.uint8),\n",
              " tensor([0, 1, 1,  ..., 1, 1, 0], dtype=torch.uint8),\n",
              " tensor([0, 1, 1,  ..., 1, 1, 0], dtype=torch.uint8),\n",
              " tensor([0, 1, 1,  ..., 1, 1, 0], dtype=torch.uint8),\n",
              " tensor([0, 1, 1,  ..., 1, 1, 0], dtype=torch.uint8),\n",
              " tensor([0, 1, 1,  ..., 1, 1, 0], dtype=torch.uint8),\n",
              " tensor([0, 1, 1,  ..., 1, 1, 0], dtype=torch.uint8),\n",
              " tensor([0, 1, 1,  ..., 1, 1, 0], dtype=torch.uint8),\n",
              " tensor([0, 1, 1,  ..., 1, 1, 0], dtype=torch.uint8),\n",
              " tensor([0, 1, 1,  ..., 1, 1, 0], dtype=torch.uint8),\n",
              " tensor([0, 1, 1,  ..., 1, 1, 0], dtype=torch.uint8),\n",
              " tensor([0, 1, 1,  ..., 1, 1, 0], dtype=torch.uint8),\n",
              " tensor([0, 1, 1,  ..., 1, 1, 0], dtype=torch.uint8),\n",
              " tensor([0, 1, 1,  ..., 1, 1, 0], dtype=torch.uint8),\n",
              " tensor([0, 1, 1,  ..., 1, 1, 0], dtype=torch.uint8),\n",
              " tensor([0, 1, 1,  ..., 1, 1, 0], dtype=torch.uint8),\n",
              " tensor([0, 1, 1,  ..., 1, 1, 0], dtype=torch.uint8),\n",
              " tensor([0, 1, 1,  ..., 1, 1, 0], dtype=torch.uint8),\n",
              " tensor([0, 1, 1,  ..., 1, 1, 0], dtype=torch.uint8),\n",
              " tensor([0, 1, 1,  ..., 1, 1, 0], dtype=torch.uint8),\n",
              " tensor([0, 1, 1,  ..., 1, 1, 0], dtype=torch.uint8),\n",
              " tensor([0, 1, 1,  ..., 1, 1, 0], dtype=torch.uint8),\n",
              " tensor([0, 1, 1,  ..., 1, 1, 0], dtype=torch.uint8),\n",
              " tensor([0, 1, 1,  ..., 1, 1, 0], dtype=torch.uint8),\n",
              " tensor([0, 1, 1,  ..., 1, 1, 0], dtype=torch.uint8),\n",
              " tensor([0, 1, 1,  ..., 1, 1, 0], dtype=torch.uint8),\n",
              " tensor([0, 1, 1,  ..., 1, 1, 0], dtype=torch.uint8),\n",
              " tensor([0, 1, 1,  ..., 1, 1, 0], dtype=torch.uint8),\n",
              " tensor([0, 1, 1,  ..., 1, 1, 0], dtype=torch.uint8),\n",
              " tensor([0, 1, 1,  ..., 1, 1, 0], dtype=torch.uint8),\n",
              " tensor([0, 1, 1,  ..., 1, 1, 0], dtype=torch.uint8),\n",
              " tensor([0, 1, 1,  ..., 1, 1, 0], dtype=torch.uint8),\n",
              " tensor([0, 1, 1,  ..., 1, 1, 0], dtype=torch.uint8),\n",
              " tensor([0, 1, 1,  ..., 1, 1, 0], dtype=torch.uint8),\n",
              " tensor([0, 1, 1,  ..., 1, 1, 0], dtype=torch.uint8),\n",
              " tensor([0, 1, 1,  ..., 1, 1, 0], dtype=torch.uint8),\n",
              " tensor([0, 1, 1,  ..., 1, 1, 0], dtype=torch.uint8),\n",
              " tensor([0, 1, 1,  ..., 1, 1, 0], dtype=torch.uint8),\n",
              " tensor([0, 1, 1,  ..., 1, 1, 0], dtype=torch.uint8),\n",
              " tensor([0, 1, 1,  ..., 1, 1, 0], dtype=torch.uint8),\n",
              " tensor([0, 1, 1,  ..., 1, 1, 0], dtype=torch.uint8),\n",
              " tensor([0, 1, 1,  ..., 1, 1, 0], dtype=torch.uint8),\n",
              " tensor([0, 1, 1,  ..., 1, 1, 0], dtype=torch.uint8),\n",
              " tensor([0, 1, 1,  ..., 1, 1, 0], dtype=torch.uint8),\n",
              " tensor([0, 1, 1,  ..., 1, 1, 0], dtype=torch.uint8),\n",
              " tensor([0, 1, 1,  ..., 1, 1, 0], dtype=torch.uint8),\n",
              " tensor([0, 1, 1,  ..., 1, 1, 0], dtype=torch.uint8),\n",
              " tensor([0, 1, 1,  ..., 1, 1, 0], dtype=torch.uint8),\n",
              " tensor([0, 1, 1,  ..., 1, 1, 0], dtype=torch.uint8),\n",
              " tensor([0, 1, 1,  ..., 1, 1, 0], dtype=torch.uint8),\n",
              " tensor([0, 1, 1,  ..., 1, 1, 0], dtype=torch.uint8),\n",
              " tensor([0, 1, 1,  ..., 1, 1, 0], dtype=torch.uint8),\n",
              " tensor([0, 1, 1,  ..., 1, 1, 0], dtype=torch.uint8),\n",
              " tensor([0, 1, 1,  ..., 1, 1, 0], dtype=torch.uint8),\n",
              " tensor([0, 1, 1,  ..., 1, 1, 0], dtype=torch.uint8),\n",
              " tensor([0, 1, 1,  ..., 1, 1, 0], dtype=torch.uint8),\n",
              " tensor([0, 1, 1,  ..., 1, 1, 0], dtype=torch.uint8),\n",
              " tensor([0, 1, 1,  ..., 1, 1, 0], dtype=torch.uint8),\n",
              " tensor([0, 1, 1,  ..., 1, 1, 0], dtype=torch.uint8),\n",
              " tensor([0, 1, 1,  ..., 1, 1, 0], dtype=torch.uint8),\n",
              " tensor([0, 1, 1,  ..., 1, 1, 0], dtype=torch.uint8),\n",
              " tensor([0, 1, 1,  ..., 1, 1, 0], dtype=torch.uint8),\n",
              " tensor([0, 1, 1,  ..., 1, 1, 0], dtype=torch.uint8),\n",
              " tensor([0, 1, 1,  ..., 1, 1, 0], dtype=torch.uint8),\n",
              " tensor([0, 1, 1,  ..., 1, 1, 0], dtype=torch.uint8),\n",
              " tensor([0, 1, 1,  ..., 1, 1, 0], dtype=torch.uint8),\n",
              " tensor([0, 1, 1,  ..., 1, 1, 0], dtype=torch.uint8),\n",
              " tensor([0, 1, 1,  ..., 1, 1, 0], dtype=torch.uint8),\n",
              " tensor([0, 1, 1,  ..., 1, 1, 0], dtype=torch.uint8),\n",
              " tensor([0, 1, 1,  ..., 1, 1, 0], dtype=torch.uint8),\n",
              " tensor([0, 1, 1,  ..., 1, 1, 0], dtype=torch.uint8),\n",
              " tensor([0, 1, 1,  ..., 1, 1, 0], dtype=torch.uint8),\n",
              " tensor([0, 1, 1,  ..., 1, 1, 0], dtype=torch.uint8),\n",
              " tensor([0, 1, 1,  ..., 1, 1, 0], dtype=torch.uint8),\n",
              " tensor([0, 1, 1,  ..., 1, 1, 0], dtype=torch.uint8),\n",
              " tensor([0, 1, 1,  ..., 1, 1, 0], dtype=torch.uint8),\n",
              " tensor([0, 1, 1,  ..., 1, 1, 0], dtype=torch.uint8),\n",
              " tensor([0, 1, 1,  ..., 1, 1, 0], dtype=torch.uint8),\n",
              " tensor([0, 1, 1,  ..., 1, 1, 0], dtype=torch.uint8),\n",
              " tensor([0, 1, 1,  ..., 1, 1, 0], dtype=torch.uint8),\n",
              " tensor([0, 1, 1,  ..., 1, 1, 0], dtype=torch.uint8),\n",
              " tensor([0, 1, 1,  ..., 1, 1, 0], dtype=torch.uint8),\n",
              " tensor([0, 1, 1,  ..., 1, 1, 0], dtype=torch.uint8),\n",
              " tensor([0, 1, 1,  ..., 1, 1, 0], dtype=torch.uint8),\n",
              " tensor([0, 1, 1,  ..., 1, 1, 0], dtype=torch.uint8),\n",
              " tensor([0, 1, 1,  ..., 1, 1, 0], dtype=torch.uint8),\n",
              " tensor([0, 1, 1,  ..., 1, 1, 0], dtype=torch.uint8),\n",
              " tensor([0, 1, 1,  ..., 1, 1, 0], dtype=torch.uint8),\n",
              " tensor([0, 1, 1,  ..., 1, 1, 0], dtype=torch.uint8),\n",
              " tensor([0, 1, 1,  ..., 1, 1, 0], dtype=torch.uint8),\n",
              " tensor([0, 1, 1,  ..., 1, 1, 0], dtype=torch.uint8),\n",
              " tensor([0, 1, 1,  ..., 1, 1, 0], dtype=torch.uint8),\n",
              " tensor([0, 1, 1,  ..., 1, 1, 0], dtype=torch.uint8),\n",
              " tensor([0, 1, 1,  ..., 1, 1, 0], dtype=torch.uint8),\n",
              " tensor([0, 1, 1,  ..., 1, 1, 0], dtype=torch.uint8),\n",
              " tensor([0, 1, 1,  ..., 1, 1, 0], dtype=torch.uint8),\n",
              " tensor([0, 1, 1,  ..., 1, 1, 0], dtype=torch.uint8),\n",
              " tensor([0, 1, 1,  ..., 1, 1, 0], dtype=torch.uint8),\n",
              " tensor([0, 1, 1,  ..., 1, 1, 0], dtype=torch.uint8),\n",
              " tensor([0, 1, 1,  ..., 1, 1, 0], dtype=torch.uint8),\n",
              " tensor([0, 1, 1,  ..., 1, 1, 0], dtype=torch.uint8),\n",
              " tensor([0, 1, 1,  ..., 1, 1, 0], dtype=torch.uint8),\n",
              " tensor([0, 1, 1,  ..., 1, 1, 0], dtype=torch.uint8),\n",
              " tensor([0, 1, 1,  ..., 1, 1, 0], dtype=torch.uint8),\n",
              " tensor([0, 1, 1,  ..., 1, 1, 0], dtype=torch.uint8),\n",
              " tensor([0, 1, 1,  ..., 1, 1, 0], dtype=torch.uint8),\n",
              " tensor([0, 1, 1,  ..., 1, 1, 0], dtype=torch.uint8),\n",
              " tensor([0, 1, 1,  ..., 1, 1, 0], dtype=torch.uint8),\n",
              " tensor([0, 1, 1,  ..., 1, 1, 0], dtype=torch.uint8),\n",
              " tensor([0, 1, 1,  ..., 1, 1, 0], dtype=torch.uint8),\n",
              " tensor([0, 1, 1,  ..., 1, 1, 0], dtype=torch.uint8),\n",
              " tensor([0, 1, 1,  ..., 1, 1, 0], dtype=torch.uint8),\n",
              " tensor([0, 1, 1,  ..., 1, 1, 0], dtype=torch.uint8),\n",
              " tensor([0, 1, 1,  ..., 1, 1, 0], dtype=torch.uint8),\n",
              " tensor([0, 1, 1,  ..., 1, 1, 0], dtype=torch.uint8),\n",
              " tensor([0, 1, 1,  ..., 1, 1, 0], dtype=torch.uint8),\n",
              " tensor([0, 1, 1,  ..., 1, 1, 0], dtype=torch.uint8),\n",
              " tensor([0, 1, 1,  ..., 1, 1, 0], dtype=torch.uint8),\n",
              " tensor([0, 1, 1,  ..., 1, 1, 0], dtype=torch.uint8),\n",
              " tensor([0, 1, 1,  ..., 1, 1, 0], dtype=torch.uint8),\n",
              " tensor([0, 1, 1,  ..., 1, 1, 0], dtype=torch.uint8),\n",
              " tensor([0, 1, 1,  ..., 1, 1, 0], dtype=torch.uint8),\n",
              " tensor([0, 1, 1,  ..., 1, 1, 0], dtype=torch.uint8),\n",
              " tensor([0, 1, 1,  ..., 1, 1, 0], dtype=torch.uint8),\n",
              " tensor([0, 1, 1,  ..., 1, 1, 0], dtype=torch.uint8),\n",
              " tensor([0, 1, 1,  ..., 1, 1, 0], dtype=torch.uint8),\n",
              " tensor([0, 1, 1,  ..., 1, 1, 0], dtype=torch.uint8),\n",
              " tensor([0, 1, 1,  ..., 1, 1, 0], dtype=torch.uint8),\n",
              " tensor([0, 1, 1,  ..., 1, 1, 0], dtype=torch.uint8),\n",
              " tensor([0, 1, 1,  ..., 1, 1, 0], dtype=torch.uint8),\n",
              " tensor([0, 1, 1,  ..., 1, 1, 0], dtype=torch.uint8),\n",
              " tensor([0, 1, 1,  ..., 1, 1, 0], dtype=torch.uint8),\n",
              " tensor([0, 1, 1,  ..., 1, 1, 0], dtype=torch.uint8),\n",
              " tensor([0, 1, 1,  ..., 1, 1, 0], dtype=torch.uint8),\n",
              " ...]"
            ]
          },
          "metadata": {
            "tags": []
          },
          "execution_count": 13
        }
      ]
    },
    {
      "cell_type": "code",
      "metadata": {
        "id": "cQSy-GOQUuIE",
        "colab_type": "code",
        "colab": {}
      },
      "source": [
        "def create_db_and_parallels(num_entries):\n",
        "  \n",
        "  db = torch.rand(num_entries) > 0.5\n",
        "  pdbs = get_parallel_dbs(db)\n",
        "  \n",
        "  return db, pdbs"
      ],
      "execution_count": 0,
      "outputs": []
    },
    {
      "cell_type": "code",
      "metadata": {
        "id": "CCm0H_3-Vskr",
        "colab_type": "code",
        "colab": {}
      },
      "source": [
        "db, pdbs = create_db_and_parallels(20)"
      ],
      "execution_count": 0,
      "outputs": []
    },
    {
      "cell_type": "code",
      "metadata": {
        "id": "3fVxmh8sV0Gx",
        "colab_type": "code",
        "outputId": "83c82218-8e7d-4c7f-b426-738dfe14a472",
        "colab": {
          "base_uri": "https://localhost:8080/",
          "height": 51
        }
      },
      "source": [
        "db"
      ],
      "execution_count": 16,
      "outputs": [
        {
          "output_type": "execute_result",
          "data": {
            "text/plain": [
              "tensor([1, 1, 0, 1, 1, 0, 1, 0, 0, 0, 0, 0, 0, 1, 1, 0, 1, 1, 0, 0],\n",
              "       dtype=torch.uint8)"
            ]
          },
          "metadata": {
            "tags": []
          },
          "execution_count": 16
        }
      ]
    },
    {
      "cell_type": "code",
      "metadata": {
        "id": "q5MBZeuzV0hA",
        "colab_type": "code",
        "outputId": "66b0b28d-a324-4a9f-b8a8-ccd6f25b663c",
        "colab": {
          "base_uri": "https://localhost:8080/",
          "height": 697
        }
      },
      "source": [
        "pdbs"
      ],
      "execution_count": 17,
      "outputs": [
        {
          "output_type": "execute_result",
          "data": {
            "text/plain": [
              "[tensor([1, 0, 1, 1, 0, 1, 0, 0, 0, 0, 0, 0, 1, 1, 0, 1, 1, 0, 0],\n",
              "        dtype=torch.uint8),\n",
              " tensor([1, 0, 1, 1, 0, 1, 0, 0, 0, 0, 0, 0, 1, 1, 0, 1, 1, 0, 0],\n",
              "        dtype=torch.uint8),\n",
              " tensor([1, 1, 1, 1, 0, 1, 0, 0, 0, 0, 0, 0, 1, 1, 0, 1, 1, 0, 0],\n",
              "        dtype=torch.uint8),\n",
              " tensor([1, 1, 0, 1, 0, 1, 0, 0, 0, 0, 0, 0, 1, 1, 0, 1, 1, 0, 0],\n",
              "        dtype=torch.uint8),\n",
              " tensor([1, 1, 0, 1, 0, 1, 0, 0, 0, 0, 0, 0, 1, 1, 0, 1, 1, 0, 0],\n",
              "        dtype=torch.uint8),\n",
              " tensor([1, 1, 0, 1, 1, 1, 0, 0, 0, 0, 0, 0, 1, 1, 0, 1, 1, 0, 0],\n",
              "        dtype=torch.uint8),\n",
              " tensor([1, 1, 0, 1, 1, 0, 0, 0, 0, 0, 0, 0, 1, 1, 0, 1, 1, 0, 0],\n",
              "        dtype=torch.uint8),\n",
              " tensor([1, 1, 0, 1, 1, 0, 1, 0, 0, 0, 0, 0, 1, 1, 0, 1, 1, 0, 0],\n",
              "        dtype=torch.uint8),\n",
              " tensor([1, 1, 0, 1, 1, 0, 1, 0, 0, 0, 0, 0, 1, 1, 0, 1, 1, 0, 0],\n",
              "        dtype=torch.uint8),\n",
              " tensor([1, 1, 0, 1, 1, 0, 1, 0, 0, 0, 0, 0, 1, 1, 0, 1, 1, 0, 0],\n",
              "        dtype=torch.uint8),\n",
              " tensor([1, 1, 0, 1, 1, 0, 1, 0, 0, 0, 0, 0, 1, 1, 0, 1, 1, 0, 0],\n",
              "        dtype=torch.uint8),\n",
              " tensor([1, 1, 0, 1, 1, 0, 1, 0, 0, 0, 0, 0, 1, 1, 0, 1, 1, 0, 0],\n",
              "        dtype=torch.uint8),\n",
              " tensor([1, 1, 0, 1, 1, 0, 1, 0, 0, 0, 0, 0, 1, 1, 0, 1, 1, 0, 0],\n",
              "        dtype=torch.uint8),\n",
              " tensor([1, 1, 0, 1, 1, 0, 1, 0, 0, 0, 0, 0, 0, 1, 0, 1, 1, 0, 0],\n",
              "        dtype=torch.uint8),\n",
              " tensor([1, 1, 0, 1, 1, 0, 1, 0, 0, 0, 0, 0, 0, 1, 0, 1, 1, 0, 0],\n",
              "        dtype=torch.uint8),\n",
              " tensor([1, 1, 0, 1, 1, 0, 1, 0, 0, 0, 0, 0, 0, 1, 1, 1, 1, 0, 0],\n",
              "        dtype=torch.uint8),\n",
              " tensor([1, 1, 0, 1, 1, 0, 1, 0, 0, 0, 0, 0, 0, 1, 1, 0, 1, 0, 0],\n",
              "        dtype=torch.uint8),\n",
              " tensor([1, 1, 0, 1, 1, 0, 1, 0, 0, 0, 0, 0, 0, 1, 1, 0, 1, 0, 0],\n",
              "        dtype=torch.uint8),\n",
              " tensor([1, 1, 0, 1, 1, 0, 1, 0, 0, 0, 0, 0, 0, 1, 1, 0, 1, 1, 0],\n",
              "        dtype=torch.uint8),\n",
              " tensor([1, 1, 0, 1, 1, 0, 1, 0, 0, 0, 0, 0, 0, 1, 1, 0, 1, 1, 0],\n",
              "        dtype=torch.uint8)]"
            ]
          },
          "metadata": {
            "tags": []
          },
          "execution_count": 17
        }
      ]
    },
    {
      "cell_type": "markdown",
      "metadata": {
        "id": "zhJ0dE4J4BUJ",
        "colab_type": "text"
      },
      "source": [
        "**Project 3 - Evaluating Differential Privacy of a Function**"
      ]
    },
    {
      "cell_type": "markdown",
      "metadata": {
        "id": "DXrCdVVr3-x2",
        "colab_type": "text"
      },
      "source": [
        "Intuitively, we want to check whether the query of the database is releasing any \"private\" information. So, here we evaluate whether the output of the query changes when we remove someone from the database. Specifically, we want to evaluate the maximum amount the query changes when someone is removed. To find how much information is leaked, we iterate over each person in the database and measure the difference in the output relative to when we query the entire database."
      ]
    },
    {
      "cell_type": "code",
      "metadata": {
        "id": "NgObE-Rk4Aou",
        "colab_type": "code",
        "colab": {}
      },
      "source": [
        "db, pdbs = create_db_and_parallels(5000)"
      ],
      "execution_count": 0,
      "outputs": []
    },
    {
      "cell_type": "code",
      "metadata": {
        "id": "skBR9cF24XeO",
        "colab_type": "code",
        "colab": {}
      },
      "source": [
        "#db"
      ],
      "execution_count": 0,
      "outputs": []
    },
    {
      "cell_type": "code",
      "metadata": {
        "id": "8bhrtnRg4X6-",
        "colab_type": "code",
        "colab": {}
      },
      "source": [
        "def query(db):\n",
        "  return db.sum()"
      ],
      "execution_count": 0,
      "outputs": []
    },
    {
      "cell_type": "code",
      "metadata": {
        "id": "uKx9wNnm4htQ",
        "colab_type": "code",
        "colab": {}
      },
      "source": [
        "full_query_result = query(db)"
      ],
      "execution_count": 0,
      "outputs": []
    },
    {
      "cell_type": "code",
      "metadata": {
        "id": "UE6rkRUV4oDO",
        "colab_type": "code",
        "colab": {}
      },
      "source": [
        "max_distance = 0\n",
        "for pdb in pdbs:\n",
        "  pdb_result = query(pdb)\n",
        "  \n",
        "  db_distance = torch.abs(pdb_result - full_query_result)\n",
        "  \n",
        "  if(db_distance > max_distance):\n",
        "    max_distance = db_distance"
      ],
      "execution_count": 0,
      "outputs": []
    },
    {
      "cell_type": "code",
      "metadata": {
        "id": "V05Qcf1k4tj-",
        "colab_type": "code",
        "outputId": "c2faa6b9-e845-4bba-c143-162b34b8a9fb",
        "colab": {
          "base_uri": "https://localhost:8080/",
          "height": 34
        }
      },
      "source": [
        "max_distance"
      ],
      "execution_count": 23,
      "outputs": [
        {
          "output_type": "execute_result",
          "data": {
            "text/plain": [
              "tensor(1)"
            ]
          },
          "metadata": {
            "tags": []
          },
          "execution_count": 23
        }
      ]
    },
    {
      "cell_type": "code",
      "metadata": {
        "id": "3QgSIXJC6EZ4",
        "colab_type": "code",
        "colab": {}
      },
      "source": [
        ""
      ],
      "execution_count": 0,
      "outputs": []
    },
    {
      "cell_type": "code",
      "metadata": {
        "id": "UPON-HUV8DF0",
        "colab_type": "code",
        "colab": {}
      },
      "source": [
        "def sensitivity(query, n_entries=1000):\n",
        "  db, pdbs = create_db_and_parallels(n_entries)\n",
        "  \n",
        "  full_db_result = query(db)\n",
        "  \n",
        "  max_dist = 0\n",
        "  for i in pdbs:\n",
        "    pdb_result = query(i)\n",
        "    \n",
        "    db_distance = torch.abs(pdb_result - full_db_result)\n",
        "    \n",
        "    if(db_distance > max_dist):\n",
        "      max_dist = db_distance\n",
        "      \n",
        "  return max_dist  \n",
        "    "
      ],
      "execution_count": 0,
      "outputs": []
    },
    {
      "cell_type": "code",
      "metadata": {
        "id": "gcsbNhW481Eq",
        "colab_type": "code",
        "colab": {}
      },
      "source": [
        "def query(db):\n",
        "  return db.float().mean()"
      ],
      "execution_count": 0,
      "outputs": []
    },
    {
      "cell_type": "code",
      "metadata": {
        "id": "Gy9AfzNI8q_R",
        "colab_type": "code",
        "outputId": "d63e8a1f-530c-4aa9-c61e-6cb80ec0eba7",
        "colab": {
          "base_uri": "https://localhost:8080/",
          "height": 34
        }
      },
      "source": [
        "sensitivity(query)"
      ],
      "execution_count": 26,
      "outputs": [
        {
          "output_type": "execute_result",
          "data": {
            "text/plain": [
              "tensor(0.0005)"
            ]
          },
          "metadata": {
            "tags": []
          },
          "execution_count": 26
        }
      ]
    },
    {
      "cell_type": "code",
      "metadata": {
        "id": "xHcA8n6f8uFe",
        "colab_type": "code",
        "outputId": "93365e6c-d49f-479a-b845-0d58b5278368",
        "colab": {
          "base_uri": "https://localhost:8080/",
          "height": 34
        }
      },
      "source": [
        "0.5 / 1000"
      ],
      "execution_count": 27,
      "outputs": [
        {
          "output_type": "execute_result",
          "data": {
            "text/plain": [
              "0.0005"
            ]
          },
          "metadata": {
            "tags": []
          },
          "execution_count": 27
        }
      ]
    },
    {
      "cell_type": "markdown",
      "metadata": {
        "id": "3-1ulTlRBPwD",
        "colab_type": "text"
      },
      "source": [
        "**Calculate L1 Sensitivity for Threshold**\n",
        "\n",
        "> Compute sum over the database and check if it greater than a certain threshold\n",
        "\n",
        "\n",
        "\n",
        "> Create 10 databases of size 10 and threshold 5 and calculate the sensitivity of the function.\n",
        "\n",
        "\n",
        "\n",
        "> Reinitialize the database 10 times and calculate sensitivity each time\n",
        "\n",
        "\n",
        "\n",
        "\n",
        "\n",
        "\n"
      ]
    },
    {
      "cell_type": "code",
      "metadata": {
        "id": "qjSfkdEn9DBw",
        "colab_type": "code",
        "colab": {}
      },
      "source": [
        "def query(db, threshold=5):\n",
        "  return (db.sum() > threshold).float()"
      ],
      "execution_count": 0,
      "outputs": []
    },
    {
      "cell_type": "code",
      "metadata": {
        "id": "zlcSAEQqCOh-",
        "colab_type": "code",
        "outputId": "e34cbac9-5877-4a4f-8e3c-843d1ec496ac",
        "colab": {
          "base_uri": "https://localhost:8080/",
          "height": 34
        }
      },
      "source": [
        "db, pdbs = create_db_and_parallels(10)\n",
        "db.sum()                          "
      ],
      "execution_count": 29,
      "outputs": [
        {
          "output_type": "execute_result",
          "data": {
            "text/plain": [
              "tensor(5)"
            ]
          },
          "metadata": {
            "tags": []
          },
          "execution_count": 29
        }
      ]
    },
    {
      "cell_type": "code",
      "metadata": {
        "id": "oO99rCClCWhC",
        "colab_type": "code",
        "outputId": "c13a02e1-37a0-4319-d55a-f150754ec8ef",
        "colab": {
          "base_uri": "https://localhost:8080/",
          "height": 34
        }
      },
      "source": [
        "db.sum() > 5"
      ],
      "execution_count": 30,
      "outputs": [
        {
          "output_type": "execute_result",
          "data": {
            "text/plain": [
              "tensor(0, dtype=torch.uint8)"
            ]
          },
          "metadata": {
            "tags": []
          },
          "execution_count": 30
        }
      ]
    },
    {
      "cell_type": "code",
      "metadata": {
        "id": "eAxcZImaCuFE",
        "colab_type": "code",
        "outputId": "4aa730fb-7b56-4576-a4ce-4b8f107fb057",
        "colab": {
          "base_uri": "https://localhost:8080/",
          "height": 34
        }
      },
      "source": [
        "query(db)"
      ],
      "execution_count": 31,
      "outputs": [
        {
          "output_type": "execute_result",
          "data": {
            "text/plain": [
              "tensor(0.)"
            ]
          },
          "metadata": {
            "tags": []
          },
          "execution_count": 31
        }
      ]
    },
    {
      "cell_type": "code",
      "metadata": {
        "id": "AmvGb8dYCw-K",
        "colab_type": "code",
        "outputId": "f7902060-bb1a-464a-bf73-7f845abcfa2a",
        "colab": {
          "base_uri": "https://localhost:8080/",
          "height": 187
        }
      },
      "source": [
        "for i in range(10):\n",
        "\n",
        "  sens_f = sensitivity(query, n_entries=10)\n",
        "  print(sens_f)"
      ],
      "execution_count": 32,
      "outputs": [
        {
          "output_type": "stream",
          "text": [
            "0\n",
            "0\n",
            "0\n",
            "0\n",
            "0\n",
            "0\n",
            "0\n",
            "0\n",
            "0\n",
            "tensor(1.)\n"
          ],
          "name": "stdout"
        }
      ]
    },
    {
      "cell_type": "code",
      "metadata": {
        "id": "bugwP8twDXmS",
        "colab_type": "code",
        "colab": {}
      },
      "source": [
        ""
      ],
      "execution_count": 0,
      "outputs": []
    },
    {
      "cell_type": "markdown",
      "metadata": {
        "id": "cwSSzNvdJoxV",
        "colab_type": "text"
      },
      "source": [
        "**Perform a Differencing Attack on Row 10**"
      ]
    },
    {
      "cell_type": "code",
      "metadata": {
        "id": "wU8lQa_lJtmM",
        "colab_type": "code",
        "colab": {}
      },
      "source": [
        "db, _ = create_db_and_parallels(100)"
      ],
      "execution_count": 0,
      "outputs": []
    },
    {
      "cell_type": "code",
      "metadata": {
        "id": "n7t4nGHsJ3a0",
        "colab_type": "code",
        "colab": {}
      },
      "source": [
        "pdb = get_parallel_db(db, remove_index=10)"
      ],
      "execution_count": 0,
      "outputs": []
    },
    {
      "cell_type": "code",
      "metadata": {
        "id": "7nue60NbJ6Eb",
        "colab_type": "code",
        "outputId": "1b660387-b032-4455-cf63-37da2f6cb9bd",
        "colab": {
          "base_uri": "https://localhost:8080/",
          "height": 34
        }
      },
      "source": [
        "db[10]"
      ],
      "execution_count": 35,
      "outputs": [
        {
          "output_type": "execute_result",
          "data": {
            "text/plain": [
              "tensor(0, dtype=torch.uint8)"
            ]
          },
          "metadata": {
            "tags": []
          },
          "execution_count": 35
        }
      ]
    },
    {
      "cell_type": "code",
      "metadata": {
        "id": "rCdVvL4xKBli",
        "colab_type": "code",
        "outputId": "910314f8-6241-4ee1-b9ee-d86e9b3a2737",
        "colab": {
          "base_uri": "https://localhost:8080/",
          "height": 34
        }
      },
      "source": [
        "#Differencing Attack using sum query\n",
        "\n",
        "sum(db) == sum(pdb)"
      ],
      "execution_count": 36,
      "outputs": [
        {
          "output_type": "execute_result",
          "data": {
            "text/plain": [
              "tensor(1, dtype=torch.uint8)"
            ]
          },
          "metadata": {
            "tags": []
          },
          "execution_count": 36
        }
      ]
    },
    {
      "cell_type": "code",
      "metadata": {
        "id": "AQbVTbSWKKpW",
        "colab_type": "code",
        "outputId": "7099c97d-837e-4779-b99b-7fb06386040c",
        "colab": {
          "base_uri": "https://localhost:8080/",
          "height": 34
        }
      },
      "source": [
        "#Differencing Attack using mean query\n",
        "\n",
        "(sum(db).float() / len(db)) == (sum(pdb).float() / len(pdb))"
      ],
      "execution_count": 37,
      "outputs": [
        {
          "output_type": "execute_result",
          "data": {
            "text/plain": [
              "tensor(0, dtype=torch.uint8)"
            ]
          },
          "metadata": {
            "tags": []
          },
          "execution_count": 37
        }
      ]
    },
    {
      "cell_type": "code",
      "metadata": {
        "id": "okMoXQSbKaEM",
        "colab_type": "code",
        "outputId": "ead896ea-3cee-472c-ad62-c7b2aaad4658",
        "colab": {
          "base_uri": "https://localhost:8080/",
          "height": 34
        }
      },
      "source": [
        "#Differencing Attack using threshold\n",
        "\n",
        "(sum(db).float() > 49) == (sum(pdb).float() > 49)"
      ],
      "execution_count": 38,
      "outputs": [
        {
          "output_type": "execute_result",
          "data": {
            "text/plain": [
              "tensor(1, dtype=torch.uint8)"
            ]
          },
          "metadata": {
            "tags": []
          },
          "execution_count": 38
        }
      ]
    },
    {
      "cell_type": "markdown",
      "metadata": {
        "id": "5RQrBKZ5m2SX",
        "colab_type": "text"
      },
      "source": [
        "Project: **Local Differential Privacy**"
      ]
    },
    {
      "cell_type": "code",
      "metadata": {
        "id": "LPviQf0hK7Hb",
        "colab_type": "code",
        "colab": {}
      },
      "source": [
        "db, pdbs = create_db_and_parallels(100)"
      ],
      "execution_count": 0,
      "outputs": []
    },
    {
      "cell_type": "code",
      "metadata": {
        "id": "wQF3dcN5nMtS",
        "colab_type": "code",
        "outputId": "a291564b-5453-4fb0-e74b-1fa46ad2768a",
        "colab": {
          "base_uri": "https://localhost:8080/",
          "height": 102
        }
      },
      "source": [
        "db"
      ],
      "execution_count": 40,
      "outputs": [
        {
          "output_type": "execute_result",
          "data": {
            "text/plain": [
              "tensor([1, 1, 1, 1, 1, 0, 0, 0, 0, 1, 1, 1, 1, 0, 1, 0, 1, 0, 1, 1, 0, 0, 1, 1,\n",
              "        0, 1, 0, 1, 1, 1, 1, 1, 0, 0, 0, 0, 0, 0, 0, 0, 0, 1, 0, 1, 0, 0, 1, 1,\n",
              "        0, 1, 1, 1, 1, 0, 0, 1, 0, 1, 0, 0, 0, 0, 0, 1, 1, 0, 1, 1, 1, 1, 0, 0,\n",
              "        1, 1, 0, 1, 1, 0, 0, 0, 1, 0, 0, 1, 1, 0, 1, 0, 0, 0, 1, 1, 0, 1, 1, 0,\n",
              "        1, 0, 1, 1], dtype=torch.uint8)"
            ]
          },
          "metadata": {
            "tags": []
          },
          "execution_count": 40
        }
      ]
    },
    {
      "cell_type": "code",
      "metadata": {
        "id": "VdbvPdIJnTmc",
        "colab_type": "code",
        "colab": {}
      },
      "source": [
        "first_coin_flip = (torch.rand(len(db)) > 0.5)\n",
        "second_coin_flip = (torch.rand(len(db)) > 0.5)"
      ],
      "execution_count": 0,
      "outputs": []
    },
    {
      "cell_type": "code",
      "metadata": {
        "id": "GeXNm6AVnTiS",
        "colab_type": "code",
        "outputId": "8764deef-4d02-4354-b522-76b42844ea63",
        "colab": {
          "base_uri": "https://localhost:8080/",
          "height": 102
        }
      },
      "source": [
        "first_coin_flip"
      ],
      "execution_count": 42,
      "outputs": [
        {
          "output_type": "execute_result",
          "data": {
            "text/plain": [
              "tensor([1, 0, 0, 0, 1, 0, 0, 0, 0, 0, 1, 1, 1, 0, 1, 1, 0, 1, 1, 0, 0, 0, 1, 0,\n",
              "        1, 0, 1, 0, 1, 1, 1, 0, 1, 0, 0, 0, 0, 0, 0, 0, 0, 0, 1, 1, 1, 0, 0, 0,\n",
              "        0, 0, 1, 1, 0, 1, 0, 0, 1, 1, 1, 1, 1, 0, 1, 0, 1, 0, 1, 0, 1, 0, 1, 1,\n",
              "        1, 0, 0, 1, 1, 0, 0, 1, 1, 1, 0, 0, 0, 0, 0, 0, 1, 0, 1, 1, 0, 1, 0, 1,\n",
              "        1, 0, 0, 0], dtype=torch.uint8)"
            ]
          },
          "metadata": {
            "tags": []
          },
          "execution_count": 42
        }
      ]
    },
    {
      "cell_type": "code",
      "metadata": {
        "id": "sKgBdmQ9nTY7",
        "colab_type": "code",
        "outputId": "a26b6996-7cd6-4622-aa93-3c8aa27f0332",
        "colab": {
          "base_uri": "https://localhost:8080/",
          "height": 102
        }
      },
      "source": [
        "second_coin_flip"
      ],
      "execution_count": 43,
      "outputs": [
        {
          "output_type": "execute_result",
          "data": {
            "text/plain": [
              "tensor([0, 1, 1, 1, 1, 0, 0, 1, 1, 0, 0, 0, 0, 1, 1, 1, 0, 0, 1, 1, 1, 1, 1, 0,\n",
              "        1, 1, 0, 1, 1, 0, 1, 0, 0, 1, 0, 0, 0, 0, 1, 0, 1, 0, 0, 1, 0, 1, 1, 0,\n",
              "        0, 1, 1, 1, 0, 0, 1, 0, 0, 0, 1, 1, 0, 0, 0, 1, 1, 1, 0, 1, 1, 0, 1, 1,\n",
              "        0, 1, 0, 1, 1, 1, 0, 1, 1, 0, 1, 0, 0, 0, 0, 1, 1, 0, 1, 0, 1, 1, 0, 1,\n",
              "        0, 0, 1, 1], dtype=torch.uint8)"
            ]
          },
          "metadata": {
            "tags": []
          },
          "execution_count": 43
        }
      ]
    },
    {
      "cell_type": "code",
      "metadata": {
        "id": "ekixYi5Pnlw1",
        "colab_type": "code",
        "outputId": "ddff5cb6-aa88-461a-98ed-bf03ab3fec86",
        "colab": {
          "base_uri": "https://localhost:8080/",
          "height": 102
        }
      },
      "source": [
        "db * first_coin_flip"
      ],
      "execution_count": 44,
      "outputs": [
        {
          "output_type": "execute_result",
          "data": {
            "text/plain": [
              "tensor([1, 0, 0, 0, 1, 0, 0, 0, 0, 0, 1, 1, 1, 0, 1, 0, 0, 0, 1, 0, 0, 0, 1, 0,\n",
              "        0, 0, 0, 0, 1, 1, 1, 0, 0, 0, 0, 0, 0, 0, 0, 0, 0, 0, 0, 1, 0, 0, 0, 0,\n",
              "        0, 0, 1, 1, 0, 0, 0, 0, 0, 1, 0, 0, 0, 0, 0, 0, 1, 0, 1, 0, 1, 0, 0, 0,\n",
              "        1, 0, 0, 1, 1, 0, 0, 0, 1, 0, 0, 0, 0, 0, 0, 0, 0, 0, 1, 1, 0, 1, 0, 0,\n",
              "        1, 0, 0, 0], dtype=torch.uint8)"
            ]
          },
          "metadata": {
            "tags": []
          },
          "execution_count": 44
        }
      ]
    },
    {
      "cell_type": "code",
      "metadata": {
        "id": "IZ5TUYnjnlrA",
        "colab_type": "code",
        "colab": {}
      },
      "source": [
        ""
      ],
      "execution_count": 0,
      "outputs": []
    },
    {
      "cell_type": "code",
      "metadata": {
        "id": "zmX_WwCWnDKM",
        "colab_type": "code",
        "outputId": "ee6d0d35-03b7-4d75-ac67-2da6bae555ff",
        "colab": {
          "base_uri": "https://localhost:8080/",
          "height": 34
        }
      },
      "source": [
        "true_result = torch.mean(db.float())\n",
        "true_result"
      ],
      "execution_count": 45,
      "outputs": [
        {
          "output_type": "execute_result",
          "data": {
            "text/plain": [
              "tensor(0.5200)"
            ]
          },
          "metadata": {
            "tags": []
          },
          "execution_count": 45
        }
      ]
    },
    {
      "cell_type": "markdown",
      "metadata": {
        "id": "RICdsunfcxmS",
        "colab_type": "text"
      },
      "source": [
        "Randomized Response (Local Differential Privacy)\n",
        "\n",
        "- Flip a coin 2 times.\n",
        "\n",
        "- If the first coin flip is heads, answer honestly.\n",
        "\n",
        "- If the first coin flip is tails, answer according to the second coin flip(heads for yes, tails for no)!\n",
        "\n",
        "This is called 'Plausible Deniability'"
      ]
    },
    {
      "cell_type": "code",
      "metadata": {
        "id": "iqFJ6pyJnJtM",
        "colab_type": "code",
        "colab": {}
      },
      "source": [
        "db, pdbs = create_db_and_parallels(100)"
      ],
      "execution_count": 0,
      "outputs": []
    },
    {
      "cell_type": "code",
      "metadata": {
        "id": "JVYfvydajKf4",
        "colab_type": "code",
        "outputId": "cb0814dd-a34d-4230-c794-2a57bbe76128",
        "colab": {
          "base_uri": "https://localhost:8080/",
          "height": 102
        }
      },
      "source": [
        "db"
      ],
      "execution_count": 47,
      "outputs": [
        {
          "output_type": "execute_result",
          "data": {
            "text/plain": [
              "tensor([0, 0, 1, 0, 0, 1, 1, 1, 0, 1, 1, 0, 1, 1, 0, 0, 0, 0, 0, 0, 0, 1, 1, 1,\n",
              "        0, 0, 0, 1, 0, 0, 0, 1, 1, 1, 1, 1, 0, 1, 1, 1, 0, 1, 1, 0, 0, 1, 0, 1,\n",
              "        1, 0, 1, 0, 0, 0, 0, 1, 1, 1, 0, 1, 1, 0, 0, 1, 0, 1, 1, 0, 0, 0, 0, 1,\n",
              "        1, 1, 0, 0, 1, 0, 0, 0, 1, 1, 1, 1, 0, 1, 0, 1, 0, 1, 1, 1, 1, 1, 1, 0,\n",
              "        1, 1, 0, 1], dtype=torch.uint8)"
            ]
          },
          "metadata": {
            "tags": []
          },
          "execution_count": 47
        }
      ]
    },
    {
      "cell_type": "code",
      "metadata": {
        "id": "dMWGkKKYjLFG",
        "colab_type": "code",
        "colab": {
          "base_uri": "https://localhost:8080/",
          "height": 34
        },
        "outputId": "160d21de-975b-4271-c606-e164da978682"
      },
      "source": [
        "true_result  "
      ],
      "execution_count": 48,
      "outputs": [
        {
          "output_type": "execute_result",
          "data": {
            "text/plain": [
              "tensor(0.5200)"
            ]
          },
          "metadata": {
            "tags": []
          },
          "execution_count": 48
        }
      ]
    }
  ]
}